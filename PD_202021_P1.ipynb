{
  "nbformat": 4,
  "nbformat_minor": 0,
  "metadata": {
    "kernelspec": {
      "display_name": "Python 3",
      "language": "python",
      "name": "python3"
    },
    "language_info": {
      "codemirror_mode": {
        "name": "ipython",
        "version": 3
      },
      "file_extension": ".py",
      "mimetype": "text/x-python",
      "name": "python",
      "nbconvert_exporter": "python",
      "pygments_lexer": "ipython3",
      "version": "3.8.5"
    },
    "colab": {
      "name": "PD_202021_P1.ipynb",
      "provenance": [],
      "collapsed_sections": [],
      "include_colab_link": true
    }
  },
  "cells": [
    {
      "cell_type": "markdown",
      "metadata": {
        "id": "view-in-github",
        "colab_type": "text"
      },
      "source": [
        "<a href=\"https://colab.research.google.com/github/iamemc/PD_01/blob/main/PD_202021_P1.ipynb\" target=\"_parent\"><img src=\"https://colab.research.google.com/assets/colab-badge.svg\" alt=\"Open In Colab\"/></a>"
      ]
    },
    {
      "cell_type": "markdown",
      "metadata": {
        "id": "mDNH3eJgN0TE"
      },
      "source": [
        "# Data Mining / Prospeção de Dados\n",
        "\n",
        "## Diogo Soares and Sara C. Madeira, 2020/21\n",
        "\n",
        "# Project 1 - Pattern Mining"
      ]
    },
    {
      "cell_type": "markdown",
      "metadata": {
        "id": "a9uj2jIqN0TM"
      },
      "source": [
        "## Logistics \n",
        "**_Read Carefully_**\n",
        "\n",
        "**Students should work in teams of 2 or 3 people**. \n",
        "\n",
        "**TASK 3 - Spring vs Summer Purchases** must be done only by groups of 3 people.\n",
        "\n",
        "Individual projects might be allowed (with valid justification), but will not have better grades for this reason. \n",
        "\n",
        "The quality of the project will dictate its grade, not the number of people working.\n",
        "\n",
        "**The project's solution should be uploaded in Moodle before the end of `March, 28th (23:59)`.** \n",
        "\n",
        "Students should **upload a `.zip` file** containing all the files necessary for project evaluation. \n",
        "Groups should be registered in [Moodle](https://moodle.ciencias.ulisboa.pt/mod/groupselect/view.php?id=139096) and the zip file should be identified as `PDnn.zip` where `nn` is the number of your group.\n",
        "\n",
        "**It is mandatory to produce a Jupyter notebook containing code and text/images/tables/etc describing the solution and the results. Projects not delivered in this format will not be graded. You can use `PD_202021_P1.ipynb`as template. In your `.zip` folder you should also include an HTML version of your notebook with all the outputs** (File > Download as > HTML).\n",
        "\n",
        "**Decisions should be justified and results should be critically discussed.** \n",
        "\n",
        "_Project solutions containing only code and outputs without discussions will achieve a maximum grade 10 out of 20._"
      ]
    },
    {
      "cell_type": "markdown",
      "metadata": {
        "id": "WDY13YwuN0TN"
      },
      "source": [
        "## Dataset and Tools\n",
        "\n",
        "\n",
        "\n",
        "In this project you will analyse data from an online Store collected over 4 months (April - July 2014). The folder `data` contains three files that you should use to obtain the dataset to be used in pattern mining. \n",
        "\n",
        "The file `store-buys.dat` comprises the buy events of the users over the items. It contains **318.444 sessions**. Each record/line in the file has the following fields (with this order): \n",
        "\n",
        "* **Session ID** - the id of the session. In one session there are one or many buying events. Could be represented as an integer number.\n",
        "* **Timestamp** - the time when the buy occurred. Format of YYYY-MM-DDThh:mm:ss.SSSZ\n",
        "* **Item ID** – the unique identifier of item that has been bought. Could be represented as an integer number. \n",
        "* **Price** – the price of the item. Could be represented as an integer number.\n",
        "* **Quantity** – the quantity in this buying.  Could be represented as an integer number.\n",
        "\n",
        "The file `store-clicks.dat` comprises the clicks of the users over the items. It contains **5.613.499 sessions**.  Each record/line in the file has the following fields (with this order):\n",
        "\n",
        "* **Session ID** – the id of the session. In one session there are one or many clicks. Could be represented as an integer number.\n",
        "* **Timestamp** – the time when the click occurred. Format of YYYY-MM-DDThh:mm:ss.SSSZ\n",
        "* **Item ID** – the unique identifier of the item that has been clicked. Could be represented as an integer number.\n",
        "* **Context** – the context of the click. The value \"S\" indicates a special offer, \"0\" indicates  a missing value, a number between 1 to 12 indicates a real category identifier,\n",
        "any other number indicates a brand. E.g. if an item has been clicked in the context of a promotion or special offer then the value will be \"S\", if the context was a brand i.e BOSCH,\n",
        "then the value will be an 8-10 digits number. If the item has been clicked under regular category, i.e. sport, then the value will be a number between 1 to 12. \n",
        " \n",
        "The file `products.csv` comprises the list of products sold by the online store. It contains **46.294 different products** associated with **123 different subcategories**. Each record/line in the file has the following fields:\n",
        "\n",
        "* **Item ID** - the unique identifier of the item. Could be represented as an integer number. \n",
        "* **Product Categories** - the category and subcategories of the item. It is a string containing the category and subcategories of the item. Eg. `appliances.kitchen.juice`\n",
        "\n",
        "\n",
        "In this project you should use [Python 3](https://www.python.org), [Jupyter Notebook](http://jupyter.org) and **[MLxtend](http://rasbt.github.io/mlxtend/)**. When using MLxtend, frequent patterns can either be discovered using `Apriori` and `FP-Growth`. **Choose the pattern mining algorithm to be used.** \n"
      ]
    },
    {
      "cell_type": "markdown",
      "metadata": {
        "id": "cM_QHhWnN0TO"
      },
      "source": [
        "## Team Identification\n",
        "\n",
        "**GROUP PD03**\n",
        "\n",
        "Students:\n",
        "\n",
        "* Eduardo Carvalho - nº55881\n",
        "* Filipe Santos - nº55142\n",
        "* Ivo Oliveira - nº50301"
      ]
    },
    {
      "cell_type": "markdown",
      "metadata": {
        "id": "zxjFy6emN0TP"
      },
      "source": [
        "## 1. Mining Frequent Itemsets and Association Rules\n",
        "\n",
        "\n",
        "In this first part of the project you should load and preprocess the dataset  in order to compute frequent itemsets and generate association rules considering all the sessions."
      ]
    },
    {
      "cell_type": "markdown",
      "metadata": {
        "id": "Vg_C5lWnN0TQ"
      },
      "source": [
        "**In what follows keep the following question in mind and be creative!**\n",
        "\n",
        "1. What are the most interesting products?\n",
        "2. What are the most bought products?\n",
        "3. Which products are bought together?\n",
        "4. Can you find associations between the clicked products? \n",
        "5. Can you find associations highliting that when people buy a product/set of products also buy other product(s)?\n",
        "6. Can you find associations highliting that when people click in a product/set of products also buy this product(s)?\n",
        "7. Can you find relevant associated categories? "
      ]
    },
    {
      "cell_type": "markdown",
      "metadata": {
        "id": "1sip5BTVN0TQ"
      },
      "source": [
        "### 1.1. Load and Preprocess Data\n",
        "\n",
        " **Product quantities should not be considered.**"
      ]
    },
    {
      "cell_type": "code",
      "metadata": {
        "id": "B91Kkqn7UPtp",
        "colab": {
          "base_uri": "https://localhost:8080/"
        },
        "outputId": "87f3c859-7c03-4f2f-c739-484d40cc6102"
      },
      "source": [
        "#!pip install mlxtend\n",
        "!pip install mlxtend --upgrade\n",
        "\n",
        "import pandas as pd\n",
        "import numpy as np\n",
        "import matplotlib.pyplot as plt\n",
        "from matplotlib.collections import QuadMesh\n",
        "from matplotlib.text import Text\n",
        "import seaborn as sns\n",
        "from mlxtend.preprocessing import  TransactionEncoder\n",
        "from mlxtend.frequent_patterns import apriori\n",
        "from mlxtend.frequent_patterns import association_rules\n",
        "from mlxtend.frequent_patterns import fpgrowth"
      ],
      "execution_count": 427,
      "outputs": [
        {
          "output_type": "stream",
          "text": [
            "Requirement already up-to-date: mlxtend in /usr/local/lib/python3.7/dist-packages (0.18.0)\n",
            "Requirement already satisfied, skipping upgrade: joblib>=0.13.2 in /usr/local/lib/python3.7/dist-packages (from mlxtend) (1.0.1)\n",
            "Requirement already satisfied, skipping upgrade: numpy>=1.16.2 in /usr/local/lib/python3.7/dist-packages (from mlxtend) (1.19.5)\n",
            "Requirement already satisfied, skipping upgrade: scipy>=1.2.1 in /usr/local/lib/python3.7/dist-packages (from mlxtend) (1.4.1)\n",
            "Requirement already satisfied, skipping upgrade: pandas>=0.24.2 in /usr/local/lib/python3.7/dist-packages (from mlxtend) (1.1.5)\n",
            "Requirement already satisfied, skipping upgrade: matplotlib>=3.0.0 in /usr/local/lib/python3.7/dist-packages (from mlxtend) (3.2.2)\n",
            "Requirement already satisfied, skipping upgrade: setuptools in /usr/local/lib/python3.7/dist-packages (from mlxtend) (54.1.2)\n",
            "Requirement already satisfied, skipping upgrade: scikit-learn>=0.20.3 in /usr/local/lib/python3.7/dist-packages (from mlxtend) (0.22.2.post1)\n",
            "Requirement already satisfied, skipping upgrade: pytz>=2017.2 in /usr/local/lib/python3.7/dist-packages (from pandas>=0.24.2->mlxtend) (2018.9)\n",
            "Requirement already satisfied, skipping upgrade: python-dateutil>=2.7.3 in /usr/local/lib/python3.7/dist-packages (from pandas>=0.24.2->mlxtend) (2.8.1)\n",
            "Requirement already satisfied, skipping upgrade: cycler>=0.10 in /usr/local/lib/python3.7/dist-packages (from matplotlib>=3.0.0->mlxtend) (0.10.0)\n",
            "Requirement already satisfied, skipping upgrade: kiwisolver>=1.0.1 in /usr/local/lib/python3.7/dist-packages (from matplotlib>=3.0.0->mlxtend) (1.3.1)\n",
            "Requirement already satisfied, skipping upgrade: pyparsing!=2.0.4,!=2.1.2,!=2.1.6,>=2.0.1 in /usr/local/lib/python3.7/dist-packages (from matplotlib>=3.0.0->mlxtend) (2.4.7)\n",
            "Requirement already satisfied, skipping upgrade: six>=1.5 in /usr/local/lib/python3.7/dist-packages (from python-dateutil>=2.7.3->pandas>=0.24.2->mlxtend) (1.15.0)\n"
          ],
          "name": "stdout"
        }
      ]
    },
    {
      "cell_type": "code",
      "metadata": {
        "colab": {
          "base_uri": "https://localhost:8080/"
        },
        "id": "WNqxZ80XWZv_",
        "outputId": "0f2480e6-7c2e-4ec0-bb8c-82faf8e269c6"
      },
      "source": [
        "from google.colab import drive\n",
        "drive.mount('/content/drive')"
      ],
      "execution_count": 428,
      "outputs": [
        {
          "output_type": "stream",
          "text": [
            "Drive already mounted at /content/drive; to attempt to forcibly remount, call drive.mount(\"/content/drive\", force_remount=True).\n"
          ],
          "name": "stdout"
        }
      ]
    },
    {
      "cell_type": "code",
      "metadata": {
        "id": "NKIFWC5aWfje"
      },
      "source": [
        "products=pd.read_csv('/content/drive/MyDrive/Datasets/projetoPD/products.csv',\n",
        "                     header=None,\n",
        "                     names=['ItemID','Category'],\n",
        "                     dtype={'ItemID': int, 'Category':str})\n",
        "buys=pd.read_csv('/content/drive/MyDrive/Datasets/projetoPD/store-buys.dat', \n",
        "                 header=None,\n",
        "                 names=['SessionID','TimeStamp','ItemID','Price','Qty'],\n",
        "                 dtype={'SessionID':np.int32, 'TimeStamp':str, 'ItemID': np.int32, \n",
        "                        'Price':np.int16, 'Qty':np.int8})\n",
        "clicks=pd.read_csv('/content/drive/MyDrive/Datasets/projetoPD/store-clicks.dat', \n",
        "                   header=None,\n",
        "                   nrows=1000000,\n",
        "                   names=['SessionID','TimeStamp','ItemID','Context'],\n",
        "                   dtype={'SessionID':np.int32, 'TimeStamp':str, 'ItemID': np.int32, \n",
        "                        'Context':str})"
      ],
      "execution_count": 429,
      "outputs": []
    },
    {
      "cell_type": "code",
      "metadata": {
        "colab": {
          "base_uri": "https://localhost:8080/"
        },
        "id": "1GnzgyWsX-wU",
        "outputId": "dc161c50-d58f-436b-ddd7-c725c39abf65"
      },
      "source": [
        "buys.info()"
      ],
      "execution_count": 430,
      "outputs": [
        {
          "output_type": "stream",
          "text": [
            "<class 'pandas.core.frame.DataFrame'>\n",
            "RangeIndex: 679489 entries, 0 to 679488\n",
            "Data columns (total 5 columns):\n",
            " #   Column     Non-Null Count   Dtype \n",
            "---  ------     --------------   ----- \n",
            " 0   SessionID  679489 non-null  int32 \n",
            " 1   TimeStamp  679489 non-null  object\n",
            " 2   ItemID     679489 non-null  int32 \n",
            " 3   Price      679489 non-null  int16 \n",
            " 4   Qty        679489 non-null  int8  \n",
            "dtypes: int16(1), int32(2), int8(1), object(1)\n",
            "memory usage: 12.3+ MB\n"
          ],
          "name": "stdout"
        }
      ]
    },
    {
      "cell_type": "code",
      "metadata": {
        "colab": {
          "base_uri": "https://localhost:8080/"
        },
        "id": "ncGu-Ba8YL2O",
        "outputId": "2426c8be-f196-494e-b9db-17409bc5ac2b"
      },
      "source": [
        "clicks.info()"
      ],
      "execution_count": 431,
      "outputs": [
        {
          "output_type": "stream",
          "text": [
            "<class 'pandas.core.frame.DataFrame'>\n",
            "RangeIndex: 1000000 entries, 0 to 999999\n",
            "Data columns (total 4 columns):\n",
            " #   Column     Non-Null Count    Dtype \n",
            "---  ------     --------------    ----- \n",
            " 0   SessionID  1000000 non-null  int32 \n",
            " 1   TimeStamp  1000000 non-null  object\n",
            " 2   ItemID     1000000 non-null  int32 \n",
            " 3   Context    1000000 non-null  object\n",
            "dtypes: int32(2), object(2)\n",
            "memory usage: 22.9+ MB\n"
          ],
          "name": "stdout"
        }
      ]
    },
    {
      "cell_type": "code",
      "metadata": {
        "colab": {
          "base_uri": "https://localhost:8080/",
          "height": 424
        },
        "id": "ZTz2Y-u09rbA",
        "outputId": "26f07bd4-9d53-4d78-faca-fd21acbd39b2"
      },
      "source": [
        "\"\"\"\n",
        "DATABASE CORRECTIONS\n",
        "products_no_duplicates - removed duplicates\n",
        "buys_upd - added product names & season\n",
        "\n",
        "rows with Price or Qty == 0 have been dropped\n",
        "\"\"\"\n",
        "\n",
        "products_no_duplicates = products.drop_duplicates().reset_index(drop=True)\n",
        "\n",
        "buys_upd =pd.merge(buys,products_no_duplicates)\n",
        "clicks_upd= pd.merge(clicks,products_no_duplicates)\n",
        "\n",
        "#ignore prices/quantities of 0\n",
        "#buys_upd = buys_upd[buys_upd.Price>0]\n",
        "#buys_upd = buys_upd[buys_upd.Qty>0]\n",
        "#no click_upd ver context=0 (missing value)\n",
        "\n",
        "product_name_buys=[]\n",
        "for cat in buys_upd.Category:\n",
        "  product_name_buys.append(cat.split('.')[-1].replace('_',' ').title())\n",
        "product_name_clicks=[]\n",
        "for cat in clicks_upd.Category:\n",
        "  product_name_clicks.append(cat.split('.')[-1].replace('_',' ').title())\n",
        "#product_name[:5]\n",
        "\n",
        "buys_upd['ProductName']=product_name_buys\n",
        "buys_upd.head(5)\n",
        "buys_upd=buys_upd.drop('Category', axis=1)\n",
        "clicks_upd['ProductName']=product_name_clicks\n",
        "clicks_upd=clicks_upd.drop('Category', axis=1)\n",
        "\n",
        "dates_buys =[]\n",
        "season_buys =[]\n",
        "dates_clicks =[]\n",
        "season_clicks =[]\n",
        "\n",
        "for i in buys_upd[\"TimeStamp\"]:\n",
        "  dates_buys.append(i[:10])\n",
        "  if i[5:7] == \"04\" or i[5:7] == \"05\":\n",
        "     season_buys.append(\"Spring\")\n",
        "  elif i[5:7] == \"06\" or i[5:7] == \"07\":\n",
        "    season_buys.append(\"Summer\")\n",
        "  else:\n",
        "    season_buys.append(\"Other\")\n",
        "\n",
        "for i in clicks_upd[\"TimeStamp\"]:\n",
        "  dates_clicks.append(i[:10])\n",
        "  if i[5:7] == \"04\" or i[5:7] == \"05\":\n",
        "     season_clicks.append(\"Spring\")\n",
        "  elif i[5:7] == \"06\" or i[5:7] == \"07\":\n",
        "    season_clicks.append(\"Summer\")\n",
        "  else:\n",
        "    season_clicks.append(\"Other\")\n",
        "\n",
        "weekday_buys=[]\n",
        "buys_upd[\"TimeStamp\"] = pd.to_datetime(buys_upd[\"TimeStamp\"])\n",
        "buys_upd[\"Weekday_Num\"]=buys_upd[\"TimeStamp\"].dt.dayofweek \n",
        "\n",
        "for i in buys_upd[\"Weekday_Num\"]:\n",
        "  if i < 5: \n",
        "    weekday_buys.append(\"Weekday\")\n",
        "  else :\n",
        "    weekday_buys.append(\"Weekend\")\n",
        "\n",
        "weekday_clicks=[]\n",
        "clicks_upd[\"TimeStamp\"] = pd.to_datetime(clicks_upd[\"TimeStamp\"])\n",
        "clicks_upd[\"Weekday_Num\"]=clicks_upd[\"TimeStamp\"].dt.dayofweek \n",
        "\n",
        "for i in clicks_upd[\"Weekday_Num\"]:\n",
        "  if i < 5: \n",
        "    weekday_clicks.append(\"Weekday\")\n",
        "  else :\n",
        "    weekday_clicks.append(\"Weekend\")\n",
        "  \n",
        "buys_upd = buys_upd.drop(columns=['TimeStamp'])\n",
        "buys_upd.insert(1, \"TimeStamp\", dates_buys)\n",
        "buys_upd[\"Season\"] = season_buys\n",
        "buys_upd[\"Weekday\"] = weekday_buys\n",
        "buys_upd.sort_values(by='TimeStamp')\n",
        "\n",
        "clicks_upd = clicks_upd.drop(columns=['TimeStamp'])\n",
        "clicks_upd.insert(1, \"TimeStamp\", dates_clicks)\n",
        "clicks_upd[\"Season\"] = season_clicks\n",
        "clicks_upd[\"Weekday\"] = weekday_clicks\n",
        "clicks_upd.sort_values(by='TimeStamp')"
      ],
      "execution_count": 432,
      "outputs": [
        {
          "output_type": "execute_result",
          "data": {
            "text/html": [
              "<div>\n",
              "<style scoped>\n",
              "    .dataframe tbody tr th:only-of-type {\n",
              "        vertical-align: middle;\n",
              "    }\n",
              "\n",
              "    .dataframe tbody tr th {\n",
              "        vertical-align: top;\n",
              "    }\n",
              "\n",
              "    .dataframe thead th {\n",
              "        text-align: right;\n",
              "    }\n",
              "</style>\n",
              "<table border=\"1\" class=\"dataframe\">\n",
              "  <thead>\n",
              "    <tr style=\"text-align: right;\">\n",
              "      <th></th>\n",
              "      <th>SessionID</th>\n",
              "      <th>TimeStamp</th>\n",
              "      <th>ItemID</th>\n",
              "      <th>Context</th>\n",
              "      <th>ProductName</th>\n",
              "      <th>Weekday_Num</th>\n",
              "      <th>Season</th>\n",
              "      <th>Weekday</th>\n",
              "    </tr>\n",
              "  </thead>\n",
              "  <tbody>\n",
              "    <tr>\n",
              "      <th>731408</th>\n",
              "      <td>192062</td>\n",
              "      <td>2014-04-01</td>\n",
              "      <td>214835126</td>\n",
              "      <td>0</td>\n",
              "      <td>Toster</td>\n",
              "      <td>1</td>\n",
              "      <td>Spring</td>\n",
              "      <td>Weekday</td>\n",
              "    </tr>\n",
              "    <tr>\n",
              "      <th>706806</th>\n",
              "      <td>88983</td>\n",
              "      <td>2014-04-01</td>\n",
              "      <td>214820394</td>\n",
              "      <td>0</td>\n",
              "      <td>Meat Grinder</td>\n",
              "      <td>1</td>\n",
              "      <td>Spring</td>\n",
              "      <td>Weekday</td>\n",
              "    </tr>\n",
              "    <tr>\n",
              "      <th>706805</th>\n",
              "      <td>88983</td>\n",
              "      <td>2014-04-01</td>\n",
              "      <td>214820394</td>\n",
              "      <td>0</td>\n",
              "      <td>Meat Grinder</td>\n",
              "      <td>1</td>\n",
              "      <td>Spring</td>\n",
              "      <td>Weekday</td>\n",
              "    </tr>\n",
              "    <tr>\n",
              "      <th>706804</th>\n",
              "      <td>88983</td>\n",
              "      <td>2014-04-01</td>\n",
              "      <td>214820394</td>\n",
              "      <td>0</td>\n",
              "      <td>Meat Grinder</td>\n",
              "      <td>1</td>\n",
              "      <td>Spring</td>\n",
              "      <td>Weekday</td>\n",
              "    </tr>\n",
              "    <tr>\n",
              "      <th>706803</th>\n",
              "      <td>88983</td>\n",
              "      <td>2014-04-01</td>\n",
              "      <td>214820394</td>\n",
              "      <td>0</td>\n",
              "      <td>Meat Grinder</td>\n",
              "      <td>1</td>\n",
              "      <td>Spring</td>\n",
              "      <td>Weekday</td>\n",
              "    </tr>\n",
              "    <tr>\n",
              "      <th>...</th>\n",
              "      <td>...</td>\n",
              "      <td>...</td>\n",
              "      <td>...</td>\n",
              "      <td>...</td>\n",
              "      <td>...</td>\n",
              "      <td>...</td>\n",
              "      <td>...</td>\n",
              "      <td>...</td>\n",
              "    </tr>\n",
              "    <tr>\n",
              "      <th>52627</th>\n",
              "      <td>116348</td>\n",
              "      <td>2014-04-08</td>\n",
              "      <td>214821309</td>\n",
              "      <td>0</td>\n",
              "      <td>Blender</td>\n",
              "      <td>1</td>\n",
              "      <td>Spring</td>\n",
              "      <td>Weekday</td>\n",
              "    </tr>\n",
              "    <tr>\n",
              "      <th>994078</th>\n",
              "      <td>175544</td>\n",
              "      <td>2014-04-08</td>\n",
              "      <td>214536562</td>\n",
              "      <td>0</td>\n",
              "      <td>Tablet</td>\n",
              "      <td>1</td>\n",
              "      <td>Spring</td>\n",
              "      <td>Weekday</td>\n",
              "    </tr>\n",
              "    <tr>\n",
              "      <th>736192</th>\n",
              "      <td>252159</td>\n",
              "      <td>2014-04-08</td>\n",
              "      <td>214705115</td>\n",
              "      <td>0</td>\n",
              "      <td>Cultivator</td>\n",
              "      <td>1</td>\n",
              "      <td>Spring</td>\n",
              "      <td>Weekday</td>\n",
              "    </tr>\n",
              "    <tr>\n",
              "      <th>44141</th>\n",
              "      <td>296848</td>\n",
              "      <td>2014-04-08</td>\n",
              "      <td>214837485</td>\n",
              "      <td>0</td>\n",
              "      <td>Microwave</td>\n",
              "      <td>1</td>\n",
              "      <td>Spring</td>\n",
              "      <td>Weekday</td>\n",
              "    </tr>\n",
              "    <tr>\n",
              "      <th>624472</th>\n",
              "      <td>41443</td>\n",
              "      <td>2014-04-08</td>\n",
              "      <td>214710309</td>\n",
              "      <td>0</td>\n",
              "      <td>Massager</td>\n",
              "      <td>1</td>\n",
              "      <td>Spring</td>\n",
              "      <td>Weekday</td>\n",
              "    </tr>\n",
              "  </tbody>\n",
              "</table>\n",
              "<p>1000000 rows × 8 columns</p>\n",
              "</div>"
            ],
            "text/plain": [
              "        SessionID   TimeStamp     ItemID  ... Weekday_Num  Season  Weekday\n",
              "731408     192062  2014-04-01  214835126  ...           1  Spring  Weekday\n",
              "706806      88983  2014-04-01  214820394  ...           1  Spring  Weekday\n",
              "706805      88983  2014-04-01  214820394  ...           1  Spring  Weekday\n",
              "706804      88983  2014-04-01  214820394  ...           1  Spring  Weekday\n",
              "706803      88983  2014-04-01  214820394  ...           1  Spring  Weekday\n",
              "...           ...         ...        ...  ...         ...     ...      ...\n",
              "52627      116348  2014-04-08  214821309  ...           1  Spring  Weekday\n",
              "994078     175544  2014-04-08  214536562  ...           1  Spring  Weekday\n",
              "736192     252159  2014-04-08  214705115  ...           1  Spring  Weekday\n",
              "44141      296848  2014-04-08  214837485  ...           1  Spring  Weekday\n",
              "624472      41443  2014-04-08  214710309  ...           1  Spring  Weekday\n",
              "\n",
              "[1000000 rows x 8 columns]"
            ]
          },
          "metadata": {
            "tags": []
          },
          "execution_count": 432
        }
      ]
    },
    {
      "cell_type": "code",
      "metadata": {
        "id": "IWXryR7jXqam"
      },
      "source": [
        "buys_upd=buys_upd.sort_values(by='SessionID').reset_index(drop=True)\n",
        "buys_upd.head()"
      ],
      "execution_count": null,
      "outputs": []
    },
    {
      "cell_type": "markdown",
      "metadata": {
        "id": "7rwLtqj_iI2L"
      },
      "source": [
        "Existem 113 registos duplicados. Precisamos de os remover para avançar com a análise."
      ]
    },
    {
      "cell_type": "code",
      "metadata": {
        "id": "HU_U5TpgiU4m"
      },
      "source": [
        "buys_upd=buys_upd.drop_duplicates().reset_index(drop=True)\n",
        "len(buys_upd)"
      ],
      "execution_count": null,
      "outputs": []
    },
    {
      "cell_type": "code",
      "metadata": {
        "id": "IDezmzROYVeL"
      },
      "source": [
        "clicks_upd=clicks_upd.sort_values(by='SessionID').reset_index(drop=True)\n",
        "clicks_upd.head()"
      ],
      "execution_count": null,
      "outputs": []
    },
    {
      "cell_type": "code",
      "metadata": {
        "id": "473WzJVeii2-"
      },
      "source": [
        "len(clicks)-len(clicks.drop_duplicates())"
      ],
      "execution_count": null,
      "outputs": []
    },
    {
      "cell_type": "markdown",
      "metadata": {
        "id": "3vFbpvpji3FI"
      },
      "source": [
        "Existem 46 registos duplicados. Precisamos de os remover para avançar com a análise."
      ]
    },
    {
      "cell_type": "code",
      "metadata": {
        "id": "VoS4GXLUi5KN"
      },
      "source": [
        "clicks_upd=clicks_upd.drop_duplicates().reset_index(drop=True)"
      ],
      "execution_count": null,
      "outputs": []
    },
    {
      "cell_type": "code",
      "metadata": {
        "id": "GzTwF_zTUqty"
      },
      "source": [
        "# What are the most interesting items? (most clicked)\n",
        "most_clicks = clicks_upd.groupby([\"ProductName\"], as_index=False).count().sort_values(by=\"SessionID\", ascending=False)\n",
        "most_clicks = most_clicks[['ProductName','SessionID']].reset_index(drop=True)\n",
        "most_clicks = most_clicks.rename(columns={'SessionID':'Clicks'})\n",
        "most_clicks.index += 1 \n",
        "\n",
        "most_clicks.head(10)"
      ],
      "execution_count": null,
      "outputs": []
    },
    {
      "cell_type": "code",
      "metadata": {
        "id": "_6YbKXJiMkFk"
      },
      "source": [
        "#2. What are the most bought products?\n",
        "quantities = buys_upd.groupby([\"ProductName\"], as_index=False).count().sort_values(by=\"SessionID\", ascending=False)\n",
        "quantities2 = quantities\n",
        "quantities = quantities[['ProductName','SessionID']].reset_index(drop=True)\n",
        "quantities = quantities.rename(columns={'SessionID':'SalesCount'})\n",
        "quantities.index += 1 \n",
        "\n",
        "quantities.head(10)\n",
        "\n",
        "quantities = quantities[quantities.SalesCount>5000]\n",
        "most_bought = sns.catplot(x=\"ProductName\", y=\"SalesCount\", kind=\"bar\", data = quantities)\n",
        "#plt.gcf().axes[0].yaxis.get_major_formatter().set_scientific(False)\n",
        "most_bought.fig.suptitle('Product Name and Number of Sales')\n",
        "for ax in most_bought.axes.flat:\n",
        "    for label in ax.get_xticklabels():\n",
        "        label.set_rotation(75)\n",
        "most_bought.set(yticks=np.arange(0,60000,2500))\n",
        "most_bought.fig.set_figheight(12.5)\n",
        "most_bought.fig.set_figwidth(25)\n",
        "#quantities_graph.show()"
      ],
      "execution_count": null,
      "outputs": []
    },
    {
      "cell_type": "markdown",
      "metadata": {
        "id": "acR9RFBotBPA"
      },
      "source": [
        "The most interesting products are blabla\n",
        "\n"
      ]
    },
    {
      "cell_type": "code",
      "metadata": {
        "id": "EYmkJddUBDvj"
      },
      "source": [
        "quantities2 = buys_upd\n",
        "quantities2['SessionID'] = 1\n",
        "\n",
        "daysofWeek={0:'Segunda-Feira',1:'Terça-Feira',2:'Quarta-Feira',3:'Quinta-Feira', 4:'Sexta-Feira',5:'Sábado',6:'Domingo'}\n",
        "quantities2['Weekday_Num'] = quantities2['Weekday_Num'].map(daysofWeek)\n",
        "\n",
        "quantities2 = quantities2.groupby([\"Weekday_Num\",\"ProductName\"], as_index=False)['SessionID'].sum()\n",
        "\n",
        "drop_column = quantities2.groupby(['ProductName'], as_index=False)['SessionID'].sum()\n",
        "drop_column = drop_column.sort_values(by='SessionID', ascending=False)\n",
        "drop_column = drop_column.tail(-20)\n",
        "drop_column = drop_column['ProductName']\n",
        "quantities2 = quantities2[~quantities2['ProductName'].isin(drop_column)]\n",
        "quantities2 = quantities2.sort_values(by='SessionID', ascending=False).reset_index(drop=True)\n",
        "quantities2 = quantities2.pivot_table(index='Weekday_Num', columns = 'ProductName')['SessionID']\n",
        "quantities2['Total'] = quantities2.sum(axis=1)\n",
        "\n",
        "sns.set(font_scale = 1.4)\n",
        "fig, ax = plt.subplots(figsize=(30,10))\n",
        "formatter.set_scientific(False)\n",
        "plt.suptitle(\"Product clicks per day of the week\")\n",
        "formatter = tkr.ScalarFormatter(useMathText=True)\n",
        "sns.heatmap(quantities2, norm=LogNorm(), cmap='coolwarm', square=True, cbar_kws={\"format\":formatter}, linewidths=1, annot=True, fmt=\"d\")\n",
        "# get array of colors\n",
        "quadmesh = ax.findobj(QuadMesh)[0]\n",
        "facecolors = quadmesh.get_facecolors()\n",
        "# make colors of the last column white\n",
        "facecolors[np.arange(20,147,21)] = np.array([1,1,1,1])\n",
        "# set modified colors\n",
        "quadmesh.set_facecolors = facecolors\n",
        "# set color of all text to black\n",
        "for i in ax.findobj(Text):\n",
        "    i.set_color('black')\n",
        "\n",
        "plt.show()\n"
      ],
      "execution_count": null,
      "outputs": []
    },
    {
      "cell_type": "markdown",
      "metadata": {
        "id": "KLSw6zTrxaB9"
      },
      "source": [
        "The most bought product category is **Tennis**."
      ]
    },
    {
      "cell_type": "markdown",
      "metadata": {
        "id": "OGtqXH2AN0TR"
      },
      "source": [
        "## 1.2. Compute Frequent Itemsets"
      ]
    },
    {
      "cell_type": "markdown",
      "metadata": {
        "id": "BlQvTGPlN0TR"
      },
      "source": [
        "* Compute frequent itemsets considering a minimum support of X%. \n",
        "* Present frequent itemsets organized by length (number of items). \n",
        "* List frequent 1-itemsets, 2-itemsets, 3-itemsets, etc with support of at least Y%.\n",
        "* Change X and Y when it makes sense and discuss the results."
      ]
    },
    {
      "cell_type": "code",
      "metadata": {
        "colab": {
          "base_uri": "https://localhost:8080/",
          "height": 143
        },
        "id": "rJURuCJaKtZf",
        "outputId": "278623e2-a128-453d-e52e-7b99ab10f2ad"
      },
      "source": [
        "clicks_upd.head(3)"
      ],
      "execution_count": null,
      "outputs": [
        {
          "output_type": "execute_result",
          "data": {
            "text/html": [
              "<div>\n",
              "<style scoped>\n",
              "    .dataframe tbody tr th:only-of-type {\n",
              "        vertical-align: middle;\n",
              "    }\n",
              "\n",
              "    .dataframe tbody tr th {\n",
              "        vertical-align: top;\n",
              "    }\n",
              "\n",
              "    .dataframe thead th {\n",
              "        text-align: right;\n",
              "    }\n",
              "</style>\n",
              "<table border=\"1\" class=\"dataframe\">\n",
              "  <thead>\n",
              "    <tr style=\"text-align: right;\">\n",
              "      <th></th>\n",
              "      <th>SessionID</th>\n",
              "      <th>TimeStamp</th>\n",
              "      <th>ItemID</th>\n",
              "      <th>Context</th>\n",
              "      <th>ProductName</th>\n",
              "      <th>Weekday_Num</th>\n",
              "      <th>Season</th>\n",
              "      <th>Weekday</th>\n",
              "    </tr>\n",
              "  </thead>\n",
              "  <tbody>\n",
              "    <tr>\n",
              "      <th>0</th>\n",
              "      <td>1</td>\n",
              "      <td>2014-04-07</td>\n",
              "      <td>214536502</td>\n",
              "      <td>0</td>\n",
              "      <td>Tablet</td>\n",
              "      <td>0</td>\n",
              "      <td>Spring</td>\n",
              "      <td>Weekday</td>\n",
              "    </tr>\n",
              "    <tr>\n",
              "      <th>1</th>\n",
              "      <td>1</td>\n",
              "      <td>2014-04-07</td>\n",
              "      <td>214536500</td>\n",
              "      <td>0</td>\n",
              "      <td>Tablet</td>\n",
              "      <td>0</td>\n",
              "      <td>Spring</td>\n",
              "      <td>Weekday</td>\n",
              "    </tr>\n",
              "    <tr>\n",
              "      <th>2</th>\n",
              "      <td>1</td>\n",
              "      <td>2014-04-07</td>\n",
              "      <td>214536506</td>\n",
              "      <td>0</td>\n",
              "      <td>Tablet</td>\n",
              "      <td>0</td>\n",
              "      <td>Spring</td>\n",
              "      <td>Weekday</td>\n",
              "    </tr>\n",
              "  </tbody>\n",
              "</table>\n",
              "</div>"
            ],
            "text/plain": [
              "   SessionID   TimeStamp     ItemID  ... Weekday_Num  Season  Weekday\n",
              "0          1  2014-04-07  214536502  ...           0  Spring  Weekday\n",
              "1          1  2014-04-07  214536500  ...           0  Spring  Weekday\n",
              "2          1  2014-04-07  214536506  ...           0  Spring  Weekday\n",
              "\n",
              "[3 rows x 8 columns]"
            ]
          },
          "metadata": {
            "tags": []
          },
          "execution_count": 18
        }
      ]
    },
    {
      "cell_type": "code",
      "metadata": {
        "id": "C75zFtKn0PjW"
      },
      "source": [
        "#3. Which products are bought together?\n",
        "all_sessions_buy={}\n",
        "for i in range(len(buys_upd)):\n",
        "  all_sessions_buy[buys_upd.SessionID[i]]=[]\n",
        "\n",
        "for i in range(len(buys_upd)):\n",
        "  if buys_upd.ProductName[i] not in all_sessions_buy.get(buys_upd.SessionID[i]):\n",
        "    all_sessions_buy[buys_upd.SessionID[i]].append(buys_upd.ProductName[i])\n",
        "\n",
        "transactions_buy=list(all_sessions_buy.values())"
      ],
      "execution_count": null,
      "outputs": []
    },
    {
      "cell_type": "code",
      "metadata": {
        "id": "DxUGXN9IOkts",
        "colab": {
          "base_uri": "https://localhost:8080/",
          "height": 209
        },
        "outputId": "edfe86ed-f229-43af-9849-d75900ce6cfe"
      },
      "source": [
        "#3.1 Which products are viewed together?\n",
        "all_sessions_click={}\n",
        "for i in range(len(clicks_upd)):\n",
        "  all_sessions_click[clicks_upd.SessionID[i]]=[]\n",
        "\n",
        "for i in range(len(clicks_upd)):\n",
        "  if clicks_upd.ProductName[i] not in all_sessions_click.get(clicks_upd.SessionID[i]):\n",
        "    all_sessions_click[clicks_upd.SessionID[i]].append(clicks_upd.ProductName[i])\n",
        "\n",
        "transactions_click=list(all_sessions_click.values())"
      ],
      "execution_count": null,
      "outputs": [
        {
          "output_type": "error",
          "ename": "AttributeError",
          "evalue": "ignored",
          "traceback": [
            "\u001b[0;31m---------------------------------------------------------------------------\u001b[0m",
            "\u001b[0;31mAttributeError\u001b[0m                            Traceback (most recent call last)",
            "\u001b[0;32m<ipython-input-107-d0cdc9374b6e>\u001b[0m in \u001b[0;36m<module>\u001b[0;34m()\u001b[0m\n\u001b[1;32m      9\u001b[0m \u001b[0;34m\u001b[0m\u001b[0m\n\u001b[1;32m     10\u001b[0m \u001b[0mtransactions_click\u001b[0m\u001b[0;34m=\u001b[0m\u001b[0mlist\u001b[0m\u001b[0;34m(\u001b[0m\u001b[0mall_sessions_click\u001b[0m\u001b[0;34m.\u001b[0m\u001b[0mvalues\u001b[0m\u001b[0;34m(\u001b[0m\u001b[0;34m)\u001b[0m\u001b[0;34m)\u001b[0m\u001b[0;34m\u001b[0m\u001b[0;34m\u001b[0m\u001b[0m\n\u001b[0;32m---> 11\u001b[0;31m \u001b[0mtransactions_click\u001b[0m\u001b[0;34m.\u001b[0m\u001b[0mhead\u001b[0m\u001b[0;34m(\u001b[0m\u001b[0;36m20\u001b[0m\u001b[0;34m)\u001b[0m\u001b[0;34m\u001b[0m\u001b[0;34m\u001b[0m\u001b[0m\n\u001b[0m",
            "\u001b[0;31mAttributeError\u001b[0m: 'list' object has no attribute 'head'"
          ]
        }
      ]
    },
    {
      "cell_type": "code",
      "metadata": {
        "colab": {
          "base_uri": "https://localhost:8080/",
          "height": 210
        },
        "id": "SM-xjtM0D0DV",
        "outputId": "bd81f2bb-6a9a-4295-d643-0ef001f4f9c0"
      },
      "source": [
        "#Compute binary databases\n",
        "tr_enc = TransactionEncoder()\n",
        "\n",
        "#buys\n",
        "trans_array_buy = tr_enc.fit(transactions_buy).transform(transactions_buy)\n",
        "binary_database_buy = pd.DataFrame(trans_array_buy, columns=tr_enc.columns_)\n",
        "binary_database_buy.head(3)\n",
        "#clicks\n",
        "trans_array_click = tr_enc.fit(transactions_click).transform(transactions_click)\n",
        "binary_database_click = pd.DataFrame(trans_array_click, columns=tr_enc.columns_)\n",
        "binary_database_click.head(3)"
      ],
      "execution_count": null,
      "outputs": [
        {
          "output_type": "execute_result",
          "data": {
            "text/html": [
              "<div>\n",
              "<style scoped>\n",
              "    .dataframe tbody tr th:only-of-type {\n",
              "        vertical-align: middle;\n",
              "    }\n",
              "\n",
              "    .dataframe tbody tr th {\n",
              "        vertical-align: top;\n",
              "    }\n",
              "\n",
              "    .dataframe thead th {\n",
              "        text-align: right;\n",
              "    }\n",
              "</style>\n",
              "<table border=\"1\" class=\"dataframe\">\n",
              "  <thead>\n",
              "    <tr style=\"text-align: right;\">\n",
              "      <th></th>\n",
              "      <th>Acoustic</th>\n",
              "      <th>Air Conditioner</th>\n",
              "      <th>Air Heater</th>\n",
              "      <th>Alarm</th>\n",
              "      <th>Anti Freeze</th>\n",
              "      <th>Bag</th>\n",
              "      <th>Bath</th>\n",
              "      <th>Battery</th>\n",
              "      <th>Bed</th>\n",
              "      <th>Bicycle</th>\n",
              "      <th>Blanket</th>\n",
              "      <th>Blender</th>\n",
              "      <th>Bottles</th>\n",
              "      <th>Cabinet</th>\n",
              "      <th>Calculator</th>\n",
              "      <th>Camera</th>\n",
              "      <th>Carriage</th>\n",
              "      <th>Cartrige</th>\n",
              "      <th>Cdrw</th>\n",
              "      <th>Chair</th>\n",
              "      <th>Climate</th>\n",
              "      <th>Clocks</th>\n",
              "      <th>Coffee Grinder</th>\n",
              "      <th>Coffee Machine</th>\n",
              "      <th>Compressor</th>\n",
              "      <th>Cooler</th>\n",
              "      <th>Costume</th>\n",
              "      <th>Cpu</th>\n",
              "      <th>Cultivator</th>\n",
              "      <th>Desktop</th>\n",
              "      <th>Diapers</th>\n",
              "      <th>Dictaphone</th>\n",
              "      <th>Dishwasher</th>\n",
              "      <th>Diving</th>\n",
              "      <th>Dolls</th>\n",
              "      <th>Drill</th>\n",
              "      <th>Ebooks</th>\n",
              "      <th>Fan</th>\n",
              "      <th>Faucet</th>\n",
              "      <th>Fryer</th>\n",
              "      <th>...</th>\n",
              "      <th>Scanner</th>\n",
              "      <th>Screw</th>\n",
              "      <th>Sewing Machine</th>\n",
              "      <th>Shelving</th>\n",
              "      <th>Shirt</th>\n",
              "      <th>Shoes</th>\n",
              "      <th>Skates</th>\n",
              "      <th>Ski</th>\n",
              "      <th>Smartphone</th>\n",
              "      <th>Snowboard</th>\n",
              "      <th>Sock</th>\n",
              "      <th>Sofa</th>\n",
              "      <th>Sound Card</th>\n",
              "      <th>Stapler</th>\n",
              "      <th>Steam Cleaner</th>\n",
              "      <th>Steam Cooker</th>\n",
              "      <th>Subwoofer</th>\n",
              "      <th>Swing</th>\n",
              "      <th>Table</th>\n",
              "      <th>Tablet</th>\n",
              "      <th>Telephone</th>\n",
              "      <th>Tennis</th>\n",
              "      <th>Toilet</th>\n",
              "      <th>Tonometer</th>\n",
              "      <th>Toster</th>\n",
              "      <th>Toys</th>\n",
              "      <th>Trainer</th>\n",
              "      <th>Trousers</th>\n",
              "      <th>Tshirt</th>\n",
              "      <th>Tv</th>\n",
              "      <th>Umbrella</th>\n",
              "      <th>Vacuum</th>\n",
              "      <th>Video</th>\n",
              "      <th>Videocards</th>\n",
              "      <th>Videoregister</th>\n",
              "      <th>Washer</th>\n",
              "      <th>Water Heater</th>\n",
              "      <th>Watering</th>\n",
              "      <th>Weather Station</th>\n",
              "      <th>Welding</th>\n",
              "    </tr>\n",
              "  </thead>\n",
              "  <tbody>\n",
              "    <tr>\n",
              "      <th>0</th>\n",
              "      <td>False</td>\n",
              "      <td>False</td>\n",
              "      <td>False</td>\n",
              "      <td>False</td>\n",
              "      <td>False</td>\n",
              "      <td>False</td>\n",
              "      <td>False</td>\n",
              "      <td>False</td>\n",
              "      <td>False</td>\n",
              "      <td>False</td>\n",
              "      <td>False</td>\n",
              "      <td>False</td>\n",
              "      <td>False</td>\n",
              "      <td>False</td>\n",
              "      <td>False</td>\n",
              "      <td>False</td>\n",
              "      <td>False</td>\n",
              "      <td>False</td>\n",
              "      <td>False</td>\n",
              "      <td>False</td>\n",
              "      <td>False</td>\n",
              "      <td>False</td>\n",
              "      <td>False</td>\n",
              "      <td>False</td>\n",
              "      <td>False</td>\n",
              "      <td>False</td>\n",
              "      <td>False</td>\n",
              "      <td>False</td>\n",
              "      <td>False</td>\n",
              "      <td>False</td>\n",
              "      <td>False</td>\n",
              "      <td>False</td>\n",
              "      <td>False</td>\n",
              "      <td>False</td>\n",
              "      <td>False</td>\n",
              "      <td>False</td>\n",
              "      <td>False</td>\n",
              "      <td>False</td>\n",
              "      <td>False</td>\n",
              "      <td>False</td>\n",
              "      <td>...</td>\n",
              "      <td>False</td>\n",
              "      <td>False</td>\n",
              "      <td>False</td>\n",
              "      <td>False</td>\n",
              "      <td>False</td>\n",
              "      <td>False</td>\n",
              "      <td>False</td>\n",
              "      <td>False</td>\n",
              "      <td>False</td>\n",
              "      <td>False</td>\n",
              "      <td>False</td>\n",
              "      <td>False</td>\n",
              "      <td>False</td>\n",
              "      <td>False</td>\n",
              "      <td>False</td>\n",
              "      <td>False</td>\n",
              "      <td>False</td>\n",
              "      <td>False</td>\n",
              "      <td>False</td>\n",
              "      <td>True</td>\n",
              "      <td>False</td>\n",
              "      <td>False</td>\n",
              "      <td>False</td>\n",
              "      <td>False</td>\n",
              "      <td>False</td>\n",
              "      <td>False</td>\n",
              "      <td>False</td>\n",
              "      <td>False</td>\n",
              "      <td>False</td>\n",
              "      <td>False</td>\n",
              "      <td>False</td>\n",
              "      <td>False</td>\n",
              "      <td>False</td>\n",
              "      <td>False</td>\n",
              "      <td>False</td>\n",
              "      <td>False</td>\n",
              "      <td>False</td>\n",
              "      <td>False</td>\n",
              "      <td>False</td>\n",
              "      <td>False</td>\n",
              "    </tr>\n",
              "    <tr>\n",
              "      <th>1</th>\n",
              "      <td>False</td>\n",
              "      <td>False</td>\n",
              "      <td>False</td>\n",
              "      <td>False</td>\n",
              "      <td>False</td>\n",
              "      <td>False</td>\n",
              "      <td>False</td>\n",
              "      <td>False</td>\n",
              "      <td>False</td>\n",
              "      <td>False</td>\n",
              "      <td>False</td>\n",
              "      <td>False</td>\n",
              "      <td>False</td>\n",
              "      <td>False</td>\n",
              "      <td>False</td>\n",
              "      <td>False</td>\n",
              "      <td>False</td>\n",
              "      <td>False</td>\n",
              "      <td>False</td>\n",
              "      <td>False</td>\n",
              "      <td>False</td>\n",
              "      <td>False</td>\n",
              "      <td>False</td>\n",
              "      <td>False</td>\n",
              "      <td>False</td>\n",
              "      <td>False</td>\n",
              "      <td>False</td>\n",
              "      <td>False</td>\n",
              "      <td>False</td>\n",
              "      <td>False</td>\n",
              "      <td>False</td>\n",
              "      <td>False</td>\n",
              "      <td>False</td>\n",
              "      <td>False</td>\n",
              "      <td>False</td>\n",
              "      <td>False</td>\n",
              "      <td>False</td>\n",
              "      <td>False</td>\n",
              "      <td>False</td>\n",
              "      <td>False</td>\n",
              "      <td>...</td>\n",
              "      <td>False</td>\n",
              "      <td>False</td>\n",
              "      <td>False</td>\n",
              "      <td>False</td>\n",
              "      <td>False</td>\n",
              "      <td>False</td>\n",
              "      <td>False</td>\n",
              "      <td>False</td>\n",
              "      <td>True</td>\n",
              "      <td>False</td>\n",
              "      <td>False</td>\n",
              "      <td>False</td>\n",
              "      <td>False</td>\n",
              "      <td>False</td>\n",
              "      <td>False</td>\n",
              "      <td>False</td>\n",
              "      <td>False</td>\n",
              "      <td>False</td>\n",
              "      <td>True</td>\n",
              "      <td>False</td>\n",
              "      <td>False</td>\n",
              "      <td>False</td>\n",
              "      <td>False</td>\n",
              "      <td>False</td>\n",
              "      <td>False</td>\n",
              "      <td>False</td>\n",
              "      <td>False</td>\n",
              "      <td>False</td>\n",
              "      <td>False</td>\n",
              "      <td>False</td>\n",
              "      <td>False</td>\n",
              "      <td>False</td>\n",
              "      <td>False</td>\n",
              "      <td>False</td>\n",
              "      <td>False</td>\n",
              "      <td>False</td>\n",
              "      <td>False</td>\n",
              "      <td>False</td>\n",
              "      <td>False</td>\n",
              "      <td>False</td>\n",
              "    </tr>\n",
              "    <tr>\n",
              "      <th>2</th>\n",
              "      <td>False</td>\n",
              "      <td>False</td>\n",
              "      <td>False</td>\n",
              "      <td>False</td>\n",
              "      <td>False</td>\n",
              "      <td>False</td>\n",
              "      <td>False</td>\n",
              "      <td>False</td>\n",
              "      <td>False</td>\n",
              "      <td>False</td>\n",
              "      <td>False</td>\n",
              "      <td>False</td>\n",
              "      <td>False</td>\n",
              "      <td>False</td>\n",
              "      <td>False</td>\n",
              "      <td>False</td>\n",
              "      <td>False</td>\n",
              "      <td>False</td>\n",
              "      <td>False</td>\n",
              "      <td>False</td>\n",
              "      <td>False</td>\n",
              "      <td>False</td>\n",
              "      <td>False</td>\n",
              "      <td>False</td>\n",
              "      <td>False</td>\n",
              "      <td>False</td>\n",
              "      <td>False</td>\n",
              "      <td>True</td>\n",
              "      <td>False</td>\n",
              "      <td>False</td>\n",
              "      <td>False</td>\n",
              "      <td>False</td>\n",
              "      <td>False</td>\n",
              "      <td>False</td>\n",
              "      <td>False</td>\n",
              "      <td>False</td>\n",
              "      <td>False</td>\n",
              "      <td>False</td>\n",
              "      <td>False</td>\n",
              "      <td>False</td>\n",
              "      <td>...</td>\n",
              "      <td>False</td>\n",
              "      <td>False</td>\n",
              "      <td>False</td>\n",
              "      <td>False</td>\n",
              "      <td>False</td>\n",
              "      <td>False</td>\n",
              "      <td>False</td>\n",
              "      <td>False</td>\n",
              "      <td>False</td>\n",
              "      <td>False</td>\n",
              "      <td>False</td>\n",
              "      <td>False</td>\n",
              "      <td>False</td>\n",
              "      <td>False</td>\n",
              "      <td>False</td>\n",
              "      <td>False</td>\n",
              "      <td>False</td>\n",
              "      <td>False</td>\n",
              "      <td>False</td>\n",
              "      <td>False</td>\n",
              "      <td>False</td>\n",
              "      <td>False</td>\n",
              "      <td>False</td>\n",
              "      <td>False</td>\n",
              "      <td>False</td>\n",
              "      <td>False</td>\n",
              "      <td>False</td>\n",
              "      <td>False</td>\n",
              "      <td>False</td>\n",
              "      <td>True</td>\n",
              "      <td>False</td>\n",
              "      <td>False</td>\n",
              "      <td>False</td>\n",
              "      <td>False</td>\n",
              "      <td>False</td>\n",
              "      <td>False</td>\n",
              "      <td>False</td>\n",
              "      <td>False</td>\n",
              "      <td>False</td>\n",
              "      <td>False</td>\n",
              "    </tr>\n",
              "  </tbody>\n",
              "</table>\n",
              "<p>3 rows × 121 columns</p>\n",
              "</div>"
            ],
            "text/plain": [
              "   Acoustic  Air Conditioner  Air Heater  ...  Watering  Weather Station  Welding\n",
              "0     False            False       False  ...     False            False    False\n",
              "1     False            False       False  ...     False            False    False\n",
              "2     False            False       False  ...     False            False    False\n",
              "\n",
              "[3 rows x 121 columns]"
            ]
          },
          "metadata": {
            "tags": []
          },
          "execution_count": 21
        }
      ]
    },
    {
      "cell_type": "code",
      "metadata": {
        "id": "6Ewf1HtdENP_"
      },
      "source": [
        "#Compute itemsets min_support = 1% apriori and association rules\n",
        "\n",
        "#buys\n",
        "frequent_itemsets_buy = apriori(binary_database_buy, min_support=0.01, use_colnames=True)\n",
        "frequent_itemsets_buy\n",
        "#Rules grau 1\n",
        "rules1_buy = association_rules(frequent_itemsets_buy, metric=\"confidence\", min_threshold=0.01)\n",
        "#rules1_buy\n",
        "# add new column length\n",
        "frequent_itemsets_buy['length'] = frequent_itemsets_buy['itemsets'].apply(lambda x: len(x))\n",
        "# filter using pattern length = 2\n",
        "frequent_2_itemsets_buy = frequent_itemsets_buy[frequent_itemsets_buy['length'] >= 2].reset_index(drop=True)\n",
        "#frequent_2_itemsets_buy\n",
        "\n",
        "#clicks\n",
        "frequent_itemsets_click = apriori(binary_database_click, min_support=0.01, use_colnames=True)\n",
        "frequent_itemsets_click\n",
        "#Rules grau 1\n",
        "rules1_click = association_rules(frequent_itemsets_click, metric=\"confidence\", min_threshold=0.01)\n",
        "#rules1_click\n",
        "# add new column length\n",
        "frequent_itemsets_click['length'] = frequent_itemsets_click['itemsets'].apply(lambda x: len(x))\n",
        "# filter using pattern length = 2\n",
        "frequent_2_itemsets_click = frequent_itemsets_click[frequent_itemsets_click['length'] >= 2].reset_index(drop=True)\n",
        "#frequent_2_itemsets_click"
      ],
      "execution_count": null,
      "outputs": []
    },
    {
      "cell_type": "code",
      "metadata": {
        "id": "QhIdLvIxi4Sb",
        "colab": {
          "base_uri": "https://localhost:8080/",
          "height": 1000
        },
        "outputId": "56c46fa8-7a02-4a8f-855a-1f6486c08a3d"
      },
      "source": [
        "#FP-Growth é melhori que apriori\n",
        "#buys\n",
        "frequent_itemsets_fpg_buy=fpgrowth(binary_database_buy, min_support=0.01,use_colnames=True)\n",
        "frequent_itemsets_fpg_buy\n",
        "# Generate association rules with confidence >= 90%\n",
        "\n",
        "rules_buy = association_rules(frequent_itemsets_fpg_buy, metric = \"confidence\", min_threshold=0.01)\n",
        "rules_buy\n",
        "#clicks\n",
        "frequent_itemsets_fpg_click=fpgrowth(binary_database_click, min_support=0.01,use_colnames=True)\n",
        "frequent_itemsets_fpg_click\n",
        "# Generate association rules with confidence >= 90%\n",
        "\n",
        "rules_click = association_rules(frequent_itemsets_fpg_click, metric = \"confidence\", min_threshold=0.01)\n",
        "rules_click"
      ],
      "execution_count": null,
      "outputs": [
        {
          "output_type": "execute_result",
          "data": {
            "text/html": [
              "<div>\n",
              "<style scoped>\n",
              "    .dataframe tbody tr th:only-of-type {\n",
              "        vertical-align: middle;\n",
              "    }\n",
              "\n",
              "    .dataframe tbody tr th {\n",
              "        vertical-align: top;\n",
              "    }\n",
              "\n",
              "    .dataframe thead th {\n",
              "        text-align: right;\n",
              "    }\n",
              "</style>\n",
              "<table border=\"1\" class=\"dataframe\">\n",
              "  <thead>\n",
              "    <tr style=\"text-align: right;\">\n",
              "      <th></th>\n",
              "      <th>antecedents</th>\n",
              "      <th>consequents</th>\n",
              "      <th>antecedent support</th>\n",
              "      <th>consequent support</th>\n",
              "      <th>support</th>\n",
              "      <th>confidence</th>\n",
              "      <th>lift</th>\n",
              "      <th>leverage</th>\n",
              "      <th>conviction</th>\n",
              "    </tr>\n",
              "  </thead>\n",
              "  <tbody>\n",
              "    <tr>\n",
              "      <th>0</th>\n",
              "      <td>(Tv)</td>\n",
              "      <td>(Bag)</td>\n",
              "      <td>0.075529</td>\n",
              "      <td>0.081793</td>\n",
              "      <td>0.022559</td>\n",
              "      <td>0.298684</td>\n",
              "      <td>3.651720</td>\n",
              "      <td>0.016382</td>\n",
              "      <td>1.309264</td>\n",
              "    </tr>\n",
              "    <tr>\n",
              "      <th>1</th>\n",
              "      <td>(Bag)</td>\n",
              "      <td>(Tv)</td>\n",
              "      <td>0.081793</td>\n",
              "      <td>0.075529</td>\n",
              "      <td>0.022559</td>\n",
              "      <td>0.275809</td>\n",
              "      <td>3.651720</td>\n",
              "      <td>0.016382</td>\n",
              "      <td>1.276558</td>\n",
              "    </tr>\n",
              "    <tr>\n",
              "      <th>2</th>\n",
              "      <td>(Tv)</td>\n",
              "      <td>(Notebook)</td>\n",
              "      <td>0.075529</td>\n",
              "      <td>0.055503</td>\n",
              "      <td>0.011295</td>\n",
              "      <td>0.149550</td>\n",
              "      <td>2.694475</td>\n",
              "      <td>0.007103</td>\n",
              "      <td>1.110586</td>\n",
              "    </tr>\n",
              "    <tr>\n",
              "      <th>3</th>\n",
              "      <td>(Notebook)</td>\n",
              "      <td>(Tv)</td>\n",
              "      <td>0.055503</td>\n",
              "      <td>0.075529</td>\n",
              "      <td>0.011295</td>\n",
              "      <td>0.203510</td>\n",
              "      <td>2.694475</td>\n",
              "      <td>0.007103</td>\n",
              "      <td>1.160681</td>\n",
              "    </tr>\n",
              "    <tr>\n",
              "      <th>4</th>\n",
              "      <td>(Notebook)</td>\n",
              "      <td>(Blender)</td>\n",
              "      <td>0.055503</td>\n",
              "      <td>0.173125</td>\n",
              "      <td>0.012313</td>\n",
              "      <td>0.221837</td>\n",
              "      <td>1.281366</td>\n",
              "      <td>0.002704</td>\n",
              "      <td>1.062598</td>\n",
              "    </tr>\n",
              "    <tr>\n",
              "      <th>5</th>\n",
              "      <td>(Blender)</td>\n",
              "      <td>(Notebook)</td>\n",
              "      <td>0.173125</td>\n",
              "      <td>0.055503</td>\n",
              "      <td>0.012313</td>\n",
              "      <td>0.071119</td>\n",
              "      <td>1.281366</td>\n",
              "      <td>0.002704</td>\n",
              "      <td>1.016812</td>\n",
              "    </tr>\n",
              "    <tr>\n",
              "      <th>6</th>\n",
              "      <td>(Notebook)</td>\n",
              "      <td>(Bag)</td>\n",
              "      <td>0.055503</td>\n",
              "      <td>0.081793</td>\n",
              "      <td>0.011637</td>\n",
              "      <td>0.209666</td>\n",
              "      <td>2.563380</td>\n",
              "      <td>0.007097</td>\n",
              "      <td>1.161796</td>\n",
              "    </tr>\n",
              "    <tr>\n",
              "      <th>7</th>\n",
              "      <td>(Bag)</td>\n",
              "      <td>(Notebook)</td>\n",
              "      <td>0.081793</td>\n",
              "      <td>0.055503</td>\n",
              "      <td>0.011637</td>\n",
              "      <td>0.142274</td>\n",
              "      <td>2.563380</td>\n",
              "      <td>0.007097</td>\n",
              "      <td>1.101165</td>\n",
              "    </tr>\n",
              "    <tr>\n",
              "      <th>8</th>\n",
              "      <td>(Memory)</td>\n",
              "      <td>(Blender)</td>\n",
              "      <td>0.185866</td>\n",
              "      <td>0.173125</td>\n",
              "      <td>0.038725</td>\n",
              "      <td>0.208347</td>\n",
              "      <td>1.203443</td>\n",
              "      <td>0.006546</td>\n",
              "      <td>1.044491</td>\n",
              "    </tr>\n",
              "    <tr>\n",
              "      <th>9</th>\n",
              "      <td>(Blender)</td>\n",
              "      <td>(Memory)</td>\n",
              "      <td>0.173125</td>\n",
              "      <td>0.185866</td>\n",
              "      <td>0.038725</td>\n",
              "      <td>0.223679</td>\n",
              "      <td>1.203443</td>\n",
              "      <td>0.006546</td>\n",
              "      <td>1.048708</td>\n",
              "    </tr>\n",
              "    <tr>\n",
              "      <th>10</th>\n",
              "      <td>(Memory)</td>\n",
              "      <td>(Bag)</td>\n",
              "      <td>0.185866</td>\n",
              "      <td>0.081793</td>\n",
              "      <td>0.013526</td>\n",
              "      <td>0.072773</td>\n",
              "      <td>0.889728</td>\n",
              "      <td>-0.001676</td>\n",
              "      <td>0.990273</td>\n",
              "    </tr>\n",
              "    <tr>\n",
              "      <th>11</th>\n",
              "      <td>(Bag)</td>\n",
              "      <td>(Memory)</td>\n",
              "      <td>0.081793</td>\n",
              "      <td>0.185866</td>\n",
              "      <td>0.013526</td>\n",
              "      <td>0.165370</td>\n",
              "      <td>0.889728</td>\n",
              "      <td>-0.001676</td>\n",
              "      <td>0.975443</td>\n",
              "    </tr>\n",
              "    <tr>\n",
              "      <th>12</th>\n",
              "      <td>(Blender)</td>\n",
              "      <td>(Bag)</td>\n",
              "      <td>0.173125</td>\n",
              "      <td>0.081793</td>\n",
              "      <td>0.010687</td>\n",
              "      <td>0.061727</td>\n",
              "      <td>0.754679</td>\n",
              "      <td>-0.003474</td>\n",
              "      <td>0.978614</td>\n",
              "    </tr>\n",
              "    <tr>\n",
              "      <th>13</th>\n",
              "      <td>(Bag)</td>\n",
              "      <td>(Blender)</td>\n",
              "      <td>0.081793</td>\n",
              "      <td>0.173125</td>\n",
              "      <td>0.010687</td>\n",
              "      <td>0.130654</td>\n",
              "      <td>0.754679</td>\n",
              "      <td>-0.003474</td>\n",
              "      <td>0.951146</td>\n",
              "    </tr>\n",
              "    <tr>\n",
              "      <th>14</th>\n",
              "      <td>(Iron)</td>\n",
              "      <td>(Blender)</td>\n",
              "      <td>0.078219</td>\n",
              "      <td>0.173125</td>\n",
              "      <td>0.020242</td>\n",
              "      <td>0.258787</td>\n",
              "      <td>1.494795</td>\n",
              "      <td>0.006700</td>\n",
              "      <td>1.115569</td>\n",
              "    </tr>\n",
              "    <tr>\n",
              "      <th>15</th>\n",
              "      <td>(Blender)</td>\n",
              "      <td>(Iron)</td>\n",
              "      <td>0.173125</td>\n",
              "      <td>0.078219</td>\n",
              "      <td>0.020242</td>\n",
              "      <td>0.116921</td>\n",
              "      <td>1.494795</td>\n",
              "      <td>0.006700</td>\n",
              "      <td>1.043827</td>\n",
              "    </tr>\n",
              "    <tr>\n",
              "      <th>16</th>\n",
              "      <td>(Iron)</td>\n",
              "      <td>(Memory)</td>\n",
              "      <td>0.078219</td>\n",
              "      <td>0.185866</td>\n",
              "      <td>0.013844</td>\n",
              "      <td>0.176993</td>\n",
              "      <td>0.952264</td>\n",
              "      <td>-0.000694</td>\n",
              "      <td>0.989219</td>\n",
              "    </tr>\n",
              "    <tr>\n",
              "      <th>17</th>\n",
              "      <td>(Memory)</td>\n",
              "      <td>(Iron)</td>\n",
              "      <td>0.185866</td>\n",
              "      <td>0.078219</td>\n",
              "      <td>0.013844</td>\n",
              "      <td>0.074485</td>\n",
              "      <td>0.952264</td>\n",
              "      <td>-0.000694</td>\n",
              "      <td>0.995966</td>\n",
              "    </tr>\n",
              "    <tr>\n",
              "      <th>18</th>\n",
              "      <td>(Iron)</td>\n",
              "      <td>(Meat Grinder)</td>\n",
              "      <td>0.078219</td>\n",
              "      <td>0.109375</td>\n",
              "      <td>0.011543</td>\n",
              "      <td>0.147570</td>\n",
              "      <td>1.349207</td>\n",
              "      <td>0.002988</td>\n",
              "      <td>1.044807</td>\n",
              "    </tr>\n",
              "    <tr>\n",
              "      <th>19</th>\n",
              "      <td>(Meat Grinder)</td>\n",
              "      <td>(Iron)</td>\n",
              "      <td>0.109375</td>\n",
              "      <td>0.078219</td>\n",
              "      <td>0.011543</td>\n",
              "      <td>0.105533</td>\n",
              "      <td>1.349207</td>\n",
              "      <td>0.002988</td>\n",
              "      <td>1.030537</td>\n",
              "    </tr>\n",
              "    <tr>\n",
              "      <th>20</th>\n",
              "      <td>(Memory)</td>\n",
              "      <td>(Mixer)</td>\n",
              "      <td>0.185866</td>\n",
              "      <td>0.053570</td>\n",
              "      <td>0.011676</td>\n",
              "      <td>0.062821</td>\n",
              "      <td>1.172683</td>\n",
              "      <td>0.001719</td>\n",
              "      <td>1.009871</td>\n",
              "    </tr>\n",
              "    <tr>\n",
              "      <th>21</th>\n",
              "      <td>(Mixer)</td>\n",
              "      <td>(Memory)</td>\n",
              "      <td>0.053570</td>\n",
              "      <td>0.185866</td>\n",
              "      <td>0.011676</td>\n",
              "      <td>0.217962</td>\n",
              "      <td>1.172683</td>\n",
              "      <td>0.001719</td>\n",
              "      <td>1.041041</td>\n",
              "    </tr>\n",
              "    <tr>\n",
              "      <th>22</th>\n",
              "      <td>(Memory)</td>\n",
              "      <td>(Meat Grinder)</td>\n",
              "      <td>0.185866</td>\n",
              "      <td>0.109375</td>\n",
              "      <td>0.021770</td>\n",
              "      <td>0.117126</td>\n",
              "      <td>1.070867</td>\n",
              "      <td>0.001441</td>\n",
              "      <td>1.008779</td>\n",
              "    </tr>\n",
              "    <tr>\n",
              "      <th>23</th>\n",
              "      <td>(Meat Grinder)</td>\n",
              "      <td>(Memory)</td>\n",
              "      <td>0.109375</td>\n",
              "      <td>0.185866</td>\n",
              "      <td>0.021770</td>\n",
              "      <td>0.199038</td>\n",
              "      <td>1.070867</td>\n",
              "      <td>0.001441</td>\n",
              "      <td>1.016445</td>\n",
              "    </tr>\n",
              "    <tr>\n",
              "      <th>24</th>\n",
              "      <td>(Blender)</td>\n",
              "      <td>(Meat Grinder)</td>\n",
              "      <td>0.173125</td>\n",
              "      <td>0.109375</td>\n",
              "      <td>0.023105</td>\n",
              "      <td>0.133459</td>\n",
              "      <td>1.220193</td>\n",
              "      <td>0.004169</td>\n",
              "      <td>1.027793</td>\n",
              "    </tr>\n",
              "    <tr>\n",
              "      <th>25</th>\n",
              "      <td>(Meat Grinder)</td>\n",
              "      <td>(Blender)</td>\n",
              "      <td>0.109375</td>\n",
              "      <td>0.173125</td>\n",
              "      <td>0.023105</td>\n",
              "      <td>0.211246</td>\n",
              "      <td>1.220193</td>\n",
              "      <td>0.004169</td>\n",
              "      <td>1.048331</td>\n",
              "    </tr>\n",
              "    <tr>\n",
              "      <th>26</th>\n",
              "      <td>(Washer)</td>\n",
              "      <td>(Memory)</td>\n",
              "      <td>0.057537</td>\n",
              "      <td>0.185866</td>\n",
              "      <td>0.010105</td>\n",
              "      <td>0.175631</td>\n",
              "      <td>0.944936</td>\n",
              "      <td>-0.000589</td>\n",
              "      <td>0.987585</td>\n",
              "    </tr>\n",
              "    <tr>\n",
              "      <th>27</th>\n",
              "      <td>(Memory)</td>\n",
              "      <td>(Washer)</td>\n",
              "      <td>0.185866</td>\n",
              "      <td>0.057537</td>\n",
              "      <td>0.010105</td>\n",
              "      <td>0.054369</td>\n",
              "      <td>0.944936</td>\n",
              "      <td>-0.000589</td>\n",
              "      <td>0.996650</td>\n",
              "    </tr>\n",
              "    <tr>\n",
              "      <th>28</th>\n",
              "      <td>(Washer)</td>\n",
              "      <td>(Blender)</td>\n",
              "      <td>0.057537</td>\n",
              "      <td>0.173125</td>\n",
              "      <td>0.021082</td>\n",
              "      <td>0.366416</td>\n",
              "      <td>2.116480</td>\n",
              "      <td>0.011121</td>\n",
              "      <td>1.305076</td>\n",
              "    </tr>\n",
              "    <tr>\n",
              "      <th>29</th>\n",
              "      <td>(Blender)</td>\n",
              "      <td>(Washer)</td>\n",
              "      <td>0.173125</td>\n",
              "      <td>0.057537</td>\n",
              "      <td>0.021082</td>\n",
              "      <td>0.121776</td>\n",
              "      <td>2.116480</td>\n",
              "      <td>0.011121</td>\n",
              "      <td>1.073146</td>\n",
              "    </tr>\n",
              "    <tr>\n",
              "      <th>30</th>\n",
              "      <td>(Joystick)</td>\n",
              "      <td>(Memory)</td>\n",
              "      <td>0.043496</td>\n",
              "      <td>0.185866</td>\n",
              "      <td>0.013887</td>\n",
              "      <td>0.319278</td>\n",
              "      <td>1.717785</td>\n",
              "      <td>0.005803</td>\n",
              "      <td>1.195986</td>\n",
              "    </tr>\n",
              "    <tr>\n",
              "      <th>31</th>\n",
              "      <td>(Memory)</td>\n",
              "      <td>(Joystick)</td>\n",
              "      <td>0.185866</td>\n",
              "      <td>0.043496</td>\n",
              "      <td>0.013887</td>\n",
              "      <td>0.074717</td>\n",
              "      <td>1.717785</td>\n",
              "      <td>0.005803</td>\n",
              "      <td>1.033742</td>\n",
              "    </tr>\n",
              "    <tr>\n",
              "      <th>32</th>\n",
              "      <td>(Tonometer)</td>\n",
              "      <td>(Memory)</td>\n",
              "      <td>0.060530</td>\n",
              "      <td>0.185866</td>\n",
              "      <td>0.010290</td>\n",
              "      <td>0.169997</td>\n",
              "      <td>0.914624</td>\n",
              "      <td>-0.000961</td>\n",
              "      <td>0.980881</td>\n",
              "    </tr>\n",
              "    <tr>\n",
              "      <th>33</th>\n",
              "      <td>(Memory)</td>\n",
              "      <td>(Tonometer)</td>\n",
              "      <td>0.185866</td>\n",
              "      <td>0.060530</td>\n",
              "      <td>0.010290</td>\n",
              "      <td>0.055362</td>\n",
              "      <td>0.914624</td>\n",
              "      <td>-0.000961</td>\n",
              "      <td>0.994529</td>\n",
              "    </tr>\n",
              "    <tr>\n",
              "      <th>34</th>\n",
              "      <td>(Tennis)</td>\n",
              "      <td>(Blender)</td>\n",
              "      <td>0.041760</td>\n",
              "      <td>0.173125</td>\n",
              "      <td>0.010235</td>\n",
              "      <td>0.245086</td>\n",
              "      <td>1.415657</td>\n",
              "      <td>0.003005</td>\n",
              "      <td>1.095323</td>\n",
              "    </tr>\n",
              "    <tr>\n",
              "      <th>35</th>\n",
              "      <td>(Blender)</td>\n",
              "      <td>(Tennis)</td>\n",
              "      <td>0.173125</td>\n",
              "      <td>0.041760</td>\n",
              "      <td>0.010235</td>\n",
              "      <td>0.059118</td>\n",
              "      <td>1.415657</td>\n",
              "      <td>0.003005</td>\n",
              "      <td>1.018449</td>\n",
              "    </tr>\n",
              "  </tbody>\n",
              "</table>\n",
              "</div>"
            ],
            "text/plain": [
              "       antecedents     consequents  ...  leverage  conviction\n",
              "0             (Tv)           (Bag)  ...  0.016382    1.309264\n",
              "1            (Bag)            (Tv)  ...  0.016382    1.276558\n",
              "2             (Tv)      (Notebook)  ...  0.007103    1.110586\n",
              "3       (Notebook)            (Tv)  ...  0.007103    1.160681\n",
              "4       (Notebook)       (Blender)  ...  0.002704    1.062598\n",
              "5        (Blender)      (Notebook)  ...  0.002704    1.016812\n",
              "6       (Notebook)           (Bag)  ...  0.007097    1.161796\n",
              "7            (Bag)      (Notebook)  ...  0.007097    1.101165\n",
              "8         (Memory)       (Blender)  ...  0.006546    1.044491\n",
              "9        (Blender)        (Memory)  ...  0.006546    1.048708\n",
              "10        (Memory)           (Bag)  ... -0.001676    0.990273\n",
              "11           (Bag)        (Memory)  ... -0.001676    0.975443\n",
              "12       (Blender)           (Bag)  ... -0.003474    0.978614\n",
              "13           (Bag)       (Blender)  ... -0.003474    0.951146\n",
              "14          (Iron)       (Blender)  ...  0.006700    1.115569\n",
              "15       (Blender)          (Iron)  ...  0.006700    1.043827\n",
              "16          (Iron)        (Memory)  ... -0.000694    0.989219\n",
              "17        (Memory)          (Iron)  ... -0.000694    0.995966\n",
              "18          (Iron)  (Meat Grinder)  ...  0.002988    1.044807\n",
              "19  (Meat Grinder)          (Iron)  ...  0.002988    1.030537\n",
              "20        (Memory)         (Mixer)  ...  0.001719    1.009871\n",
              "21         (Mixer)        (Memory)  ...  0.001719    1.041041\n",
              "22        (Memory)  (Meat Grinder)  ...  0.001441    1.008779\n",
              "23  (Meat Grinder)        (Memory)  ...  0.001441    1.016445\n",
              "24       (Blender)  (Meat Grinder)  ...  0.004169    1.027793\n",
              "25  (Meat Grinder)       (Blender)  ...  0.004169    1.048331\n",
              "26        (Washer)        (Memory)  ... -0.000589    0.987585\n",
              "27        (Memory)        (Washer)  ... -0.000589    0.996650\n",
              "28        (Washer)       (Blender)  ...  0.011121    1.305076\n",
              "29       (Blender)        (Washer)  ...  0.011121    1.073146\n",
              "30      (Joystick)        (Memory)  ...  0.005803    1.195986\n",
              "31        (Memory)      (Joystick)  ...  0.005803    1.033742\n",
              "32     (Tonometer)        (Memory)  ... -0.000961    0.980881\n",
              "33        (Memory)     (Tonometer)  ... -0.000961    0.994529\n",
              "34        (Tennis)       (Blender)  ...  0.003005    1.095323\n",
              "35       (Blender)        (Tennis)  ...  0.003005    1.018449\n",
              "\n",
              "[36 rows x 9 columns]"
            ]
          },
          "metadata": {
            "tags": []
          },
          "execution_count": 23
        }
      ]
    },
    {
      "cell_type": "markdown",
      "metadata": {
        "id": "Xni6Rit9N0TS"
      },
      "source": [
        "### 1.3. Generate Association Rules from Frequent Itemsets"
      ]
    },
    {
      "cell_type": "markdown",
      "metadata": {
        "id": "tfdeOt6uN0TT"
      },
      "source": [
        "* Generate association rules with a choosed value (C) for minimum confidence. \n",
        "* Generate association rules with a choosed value (L) for minimum lift. \n",
        "* Generate association rules with both confidence >= C% and lift >= L.\n",
        "* Change C and L when it makes sense and discuss the results."
      ]
    },
    {
      "cell_type": "markdown",
      "metadata": {
        "id": "611Q1RXeN0TU"
      },
      "source": [
        "### 1.4. Take a Look at Maximal Patterns: Compute Maximal Frequent Itemsets"
      ]
    },
    {
      "cell_type": "code",
      "metadata": {
        "id": "vFKZRaiNN0TV"
      },
      "source": [
        ""
      ],
      "execution_count": null,
      "outputs": []
    },
    {
      "cell_type": "markdown",
      "metadata": {
        "id": "hCjPFDkhN0TW"
      },
      "source": [
        "### 1.5. Conclusions "
      ]
    },
    {
      "cell_type": "code",
      "metadata": {
        "id": "wckLxbQ5N0TW"
      },
      "source": [
        ""
      ],
      "execution_count": null,
      "outputs": []
    },
    {
      "cell_type": "markdown",
      "metadata": {
        "id": "K8AjOWwaN0TW"
      },
      "source": [
        "# 2. Week vs Weekend Purchases"
      ]
    },
    {
      "cell_type": "markdown",
      "metadata": {
        "id": "YNinPpoDN0TX"
      },
      "source": [
        "In this part of the project you should analyse the consumption patterns during the week vs during the weekeed.\n",
        "\n",
        "**In what follows keep the following question in mind and be creative!**\n",
        "\n",
        "1. The most interesting products are the same during the week and the weekend? \n",
        "2. What are the most bought products during the week? And during the weekend?\n",
        "3. There are differences between the sets of products bought during the week and the weekend?\n",
        "4. Can you find different associations highliting that when people click in a product/set of products also buy this product(s) during the week vs the weekend?\n",
        "5. Discuss the results obtained for the week sessions vs weekend sessions."
      ]
    },
    {
      "cell_type": "markdown",
      "metadata": {
        "id": "3rqmzoYiN0TX"
      },
      "source": [
        "### 2.1. Load and Preprocess Data\n",
        "\n",
        " **Product quantities should not be considered.**"
      ]
    },
    {
      "cell_type": "code",
      "metadata": {
        "id": "KUFNubG3N0TY"
      },
      "source": [
        ""
      ],
      "execution_count": null,
      "outputs": []
    },
    {
      "cell_type": "markdown",
      "metadata": {
        "id": "YQPHNWJiN0TY"
      },
      "source": [
        "### 2.2. Compute Frequent Itemsets"
      ]
    },
    {
      "cell_type": "markdown",
      "metadata": {
        "id": "36ZKu4VfN0TY"
      },
      "source": [
        "* Compute frequent itemsets considering a minimum support of X%. \n",
        "* Present frequent itemsets organized by length (number of items). \n",
        "* List frequent 1-itemsets, 2-itemsets, 3-itemsets, etc with support of at least Y%.\n",
        "* Change X and Y when it makes sense and discuss the results."
      ]
    },
    {
      "cell_type": "code",
      "metadata": {
        "id": "tmX6B6fNN0TY"
      },
      "source": [
        ""
      ],
      "execution_count": null,
      "outputs": []
    },
    {
      "cell_type": "markdown",
      "metadata": {
        "id": "fZrOgnotN0TY"
      },
      "source": [
        "### 2.3. Generate Association Rules from Frequent Itemsets"
      ]
    },
    {
      "cell_type": "markdown",
      "metadata": {
        "id": "JPxat6z9N0TY"
      },
      "source": [
        "* Generate association rules with a choosed value (C) for minimum confidence. \n",
        "* Generate association rules with a choosed value (L) for minimum lift. \n",
        "* Generate association rules with both confidence >= C% and lift >= L.\n",
        "* Change C and L when it makes sense and discuss the results."
      ]
    },
    {
      "cell_type": "code",
      "metadata": {
        "id": "wK5yk2o6N0TZ"
      },
      "source": [
        ""
      ],
      "execution_count": null,
      "outputs": []
    },
    {
      "cell_type": "markdown",
      "metadata": {
        "id": "5NpUVD7RN0Ta"
      },
      "source": [
        "### 2.4. Conclusions "
      ]
    },
    {
      "cell_type": "markdown",
      "metadata": {
        "id": "Dq4kYJZ2N0Ta"
      },
      "source": [
        "# 3. [Only Groups of 3] Spring vs Summer Purchases"
      ]
    },
    {
      "cell_type": "markdown",
      "metadata": {
        "id": "M9p1BNhLN0Ta"
      },
      "source": [
        "In this part of the project you should analyse the consumption patterns during the Spring months (April and May) vs Summer months (June and July).\n",
        "\n",
        "**In what follows keep the following question in mind and be creative!**\n",
        "\n",
        "1. The most interesting products are the same during the Spring and the Summer? \n",
        "2. What are the most bought products during the Spring? And during the Summer?\n",
        "3. There are differences between the sets of products bought during the Spring and the Summer?\n",
        "4. Can you find different associations highliting that when people click in a product/set of products also buy this product(s) during the Spring vs the Summer?\n",
        "5. Discuss the results obtained for the Spring sessions vs Summer sessions."
      ]
    },
    {
      "cell_type": "markdown",
      "metadata": {
        "id": "6_dXMFZEN0Ta"
      },
      "source": [
        "### 3.1. Load and Preprocess Data\n",
        "\n",
        " **Product quantities should not be considered.**"
      ]
    },
    {
      "cell_type": "code",
      "metadata": {
        "id": "n-Y06iJAN0Ta"
      },
      "source": [
        ""
      ],
      "execution_count": null,
      "outputs": []
    },
    {
      "cell_type": "markdown",
      "metadata": {
        "id": "bU3Pkq81N0Tb"
      },
      "source": [
        "### 3.2. Compute Frequent Itemsets"
      ]
    },
    {
      "cell_type": "markdown",
      "metadata": {
        "id": "YFfigBw4N0Tb"
      },
      "source": [
        "* Compute frequent itemsets considering a minimum support of X%. \n",
        "* Present frequent itemsets organized by length (number of items). \n",
        "* List frequent 1-itemsets, 2-itemsets, 3-itemsets, etc with support of at least Y%.\n",
        "* Change X and Y when it makes sense and discuss the results."
      ]
    },
    {
      "cell_type": "code",
      "metadata": {
        "id": "3EFKQA3uN0Tb"
      },
      "source": [
        ""
      ],
      "execution_count": null,
      "outputs": []
    },
    {
      "cell_type": "markdown",
      "metadata": {
        "id": "L7-5bAz4N0Tb"
      },
      "source": [
        "### 3.3. Generate Association Rules from Frequent Itemsets"
      ]
    },
    {
      "cell_type": "markdown",
      "metadata": {
        "id": "phBJzDRsN0Tc"
      },
      "source": [
        "* Generate association rules with a choosed value (C) for minimum confidence. \n",
        "* Generate association rules with a choosed value (L) for minimum lift. \n",
        "* Generate association rules with both confidence >= C% and lift >= L.\n",
        "* Change C and L when it makes sense and discuss the results."
      ]
    },
    {
      "cell_type": "code",
      "metadata": {
        "id": "emPKRX6UN0Tc"
      },
      "source": [
        ""
      ],
      "execution_count": null,
      "outputs": []
    },
    {
      "cell_type": "markdown",
      "metadata": {
        "id": "L1Ep7ZlbN0Tc"
      },
      "source": [
        "### 3.4. Conclusions "
      ]
    },
    {
      "cell_type": "markdown",
      "metadata": {
        "id": "huX6JwLPN0Tc"
      },
      "source": [
        "## 4. Conclusions\n",
        "Draw some conclusions about this project work."
      ]
    },
    {
      "cell_type": "code",
      "metadata": {
        "id": "mTELnhtnN0Td"
      },
      "source": [
        ""
      ],
      "execution_count": null,
      "outputs": []
    }
  ]
}