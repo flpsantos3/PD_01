{
  "nbformat": 4,
  "nbformat_minor": 0,
  "metadata": {
    "kernelspec": {
      "display_name": "Python 3",
      "language": "python",
      "name": "python3"
    },
    "language_info": {
      "codemirror_mode": {
        "name": "ipython",
        "version": 3
      },
      "file_extension": ".py",
      "mimetype": "text/x-python",
      "name": "python",
      "nbconvert_exporter": "python",
      "pygments_lexer": "ipython3",
      "version": "3.8.5"
    },
    "colab": {
      "name": "PD_202021_P1.ipynb",
      "provenance": [],
      "collapsed_sections": [],
      "include_colab_link": true
    }
  },
  "cells": [
    {
      "cell_type": "markdown",
      "metadata": {
        "id": "view-in-github",
        "colab_type": "text"
      },
      "source": [
        "<a href=\"https://colab.research.google.com/github/iamemc/PD_01/blob/main/PD_202021_P1.ipynb\" target=\"_parent\"><img src=\"https://colab.research.google.com/assets/colab-badge.svg\" alt=\"Open In Colab\"/></a>"
      ]
    },
    {
      "cell_type": "markdown",
      "metadata": {
        "id": "mDNH3eJgN0TE"
      },
      "source": [
        "# Data Mining / Prospeção de Dados\n",
        "\n",
        "## Diogo Soares and Sara C. Madeira, 2020/21\n",
        "\n",
        "# Project 1 - Pattern Mining"
      ]
    },
    {
      "cell_type": "markdown",
      "metadata": {
        "id": "a9uj2jIqN0TM"
      },
      "source": [
        "## Logistics \n",
        "**_Read Carefully_**\n",
        "\n",
        "**Students should work in teams of 2 or 3 people**. \n",
        "\n",
        "**TASK 3 - Spring vs Summer Purchases** must be done only by groups of 3 people.\n",
        "\n",
        "Individual projects might be allowed (with valid justification), but will not have better grades for this reason. \n",
        "\n",
        "The quality of the project will dictate its grade, not the number of people working.\n",
        "\n",
        "**The project's solution should be uploaded in Moodle before the end of `March, 28th (23:59)`.** \n",
        "\n",
        "Students should **upload a `.zip` file** containing all the files necessary for project evaluation. \n",
        "Groups should be registered in [Moodle](https://moodle.ciencias.ulisboa.pt/mod/groupselect/view.php?id=139096) and the zip file should be identified as `PDnn.zip` where `nn` is the number of your group.\n",
        "\n",
        "**It is mandatory to produce a Jupyter notebook containing code and text/images/tables/etc describing the solution and the results. Projects not delivered in this format will not be graded. You can use `PD_202021_P1.ipynb`as template. In your `.zip` folder you should also include an HTML version of your notebook with all the outputs** (File > Download as > HTML).\n",
        "\n",
        "**Decisions should be justified and results should be critically discussed.** \n",
        "\n",
        "_Project solutions containing only code and outputs without discussions will achieve a maximum grade 10 out of 20._"
      ]
    },
    {
      "cell_type": "markdown",
      "metadata": {
        "id": "WDY13YwuN0TN"
      },
      "source": [
        "## Dataset and Tools\n",
        "\n",
        "\n",
        "\n",
        "In this project you will analyse data from an online Store collected over 4 months (April - July 2014). The folder `data` contains three files that you should use to obtain the dataset to be used in pattern mining. \n",
        "\n",
        "The file `store-buys.dat` comprises the buy events of the users over the items. It contains **318.444 sessions**. Each record/line in the file has the following fields (with this order): \n",
        "\n",
        "* **Session ID** - the id of the session. In one session there are one or many buying events. Could be represented as an integer number.\n",
        "* **Timestamp** - the time when the buy occurred. Format of YYYY-MM-DDThh:mm:ss.SSSZ\n",
        "* **Item ID** – the unique identifier of item that has been bought. Could be represented as an integer number. \n",
        "* **Price** – the price of the item. Could be represented as an integer number.\n",
        "* **Quantity** – the quantity in this buying.  Could be represented as an integer number.\n",
        "\n",
        "The file `store-clicks.dat` comprises the clicks of the users over the items. It contains **5.613.499 sessions**.  Each record/line in the file has the following fields (with this order):\n",
        "\n",
        "* **Session ID** – the id of the session. In one session there are one or many clicks. Could be represented as an integer number.\n",
        "* **Timestamp** – the time when the click occurred. Format of YYYY-MM-DDThh:mm:ss.SSSZ\n",
        "* **Item ID** – the unique identifier of the item that has been clicked. Could be represented as an integer number.\n",
        "* **Context** – the context of the click. The value \"S\" indicates a special offer, \"0\" indicates  a missing value, a number between 1 to 12 indicates a real category identifier,\n",
        "any other number indicates a brand. E.g. if an item has been clicked in the context of a promotion or special offer then the value will be \"S\", if the context was a brand i.e BOSCH,\n",
        "then the value will be an 8-10 digits number. If the item has been clicked under regular category, i.e. sport, then the value will be a number between 1 to 12. \n",
        " \n",
        "The file `products.csv` comprises the list of products sold by the online store. It contains **46.294 different products** associated with **123 different subcategories**. Each record/line in the file has the following fields:\n",
        "\n",
        "* **Item ID** - the unique identifier of the item. Could be represented as an integer number. \n",
        "* **Product Categories** - the category and subcategories of the item. It is a string containing the category and subcategories of the item. Eg. `appliances.kitchen.juice`\n",
        "\n",
        "\n",
        "In this project you should use [Python 3](https://www.python.org), [Jupyter Notebook](http://jupyter.org) and **[MLxtend](http://rasbt.github.io/mlxtend/)**. When using MLxtend, frequent patterns can either be discovered using `Apriori` and `FP-Growth`. **Choose the pattern mining algorithm to be used.** \n"
      ]
    },
    {
      "cell_type": "markdown",
      "metadata": {
        "id": "cM_QHhWnN0TO"
      },
      "source": [
        "## Team Identification\n",
        "\n",
        "**GROUP PD03**\n",
        "\n",
        "Students:\n",
        "\n",
        "* Eduardo Carvalho - nº55881\n",
        "* Filipe Santos - nº55142\n",
        "* Ivo Oliveira - nº50301"
      ]
    },
    {
      "cell_type": "markdown",
      "metadata": {
        "id": "zxjFy6emN0TP"
      },
      "source": [
        "## 1. Mining Frequent Itemsets and Association Rules\n",
        "\n",
        "\n",
        "In this first part of the project you should load and preprocess the dataset  in order to compute frequent itemsets and generate association rules considering all the sessions."
      ]
    },
    {
      "cell_type": "markdown",
      "metadata": {
        "id": "Vg_C5lWnN0TQ"
      },
      "source": [
        "**In what follows keep the following question in mind and be creative!**\n",
        "\n",
        "1. What are the most interesting products?\n",
        "2. What are the most bought products?\n",
        "3. Which products are bought together?\n",
        "4. Can you find associations between the clicked products? \n",
        "5. Can you find associations highliting that when people buy a product/set of products also buy other product(s)?\n",
        "6. Can you find associations highliting that when people click in a product/set of products also buy this product(s)?\n",
        "7. Can you find relevant associated categories? "
      ]
    },
    {
      "cell_type": "markdown",
      "metadata": {
        "id": "1sip5BTVN0TQ"
      },
      "source": [
        "### 1.1. Load and Preprocess Data\n",
        "\n",
        " **Product quantities were not be considered.**\n",
        "\n",
        "##Limitations\n",
        "*Due to a problem in the database quantity (QTY) column, the SessionID that corresponds to an equivalent ID in Buys, was thus considered as a purchase. Altough this skews the expected results, the fact some buys had quantities of 0 and other problems, this was a temporarly, yet accurate metric of products and their given clicks and purchases*\n"
      ]
    },
    {
      "cell_type": "code",
      "metadata": {
        "id": "B91Kkqn7UPtp",
        "colab": {
          "base_uri": "https://localhost:8080/"
        },
        "outputId": "f88485c1-f266-4eb6-a753-fa1d7a65e53a"
      },
      "source": [
        "#!pip install mlxtend\n",
        "!pip install mlxtend --upgrade\n",
        "\n",
        "import pandas as pd\n",
        "import numpy as np\n",
        "import csv\n",
        "import matplotlib.pyplot as plt\n",
        "from matplotlib.collections import QuadMesh\n",
        "from matplotlib.text import Text\n",
        "from matplotlib.colors import LogNorm\n",
        "import seaborn as sns\n",
        "import tkinter as tkr\n",
        "from mlxtend.preprocessing import  TransactionEncoder\n",
        "from mlxtend.frequent_patterns import apriori\n",
        "from mlxtend.frequent_patterns import association_rules\n",
        "from mlxtend.frequent_patterns import fpgrowth"
      ],
      "execution_count": 1,
      "outputs": [
        {
          "output_type": "stream",
          "text": [
            "Requirement already up-to-date: mlxtend in /usr/local/lib/python3.7/dist-packages (0.18.0)\n",
            "Requirement already satisfied, skipping upgrade: scikit-learn>=0.20.3 in /usr/local/lib/python3.7/dist-packages (from mlxtend) (0.22.2.post1)\n",
            "Requirement already satisfied, skipping upgrade: setuptools in /usr/local/lib/python3.7/dist-packages (from mlxtend) (54.1.2)\n",
            "Requirement already satisfied, skipping upgrade: scipy>=1.2.1 in /usr/local/lib/python3.7/dist-packages (from mlxtend) (1.4.1)\n",
            "Requirement already satisfied, skipping upgrade: joblib>=0.13.2 in /usr/local/lib/python3.7/dist-packages (from mlxtend) (1.0.1)\n",
            "Requirement already satisfied, skipping upgrade: numpy>=1.16.2 in /usr/local/lib/python3.7/dist-packages (from mlxtend) (1.19.5)\n",
            "Requirement already satisfied, skipping upgrade: pandas>=0.24.2 in /usr/local/lib/python3.7/dist-packages (from mlxtend) (1.1.5)\n",
            "Requirement already satisfied, skipping upgrade: matplotlib>=3.0.0 in /usr/local/lib/python3.7/dist-packages (from mlxtend) (3.2.2)\n",
            "Requirement already satisfied, skipping upgrade: python-dateutil>=2.7.3 in /usr/local/lib/python3.7/dist-packages (from pandas>=0.24.2->mlxtend) (2.8.1)\n",
            "Requirement already satisfied, skipping upgrade: pytz>=2017.2 in /usr/local/lib/python3.7/dist-packages (from pandas>=0.24.2->mlxtend) (2018.9)\n",
            "Requirement already satisfied, skipping upgrade: cycler>=0.10 in /usr/local/lib/python3.7/dist-packages (from matplotlib>=3.0.0->mlxtend) (0.10.0)\n",
            "Requirement already satisfied, skipping upgrade: kiwisolver>=1.0.1 in /usr/local/lib/python3.7/dist-packages (from matplotlib>=3.0.0->mlxtend) (1.3.1)\n",
            "Requirement already satisfied, skipping upgrade: pyparsing!=2.0.4,!=2.1.2,!=2.1.6,>=2.0.1 in /usr/local/lib/python3.7/dist-packages (from matplotlib>=3.0.0->mlxtend) (2.4.7)\n",
            "Requirement already satisfied, skipping upgrade: six>=1.5 in /usr/local/lib/python3.7/dist-packages (from python-dateutil>=2.7.3->pandas>=0.24.2->mlxtend) (1.15.0)\n"
          ],
          "name": "stdout"
        }
      ]
    },
    {
      "cell_type": "code",
      "metadata": {
        "colab": {
          "base_uri": "https://localhost:8080/"
        },
        "id": "WNqxZ80XWZv_",
        "outputId": "291d3eeb-fea2-4c6a-e17d-e8eb887b1b17"
      },
      "source": [
        "from google.colab import drive\n",
        "drive.mount('/content/drive')"
      ],
      "execution_count": null,
      "outputs": [
        {
          "output_type": "stream",
          "text": [
            "Drive already mounted at /content/drive; to attempt to forcibly remount, call drive.mount(\"/content/drive\", force_remount=True).\n"
          ],
          "name": "stdout"
        }
      ]
    },
    {
      "cell_type": "code",
      "metadata": {
        "id": "NKIFWC5aWfje"
      },
      "source": [
        "products=pd.read_csv('/content/drive/MyDrive/Datasets/projetoPD/products.csv',\n",
        "                     header=None,\n",
        "                     names=['ItemID','Category'],\n",
        "                     dtype={'ItemID': np.int32, 'Category':str})\n",
        "buys=pd.read_csv('/content/drive/MyDrive/Datasets/projetoPD/store-buys.dat', \n",
        "                 header=None,\n",
        "                 names=['SessionID','TimeStamp','ItemID','Price','Qty'],\n",
        "                 dtype={'SessionID':np.int32, 'TimeStamp':str, 'ItemID': np.int32, \n",
        "                        'Price':np.int16, 'Qty':'category'})\n",
        "clicks=pd.read_csv('/content/drive/MyDrive/Datasets/projetoPD/store-clicks.dat', \n",
        "                   header=None,\n",
        "                   nrows=10352280,\n",
        "                   names=['SessionID','TimeStamp','ItemID','Context'],\n",
        "                   dtype={'SessionID':np.int32, 'TimeStamp':str, 'ItemID': np.int32, \n",
        "                        'Context':'category'})"
      ],
      "execution_count": null,
      "outputs": []
    },
    {
      "cell_type": "code",
      "metadata": {
        "colab": {
          "base_uri": "https://localhost:8080/"
        },
        "id": "wgtWKreBMD8x",
        "outputId": "5fe4b72f-00be-419d-99c3-5ed7a87d922d"
      },
      "source": [
        "buys = buys.drop(columns=['Qty'])\n",
        "products.memory_usage(deep=True)\n",
        "buys.memory_usage(deep=True)\n",
        "clicks.memory_usage(deep=True)\n",
        "clicks.info()"
      ],
      "execution_count": null,
      "outputs": [
        {
          "output_type": "stream",
          "text": [
            "<class 'pandas.core.frame.DataFrame'>\n",
            "RangeIndex: 10352280 entries, 0 to 10352279\n",
            "Data columns (total 4 columns):\n",
            " #   Column     Dtype   \n",
            "---  ------     -----   \n",
            " 0   SessionID  int32   \n",
            " 1   TimeStamp  object  \n",
            " 2   ItemID     int32   \n",
            " 3   Context    category\n",
            "dtypes: category(1), int32(2), object(1)\n",
            "memory usage: 167.8+ MB\n"
          ],
          "name": "stdout"
        }
      ]
    },
    {
      "cell_type": "markdown",
      "metadata": {
        "id": "SWWws1aeWWHv"
      },
      "source": [
        "#Database Corrections\n",
        "This code segment contains Database corrections of the following:\n",
        "- products_no_duplicates - removed duplicates\n",
        "- buys_upd - added product names & season"
      ]
    },
    {
      "cell_type": "code",
      "metadata": {
        "id": "ZTz2Y-u09rbA"
      },
      "source": [
        "\"\"\"\n",
        "DATABASE CORRECTIONS\n",
        "products_no_duplicates - removed duplicates\n",
        "buys_upd - added product names & season\n",
        "\"\"\"\n",
        "products_no_duplicates = products.drop_duplicates().reset_index(drop=True)\n",
        "\n",
        "buys_upd =pd.merge(buys,products_no_duplicates)\n",
        "clicks_upd= pd.merge(clicks,products_no_duplicates)\n",
        "\n",
        "#ignore prices/quantities of 0\n",
        "#buys_upd = buys_upd[buys_upd.Price>0]\n",
        "#buys_upd = buys_upd[buys_upd.Qty>0]\n",
        "#no click_upd ver context=0 (missing value)\n",
        "\n",
        "product_name_buys=[]\n",
        "for cat in buys_upd.Category:\n",
        "  product_name_buys.append(cat.split('.')[-1].replace('_',' ').title())\n",
        "product_name_clicks=[]\n",
        "for cat in clicks_upd.Category:\n",
        "  product_name_clicks.append(cat.split('.')[-1].replace('_',' ').title())\n",
        "#product_name[:5]\n",
        "\n",
        "buys_upd['ProductName']= product_name_buys\n",
        "buys_upd = buys_upd.drop('Category', axis=1)\n",
        "clicks_upd['ProductName']=product_name_clicks\n",
        "clicks_upd=clicks_upd.drop('Category', axis=1)\n",
        "\n",
        "dates_buys =[]\n",
        "season_buys =[]\n",
        "dates_clicks =[]\n",
        "season_clicks =[]\n",
        "\n",
        "for i in buys_upd[\"TimeStamp\"]:\n",
        "  dates_buys.append(i[:10])\n",
        "  if i[5:7] == \"04\" or i[5:7] == \"05\":\n",
        "     season_buys.append(\"Spring\")\n",
        "  elif i[5:7] == \"06\" or i[5:7] == \"07\":\n",
        "    season_buys.append(\"Summer\")\n",
        "  else:\n",
        "    season_buys.append(\"Other\")\n",
        "\n",
        "for i in clicks_upd[\"TimeStamp\"]:\n",
        "  dates_clicks.append(i[:10])\n",
        "  if i[5:7] == \"04\" or i[5:7] == \"05\":\n",
        "     season_clicks.append(\"Spring\")\n",
        "  elif i[5:7] == \"06\" or i[5:7] == \"07\":\n",
        "    season_clicks.append(\"Summer\")\n",
        "  else:\n",
        "    season_clicks.append(\"Other\")\n",
        "\n",
        "weekday_buys=[]\n",
        "buys_upd[\"TimeStamp\"] = pd.to_datetime(buys_upd[\"TimeStamp\"])\n",
        "buys_upd[\"Weekday_Num\"]=buys_upd[\"TimeStamp\"].dt.dayofweek \n",
        "for i in buys_upd[\"Weekday_Num\"]:\n",
        "  if i < 5: \n",
        "    weekday_buys.append(\"Weekday\")\n",
        "  else:\n",
        "    weekday_buys.append(\"Weekend\")\n",
        "\n",
        "weekday_clicks=[]\n",
        "clicks_upd[\"TimeStamp\"] = pd.to_datetime(clicks_upd[\"TimeStamp\"])\n",
        "clicks_upd[\"Weekday_Num\"]=clicks_upd[\"TimeStamp\"].dt.dayofweek \n",
        "for i in clicks_upd[\"Weekday_Num\"]:\n",
        "  if i < 5: \n",
        "    weekday_clicks.append(\"Weekday\")\n",
        "  else :\n",
        "    weekday_clicks.append(\"Weekend\")\n",
        "  \n",
        "buys_upd = buys_upd.drop(columns=['TimeStamp'])\n",
        "buys_upd.insert(1, \"TimeStamp\", dates_buys)\n",
        "buys_upd[\"Season\"] = season_buys\n",
        "buys_upd[\"Weekday\"] = weekday_buys\n",
        "buys_upd.sort_values(by='TimeStamp')\n",
        "\n",
        "clicks_upd = clicks_upd.drop(columns=['TimeStamp'])\n",
        "clicks_upd.insert(1, \"TimeStamp\", dates_clicks)\n",
        "clicks_upd[\"Season\"] = season_clicks\n",
        "clicks_upd[\"Weekday\"] = weekday_clicks\n",
        "#clicks_upd.sort_values(by='TimeStamp')"
      ],
      "execution_count": null,
      "outputs": []
    },
    {
      "cell_type": "code",
      "metadata": {
        "colab": {
          "base_uri": "https://localhost:8080/",
          "height": 206
        },
        "id": "IWXryR7jXqam",
        "outputId": "8edb4ad8-972a-4114-9249-869de01c0f21"
      },
      "source": [
        "buys_upd=buys_upd.sort_values(by='SessionID').reset_index(drop=True)\n",
        "buys_upd.head()"
      ],
      "execution_count": null,
      "outputs": [
        {
          "output_type": "execute_result",
          "data": {
            "text/html": [
              "<div>\n",
              "<style scoped>\n",
              "    .dataframe tbody tr th:only-of-type {\n",
              "        vertical-align: middle;\n",
              "    }\n",
              "\n",
              "    .dataframe tbody tr th {\n",
              "        vertical-align: top;\n",
              "    }\n",
              "\n",
              "    .dataframe thead th {\n",
              "        text-align: right;\n",
              "    }\n",
              "</style>\n",
              "<table border=\"1\" class=\"dataframe\">\n",
              "  <thead>\n",
              "    <tr style=\"text-align: right;\">\n",
              "      <th></th>\n",
              "      <th>SessionID</th>\n",
              "      <th>TimeStamp</th>\n",
              "      <th>ItemID</th>\n",
              "      <th>Price</th>\n",
              "      <th>ProductName</th>\n",
              "      <th>Weekday_Num</th>\n",
              "      <th>Season</th>\n",
              "      <th>Weekday</th>\n",
              "    </tr>\n",
              "  </thead>\n",
              "  <tbody>\n",
              "    <tr>\n",
              "      <th>0</th>\n",
              "      <td>11</td>\n",
              "      <td>2014-04-03</td>\n",
              "      <td>214821371</td>\n",
              "      <td>1046</td>\n",
              "      <td>Blender</td>\n",
              "      <td>3</td>\n",
              "      <td>Spring</td>\n",
              "      <td>Weekday</td>\n",
              "    </tr>\n",
              "    <tr>\n",
              "      <th>1</th>\n",
              "      <td>11</td>\n",
              "      <td>2014-04-03</td>\n",
              "      <td>214821371</td>\n",
              "      <td>1046</td>\n",
              "      <td>Blender</td>\n",
              "      <td>3</td>\n",
              "      <td>Spring</td>\n",
              "      <td>Weekday</td>\n",
              "    </tr>\n",
              "    <tr>\n",
              "      <th>2</th>\n",
              "      <td>12</td>\n",
              "      <td>2014-04-02</td>\n",
              "      <td>214717867</td>\n",
              "      <td>1778</td>\n",
              "      <td>Bag</td>\n",
              "      <td>2</td>\n",
              "      <td>Spring</td>\n",
              "      <td>Weekday</td>\n",
              "    </tr>\n",
              "    <tr>\n",
              "      <th>3</th>\n",
              "      <td>21</td>\n",
              "      <td>2014-04-07</td>\n",
              "      <td>214548744</td>\n",
              "      <td>3141</td>\n",
              "      <td>Skates</td>\n",
              "      <td>0</td>\n",
              "      <td>Spring</td>\n",
              "      <td>Weekday</td>\n",
              "    </tr>\n",
              "    <tr>\n",
              "      <th>4</th>\n",
              "      <td>21</td>\n",
              "      <td>2014-04-07</td>\n",
              "      <td>214838503</td>\n",
              "      <td>18745</td>\n",
              "      <td>Clocks</td>\n",
              "      <td>0</td>\n",
              "      <td>Spring</td>\n",
              "      <td>Weekday</td>\n",
              "    </tr>\n",
              "  </tbody>\n",
              "</table>\n",
              "</div>"
            ],
            "text/plain": [
              "   SessionID   TimeStamp     ItemID  ...  Weekday_Num  Season  Weekday\n",
              "0         11  2014-04-03  214821371  ...            3  Spring  Weekday\n",
              "1         11  2014-04-03  214821371  ...            3  Spring  Weekday\n",
              "2         12  2014-04-02  214717867  ...            2  Spring  Weekday\n",
              "3         21  2014-04-07  214548744  ...            0  Spring  Weekday\n",
              "4         21  2014-04-07  214838503  ...            0  Spring  Weekday\n",
              "\n",
              "[5 rows x 8 columns]"
            ]
          },
          "metadata": {
            "tags": []
          },
          "execution_count": 37
        }
      ]
    },
    {
      "cell_type": "code",
      "metadata": {
        "id": "KwXZCzn3lhos",
        "colab": {
          "base_uri": "https://localhost:8080/"
        },
        "outputId": "a6a24531-6172-4acf-df1d-90b28df4ee72"
      },
      "source": [
        "len(buys)-len(buys.drop_duplicates())"
      ],
      "execution_count": null,
      "outputs": [
        {
          "output_type": "execute_result",
          "data": {
            "text/plain": [
              "135"
            ]
          },
          "metadata": {
            "tags": []
          },
          "execution_count": 47
        }
      ]
    },
    {
      "cell_type": "markdown",
      "metadata": {
        "id": "7rwLtqj_iI2L"
      },
      "source": [
        "Existem 135 registos duplicados. Precisamos de os remover para avançar com a análise."
      ]
    },
    {
      "cell_type": "code",
      "metadata": {
        "colab": {
          "base_uri": "https://localhost:8080/"
        },
        "id": "HU_U5TpgiU4m",
        "outputId": "1a24b7b2-662f-49df-8c28-ea77ab55f52f"
      },
      "source": [
        "buys_upd=buys_upd.drop_duplicates().reset_index(drop=True)"
      ],
      "execution_count": null,
      "outputs": [
        {
          "output_type": "execute_result",
          "data": {
            "text/plain": [
              "619267"
            ]
          },
          "metadata": {
            "tags": []
          },
          "execution_count": 38
        }
      ]
    },
    {
      "cell_type": "code",
      "metadata": {
        "colab": {
          "base_uri": "https://localhost:8080/",
          "height": 206
        },
        "id": "IDezmzROYVeL",
        "outputId": "632a1af7-c439-4bf2-9d4d-b1858a24e8b8"
      },
      "source": [
        "clicks_upd=clicks_upd.sort_values(by='SessionID').reset_index(drop=True)"
      ],
      "execution_count": null,
      "outputs": [
        {
          "output_type": "execute_result",
          "data": {
            "text/html": [
              "<div>\n",
              "<style scoped>\n",
              "    .dataframe tbody tr th:only-of-type {\n",
              "        vertical-align: middle;\n",
              "    }\n",
              "\n",
              "    .dataframe tbody tr th {\n",
              "        vertical-align: top;\n",
              "    }\n",
              "\n",
              "    .dataframe thead th {\n",
              "        text-align: right;\n",
              "    }\n",
              "</style>\n",
              "<table border=\"1\" class=\"dataframe\">\n",
              "  <thead>\n",
              "    <tr style=\"text-align: right;\">\n",
              "      <th></th>\n",
              "      <th>SessionID</th>\n",
              "      <th>TimeStamp</th>\n",
              "      <th>ItemID</th>\n",
              "      <th>Context</th>\n",
              "      <th>ProductName</th>\n",
              "      <th>Weekday_Num</th>\n",
              "      <th>Season</th>\n",
              "      <th>Weekday</th>\n",
              "    </tr>\n",
              "  </thead>\n",
              "  <tbody>\n",
              "    <tr>\n",
              "      <th>0</th>\n",
              "      <td>1</td>\n",
              "      <td>2014-04-07</td>\n",
              "      <td>214536502</td>\n",
              "      <td>0</td>\n",
              "      <td>Tablet</td>\n",
              "      <td>0</td>\n",
              "      <td>Spring</td>\n",
              "      <td>Weekday</td>\n",
              "    </tr>\n",
              "    <tr>\n",
              "      <th>1</th>\n",
              "      <td>1</td>\n",
              "      <td>2014-04-07</td>\n",
              "      <td>214577561</td>\n",
              "      <td>0</td>\n",
              "      <td>Headphone</td>\n",
              "      <td>0</td>\n",
              "      <td>Spring</td>\n",
              "      <td>Weekday</td>\n",
              "    </tr>\n",
              "    <tr>\n",
              "      <th>2</th>\n",
              "      <td>1</td>\n",
              "      <td>2014-04-07</td>\n",
              "      <td>214536506</td>\n",
              "      <td>0</td>\n",
              "      <td>Tablet</td>\n",
              "      <td>0</td>\n",
              "      <td>Spring</td>\n",
              "      <td>Weekday</td>\n",
              "    </tr>\n",
              "    <tr>\n",
              "      <th>3</th>\n",
              "      <td>1</td>\n",
              "      <td>2014-04-07</td>\n",
              "      <td>214536500</td>\n",
              "      <td>0</td>\n",
              "      <td>Tablet</td>\n",
              "      <td>0</td>\n",
              "      <td>Spring</td>\n",
              "      <td>Weekday</td>\n",
              "    </tr>\n",
              "    <tr>\n",
              "      <th>4</th>\n",
              "      <td>2</td>\n",
              "      <td>2014-04-07</td>\n",
              "      <td>214551617</td>\n",
              "      <td>0</td>\n",
              "      <td>Scales</td>\n",
              "      <td>0</td>\n",
              "      <td>Spring</td>\n",
              "      <td>Weekday</td>\n",
              "    </tr>\n",
              "  </tbody>\n",
              "</table>\n",
              "</div>"
            ],
            "text/plain": [
              "   SessionID   TimeStamp     ItemID  ... Weekday_Num  Season  Weekday\n",
              "0          1  2014-04-07  214536502  ...           0  Spring  Weekday\n",
              "1          1  2014-04-07  214577561  ...           0  Spring  Weekday\n",
              "2          1  2014-04-07  214536506  ...           0  Spring  Weekday\n",
              "3          1  2014-04-07  214536500  ...           0  Spring  Weekday\n",
              "4          2  2014-04-07  214551617  ...           0  Spring  Weekday\n",
              "\n",
              "[5 rows x 8 columns]"
            ]
          },
          "metadata": {
            "tags": []
          },
          "execution_count": 39
        }
      ]
    },
    {
      "cell_type": "code",
      "metadata": {
        "colab": {
          "base_uri": "https://localhost:8080/"
        },
        "id": "473WzJVeii2-",
        "outputId": "87b92cad-6db2-4094-d794-5cf3736990f8"
      },
      "source": [
        "len(clicks)-len(clicks.drop_duplicates())"
      ],
      "execution_count": null,
      "outputs": [
        {
          "output_type": "execute_result",
          "data": {
            "text/plain": [
              "23"
            ]
          },
          "metadata": {
            "tags": []
          },
          "execution_count": 40
        }
      ]
    },
    {
      "cell_type": "markdown",
      "metadata": {
        "id": "3vFbpvpji3FI"
      },
      "source": [
        "Existem 23 registos duplicados. Precisamos de os remover para avançar com a análise."
      ]
    },
    {
      "cell_type": "code",
      "metadata": {
        "id": "VoS4GXLUi5KN"
      },
      "source": [
        "clicks_upd=clicks_upd.drop_duplicates().reset_index(drop=True)"
      ],
      "execution_count": null,
      "outputs": []
    },
    {
      "cell_type": "markdown",
      "metadata": {
        "id": "fxZsNNFdWtju"
      },
      "source": [
        "# Most interesting items?"
      ]
    },
    {
      "cell_type": "markdown",
      "metadata": {
        "id": "wKUy8O4mXFvg"
      },
      "source": [
        "## Most Clicked Products\n"
      ]
    },
    {
      "cell_type": "code",
      "metadata": {
        "colab": {
          "base_uri": "https://localhost:8080/",
          "height": 381
        },
        "id": "GzTwF_zTUqty",
        "outputId": "850e2f20-70fa-42e3-970d-87b2141aa379"
      },
      "source": [
        "# What are the most interesting items? (most clicked)\n",
        "most_clicks = clicks_upd.groupby([\"ProductName\"], as_index=False).count().sort_values(by=\"SessionID\", ascending=False)\n",
        "most_clicks = most_clicks[['ProductName','SessionID']].reset_index(drop=True)\n",
        "most_clicks = most_clicks.rename(columns={'SessionID':'Clicks'})\n",
        "most_clicks.index += 1\n",
        "print(\"Table 1.\")\n",
        "most_clicks.head(10)"
      ],
      "execution_count": null,
      "outputs": [
        {
          "output_type": "stream",
          "text": [
            "Table 1.\n"
          ],
          "name": "stdout"
        },
        {
          "output_type": "execute_result",
          "data": {
            "text/html": [
              "<div>\n",
              "<style scoped>\n",
              "    .dataframe tbody tr th:only-of-type {\n",
              "        vertical-align: middle;\n",
              "    }\n",
              "\n",
              "    .dataframe tbody tr th {\n",
              "        vertical-align: top;\n",
              "    }\n",
              "\n",
              "    .dataframe thead th {\n",
              "        text-align: right;\n",
              "    }\n",
              "</style>\n",
              "<table border=\"1\" class=\"dataframe\">\n",
              "  <thead>\n",
              "    <tr style=\"text-align: right;\">\n",
              "      <th></th>\n",
              "      <th>ProductName</th>\n",
              "      <th>Clicks</th>\n",
              "    </tr>\n",
              "  </thead>\n",
              "  <tbody>\n",
              "    <tr>\n",
              "      <th>1</th>\n",
              "      <td>Tennis</td>\n",
              "      <td>664834</td>\n",
              "    </tr>\n",
              "    <tr>\n",
              "      <th>2</th>\n",
              "      <td>Memory</td>\n",
              "      <td>494996</td>\n",
              "    </tr>\n",
              "    <tr>\n",
              "      <th>3</th>\n",
              "      <td>Toster</td>\n",
              "      <td>343325</td>\n",
              "    </tr>\n",
              "    <tr>\n",
              "      <th>4</th>\n",
              "      <td>Blender</td>\n",
              "      <td>331917</td>\n",
              "    </tr>\n",
              "    <tr>\n",
              "      <th>5</th>\n",
              "      <td>Notebook</td>\n",
              "      <td>209466</td>\n",
              "    </tr>\n",
              "    <tr>\n",
              "      <th>6</th>\n",
              "      <td>Meat Grinder</td>\n",
              "      <td>209409</td>\n",
              "    </tr>\n",
              "    <tr>\n",
              "      <th>7</th>\n",
              "      <td>Monitor</td>\n",
              "      <td>208220</td>\n",
              "    </tr>\n",
              "    <tr>\n",
              "      <th>8</th>\n",
              "      <td>Iron</td>\n",
              "      <td>171817</td>\n",
              "    </tr>\n",
              "    <tr>\n",
              "      <th>9</th>\n",
              "      <td>Vacuum</td>\n",
              "      <td>160518</td>\n",
              "    </tr>\n",
              "    <tr>\n",
              "      <th>10</th>\n",
              "      <td>Bag</td>\n",
              "      <td>158312</td>\n",
              "    </tr>\n",
              "  </tbody>\n",
              "</table>\n",
              "</div>"
            ],
            "text/plain": [
              "     ProductName  Clicks\n",
              "1         Tennis  664834\n",
              "2         Memory  494996\n",
              "3         Toster  343325\n",
              "4        Blender  331917\n",
              "5       Notebook  209466\n",
              "6   Meat Grinder  209409\n",
              "7        Monitor  208220\n",
              "8           Iron  171817\n",
              "9         Vacuum  160518\n",
              "10           Bag  158312"
            ]
          },
          "metadata": {
            "tags": []
          },
          "execution_count": 42
        }
      ]
    },
    {
      "cell_type": "markdown",
      "metadata": {
        "id": "QCbsL2JnXUfB"
      },
      "source": [
        "> *The top three most clicked products are Memory Chips, with a total of 71265, followed by Blenders with 56013 and lastly, Meat Grinders with 32859. Below the product purchases will be shown through a a bar graph.*"
      ]
    },
    {
      "cell_type": "code",
      "metadata": {
        "colab": {
          "base_uri": "https://localhost:8080/",
          "height": 952
        },
        "id": "_6YbKXJiMkFk",
        "outputId": "aef1c710-243d-4d30-f7cf-f441c27c758b"
      },
      "source": [
        "#2. What are the most bought products?\n",
        "quantities = buys_upd.groupby([\"ProductName\"], as_index=False).count().sort_values(by=\"SessionID\", ascending=False)\n",
        "quantities2 = quantities\n",
        "quantities = quantities[['ProductName','SessionID']].reset_index(drop=True)\n",
        "quantities = quantities.rename(columns={'SessionID':'SalesCount'})\n",
        "quantities.index += 1 \n",
        "\n",
        "quantities = quantities[quantities.SalesCount>5000]\n",
        "most_bought = sns.catplot(x=\"ProductName\", y=\"SalesCount\", kind=\"bar\", data = quantities)\n",
        "most_bought.fig.suptitle('Figure 1. Number of Sales per Product')\n",
        "for ax in most_bought.axes.flat:\n",
        "    for label in ax.get_xticklabels():\n",
        "        label.set_rotation(75)\n",
        "most_bought.set(yticks=np.arange(0,60000,2500))\n",
        "most_bought.fig.set_figheight(12.5)\n",
        "most_bought.fig.set_figwidth(25)"
      ],
      "execution_count": null,
      "outputs": [
        {
          "output_type": "display_data",
          "data": {
            "image/png": "[encoded data removed]",
            "text/plain": [
              "<Figure size 1800x900 with 1 Axes>"
            ]
          },
          "metadata": {
            "tags": []
          }
        }
      ]
    },
    {
      "cell_type": "markdown",
      "metadata": {
        "id": "ztui73-RaN1f"
      },
      "source": [
        "> *The bar graph above, clearly shows the differences between product purchases. Interestingly products with more than 5 thousand sales don't exactly match to the most clicked items as seen in the previous table (Table 1.).\n",
        "For example, more than 55 thousand Tennis products were sold, however the same product can't be found in the top ten of most clicked online.\n",
        "The same happens in Lawn Mowers, with around 32.5 thousand sales.\n",
        "Memory chips, the second most bought has 32.5 thousand sales, that's 45% of the number of respective product clicks of said product.*"
      ]
    },
    {
      "cell_type": "code",
      "metadata": {
        "id": "mKvW8ziSe0NB"
      },
      "source": [
        "#prepare graph info\n",
        "quantities2 = buys_upd\n",
        "quantities2['SessionID'] = 1\n",
        "daysofWeek={0:'Segunda-Feira',1:'Terça-Feira',2:'Quarta-Feira',3:'Quinta-Feira', 4:'Sexta-Feira',5:'Sábado',6:'Domingo'}\n",
        "quantities2['Weekday_Num'] = quantities2['Weekday_Num'].map(daysofWeek)\n",
        "quantities2 = quantities2.groupby([\"Weekday_Num\",\"ProductName\"], as_index=False)['SessionID'].sum()\n",
        "\n",
        "drop_column = quantities2.groupby(['ProductName'], as_index=False)['SessionID'].sum()\n",
        "drop_column = drop_column.sort_values(by='SessionID', ascending=False)\n",
        "drop_column = drop_column.tail(-20)\n",
        "drop_column = drop_column['ProductName']\n",
        "\n",
        "quantities2 = quantities2[~quantities2['ProductName'].isin(drop_column)]\n",
        "quantities2 = quantities2.sort_values(by='SessionID', ascending=False).reset_index(drop=True)\n",
        "quantities2 = quantities2.pivot_table(index='Weekday_Num', columns = 'ProductName')['SessionID']\n",
        "quantities2 = quantities2.reindex(['Segunda-Feira','Terça-Feira', 'Quarta-Feira','Quinta-Feira', 'Sexta-Feira','Sábado','Domingo'])\n",
        "# ----- get max & min values for graph\n",
        "hm_vmax = quantities2.max()\n",
        "hm_vmax = hm_vmax.max()\n",
        "hm_vmin = quantities2.min()\n",
        "hm_vmin = hm_vmin.min()\n",
        "quantities2['Total'] = quantities2.sum(axis=1)"
      ],
      "execution_count": null,
      "outputs": []
    },
    {
      "cell_type": "code",
      "metadata": {
        "id": "EYmkJddUBDvj",
        "colab": {
          "base_uri": "https://localhost:8080/",
          "height": 744
        },
        "outputId": "0af52eaf-7414-4869-a6f8-7cdb2f85579e"
      },
      "source": [
        "#process data for heatmap graph\n",
        "sns.set(font_scale = 1.4)\n",
        "fig, ax = plt.subplots(figsize=(30,10))\n",
        "plt.suptitle(\"Product clicks per day of the week\")\n",
        "sns.heatmap(quantities2, cmap='coolwarm', square=True, linewidths=1, annot=True, fmt=\"d\", vmin=hm_vmin*2, vmax=hm_vmax/2.5)\n",
        "quadmesh = ax.findobj(QuadMesh)[0] # get array of colors\n",
        "facecolors = quadmesh.get_facecolors()\n",
        "facecolors[np.arange(20,147,21)] = np.array([1,1,1,1]) # make colors of the last column white\n",
        "quadmesh.set_facecolors = facecolors # set modified colors\n",
        "for i in ax.findobj(Text): # set color of all text to black\n",
        "    i.set_color('black')"
      ],
      "execution_count": null,
      "outputs": [
        {
          "output_type": "display_data",
          "data": {
            "image/png": "[encoded data removed]",
            "text/plain": [
              "<Figure size 2160x720 with 2 Axes>"
            ]
          },
          "metadata": {
            "tags": []
          }
        }
      ]
    },
    {
      "cell_type": "markdown",
      "metadata": {
        "id": "acR9RFBotBPA"
      },
      "source": [
        "> *Above is an heat map analysis of the 20 most sold products (sorted alphabetically) and their sales per day of the week. This visualization goes on pair with the previous bar graph, and in it we can see the sales dispersion clearly. On the rightmost column is the total number of sales per day.*\n",
        "\n",
        ">> *Sunday is by far the most popular day, with a total of 109025 sales and with the cells with the higher numbers. Tennis products bought at Sundays which number 16183 are the combination with the higher count.*\n",
        "\n",
        ">> *Besides Sundays, Saturdays and Mondays are the most popular days of the week to buy online with 62383 and 74115 purchases, respectively. On the opposite end, Tuesday is is the least popular day, with only 19855 purchases.*\n",
        "\n",
        ">> *As shown before, Tennis products are the most popular, and this is true for any day of the week compared to other products within the same day.*\n",
        "\n",
        "\n",
        "\n",
        "\n",
        "\n",
        "\n",
        "\n"
      ]
    },
    {
      "cell_type": "markdown",
      "metadata": {
        "id": "OGtqXH2AN0TR"
      },
      "source": [
        "## 1.2. Compute Frequent Itemsets"
      ]
    },
    {
      "cell_type": "markdown",
      "metadata": {
        "id": "BlQvTGPlN0TR"
      },
      "source": [
        "> *Due to restraints in processing power, some of the computing was done outside Google Colab, due to this the respective prints and subsequent analysis will be provided and the used code will be posted.*\n",
        "\n",
        "> *For sake of performance, it was decided to only use fpgrowth as it was the fastest option, as well as using less memory than apriori. From our tests, the result difference was negligenciable*"
      ]
    },
    {
      "cell_type": "code",
      "metadata": {
        "id": "C75zFtKn0PjW"
      },
      "source": [
        "#Setting up: Which products are bought together?\n",
        "all_sessions_buy={}\n",
        "for i in range(len(buys_upd)):\n",
        "  all_sessions_buy[buys_upd.SessionID[i]]=[]\n",
        "for i in range(len(buys_upd)):\n",
        "  if buys_upd.ProductName[i] not in all_sessions_buy.get(buys_upd.SessionID[i]):\n",
        "    all_sessions_buy[buys_upd.SessionID[i]].append(buys_upd.ProductName[i])\n",
        "\n",
        "transactions_buy=list(all_sessions_buy.values())"
      ],
      "execution_count": null,
      "outputs": []
    },
    {
      "cell_type": "code",
      "metadata": {
        "id": "DxUGXN9IOkts"
      },
      "source": [
        "#Setting up: Which products are viewed together?\n",
        "all_sessions_click={}\n",
        "for i in range(len(clicks_upd)):\n",
        "  all_sessions_click[clicks_upd.SessionID[i]]=[]\n",
        "for i in range(len(clicks_upd)):\n",
        "  if clicks_upd.ProductName[i] not in all_sessions_click.get(clicks_upd.SessionID[i]):\n",
        "    all_sessions_click[clicks_upd.SessionID[i]].append(clicks_upd.ProductName[i])\n",
        "\n",
        "transactions_click=list(all_sessions_click.values())"
      ],
      "execution_count": null,
      "outputs": []
    },
    {
      "cell_type": "code",
      "metadata": {
        "id": "SM-xjtM0D0DV"
      },
      "source": [
        "#Compute binary databases\n",
        "tr_enc = TransactionEncoder()\n",
        "#buys\n",
        "trans_array_buy = tr_enc.fit(transactions_buy).transform(transactions_buy)\n",
        "binary_database_buy = pd.DataFrame(trans_array_buy, columns = tr_enc.columns_)\n",
        "#clicks\n",
        "trans_array_click = tr_enc.fit(transactions_click).transform(transactions_click)\n",
        "binary_database_click = pd.DataFrame(trans_array_click, columns = tr_enc.columns_)"
      ],
      "execution_count": null,
      "outputs": []
    },
    {
      "cell_type": "markdown",
      "metadata": {
        "id": "0IRwj62ArZlk"
      },
      "source": [
        "> Frequent most bought itemsets considering a minimum support of 1%."
      ]
    },
    {
      "cell_type": "code",
      "metadata": {
        "id": "8Og91-ilTErn"
      },
      "source": [
        "#FP-Growth é melhori que apriori\n",
        "#buys\n",
        "frequent_itemsets_fpg_buy = fpgrowth(binary_database_buy, min_support=0.01, use_colnames=True)\n",
        "frequent_itemsets_fpg_buy['length'] = frequent_itemsets_fpg_buy['itemsets'].apply(lambda x: len(x))\n",
        "frequent_itemsets_fpg_buy.sort_values(by='support', ascending=False).reset_index()"
      ],
      "execution_count": null,
      "outputs": []
    },
    {
      "cell_type": "markdown",
      "metadata": {
        "id": "xhXffEjQwz0s"
      },
      "source": [
        "> **Products Sales - Ordered by Support.**\n",
        "\n",
        "![support0.025.png](data:image/png;base64,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)"
      ]
    },
    {
      "cell_type": "markdown",
      "metadata": {
        "id": "14sQB65cw-30"
      },
      "source": [
        "> *As seen in the image above, Tennis products are the most commonly bought single products with 13% Support. Memory Chips are the second with 8% and closely Lawn Mowers with 7.6%.*"
      ]
    },
    {
      "cell_type": "code",
      "metadata": {
        "id": "F6ici1TX_5-h"
      },
      "source": [
        "frequent_itemsets_fpg_buy.sort_values(by='length', ascending=False).reset_index()"
      ],
      "execution_count": null,
      "outputs": []
    },
    {
      "cell_type": "markdown",
      "metadata": {
        "id": "93C8os8zswQn"
      },
      "source": [
        "> **Products Sales - Ordered by Length.**\n",
        "\n",
        "![support0.025_length.png](data:image/png;base64,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)"
      ]
    },
    {
      "cell_type": "markdown",
      "metadata": {
        "id": "7UafbUOB-6xh"
      },
      "source": [
        "> *In the image above, we can see that for itemsets with a length higher than 2, outdoor related products are the most commonly bought together items. Tennis products and Lawn Mowers are the most bought with almost 2% Support. The outdoor combo of Grills and Lawn Mowers are the second most bought together, with 1.1%*"
      ]
    },
    {
      "cell_type": "code",
      "metadata": {
        "id": "MU0QLbbLF5gx"
      },
      "source": [
        "frequent_itemsets_fpg_clicks = fpgrowth(binary_database_click, min_support=0.01, use_colnames=True)\n",
        "frequent_itemsets_fpg_clicks['length'] = frequent_itemsets_fpg_clicks['itemsets'].apply(lambda x: len(x))\n",
        "frequent_itemsets_fpg_clicks.sort_values(by='length', ascending=False).reset_index()\n",
        "frequent_itemsets_fpg_clicks[(frequent_itemsets_fpg_clicks['support'] >= 0.01) & (frequent_itemsets_fpg_clicks['length'] >= 2)].sort_values(by='length', ascending=False).reset_index()"
      ],
      "execution_count": null,
      "outputs": []
    },
    {
      "cell_type": "markdown",
      "metadata": {
        "id": "4PZS-_qGAMqm"
      },
      "source": [
        "**Products Clicks - Ordered by Support and Length >= 2.**\n",
        "\n",
        "![mostclicked_len2.png](data:image/png;base64,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)"
      ]
    },
    {
      "cell_type": "markdown",
      "metadata": {
        "id": "Iq5viHbJGEQZ"
      },
      "source": [
        "> Interestingly, the most clicked itemsets are not the same as the most bought ones. Memory Chips and Tennis products are the most often clicked per user session with the highest Support of 2.9%. Memory Chips and Blenders are also highly clicked together with 2.1% Support. Followed by Tosters and Tennis with 1.9% Support.\n",
        "\n",
        "> In contrast with the most bought together products: Tennis and Lawn Mowers, these only appear in the 5th most clicked, with a Support of 1.5%"
      ]
    },
    {
      "cell_type": "markdown",
      "metadata": {
        "id": "Xni6Rit9N0TS"
      },
      "source": [
        "### Association Rules from Frequent Itemsets"
      ]
    },
    {
      "cell_type": "markdown",
      "metadata": {
        "id": "tfdeOt6uN0TT"
      },
      "source": [
        "\n",
        "\n",
        "* Generate association rules with a choosed value (C) for minimum confidence. \n",
        "* Generate association rules with a choosed value (L) for minimum lift. \n",
        "* Generate association rules with both confidence >= C% and lift >= L.\n",
        "* Change C and L when it makes sense and discuss the results."
      ]
    },
    {
      "cell_type": "code",
      "metadata": {
        "id": "sZ2QDZbdTPm0"
      },
      "source": [
        "# Generate association rules with confidence >= 90%\n",
        "rules_buy = association_rules(frequent_itemsets_fpg_buy, metric = \"confidence\", min_threshold=0.10)\n",
        "rules_buy_lift = association_rules(frequent_itemsets_fpg_buy, metric=\"lift\", min_threshold=1.2)\n",
        "rules_buy_lift[(rules_buy_lift['lift'] >= 2)].sort_values(by='lift', ascending=False).reset_index()\n",
        "rules_buy"
      ],
      "execution_count": null,
      "outputs": []
    },
    {
      "cell_type": "markdown",
      "metadata": {
        "id": "2cpzqorgX46K"
      },
      "source": [
        "![buys_lift_rules_low.png](data:image/png;base64,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)"
      ]
    },
    {
      "cell_type": "markdown",
      "metadata": {
        "id": "516yk8b2X_ES"
      },
      "source": [
        "> At first a minimum Lift threshold of 1.2 was used, however this proved to be a few too many, which will be explored below.\n",
        "\n",
        "> However we can denote a few items that are closely bought together, namely Fans and Memory chips, which overall display the higher confidence, lift and conviction. Altough the support isn't the highest, that is, the given pair doesn't appear that often in the baskets, when they do, they have a strong correlation.\n",
        "\n",
        "> Given it's high confidence threshold, the implication that it's usually bought together is given as quite truthful. The same is true for the overall lifts of the given output itemsets. Given a Lift higher than 1, this lets us know the degree to which those two occurrences are dependent on one another.\n",
        "\n",
        ">> This said both Fans and Memory chips strongly correlate with each other, the same is true for the following items, Memort Chips and Tennis, and Steam Cleaners and Lawn Mowers."
      ]
    },
    {
      "cell_type": "code",
      "metadata": {
        "id": "8asId41VbOUo"
      },
      "source": [
        "rules_buy_lift[(rules_buy_lift['confidence'] >= 0.15) & (rules_buy_lift['lift'] >= 2)].sort_values(by='lift', ascending=False).reset_index()"
      ],
      "execution_count": null,
      "outputs": []
    },
    {
      "cell_type": "markdown",
      "metadata": {
        "id": "Jzuz0XaTWlCa"
      },
      "source": [
        "**Products Sales - Ordered by Lift and Higher Confidence**\n",
        "\n",
        "> **Rules:**\n",
        "> *   Lift >= 2\n",
        "> *   Confidence >= 15%\n",
        "\n",
        "![rules2.png](data:image/png;base64,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)\n",
        "\n"
      ]
    },
    {
      "cell_type": "markdown",
      "metadata": {
        "id": "HLf__sUvaFiD"
      },
      "source": [
        "> With higher thresholds than the previous output, we can demonstrate more closely related items.\n",
        "\n",
        "> Note that grills and Lawn Mowers climbed to 2nd placed given the new criteria.\n",
        "\n",
        ">> It should be noted that most of the output, except for Grills and Lawn Mowers, is almost identical to the previous one the same except for fewer items that were filtered, but as it was sorted previously, the top itemsets were kept.\n",
        ">> These top itemsets are the ones we're iterested at, as they are the most commonly bought together, which a store manager or marketing department could take advantage of if discounts or similar promotions are considered in the future.\n",
        "\n",
        ">> A few things to take in mind is that many outdoor related items are bought, as given the high range of categories provided, this category should be given the most attention of marketing team."
      ]
    },
    {
      "cell_type": "code",
      "metadata": {
        "id": "Bc_tlnHlnIXS"
      },
      "source": [
        "rules_clicks_lift = association_rules(frequent_itemsets_fpg_clicks, metric=\"lift\", min_threshold=1.2)\n",
        "rules_clicks_lift[(rules_clicks_lift['lift'] >= 2)].sort_values(by='lift', ascending=False).reset_index()"
      ],
      "execution_count": null,
      "outputs": []
    },
    {
      "cell_type": "markdown",
      "metadata": {
        "id": "iceV9f5bnHbX"
      },
      "source": [
        "**Clicks per Session - Ordered by Lift**\n",
        "\n",
        "> **Rules:**\n",
        "> *   Lift >= 1.2\n",
        "> *   Confidence >= 15%\n",
        "\n",
        "![rules_clicks_015.png](data:image/png;base64,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)"
      ]
    },
    {
      "cell_type": "markdown",
      "metadata": {
        "id": "LQKH9qfMmhpN"
      },
      "source": [
        "**Clicks per Session - Ordered by Lift**\n",
        "\n",
        "> **Rules:**\n",
        "> *   Lift >= 2\n",
        "> *   Confidence >= 20%\n",
        "\n"
      ]
    },
    {
      "cell_type": "markdown",
      "metadata": {
        "id": "611Q1RXeN0TU"
      },
      "source": [
        "### 1.4. Take a Look at Maximal Patterns: Compute Maximal Frequent Itemsets"
      ]
    },
    {
      "cell_type": "code",
      "metadata": {
        "id": "vFKZRaiNN0TV"
      },
      "source": [
        ""
      ],
      "execution_count": null,
      "outputs": []
    },
    {
      "cell_type": "markdown",
      "metadata": {
        "id": "hCjPFDkhN0TW"
      },
      "source": [
        "### 1.5. Conclusions "
      ]
    },
    {
      "cell_type": "code",
      "metadata": {
        "id": "wckLxbQ5N0TW"
      },
      "source": [
        ""
      ],
      "execution_count": null,
      "outputs": []
    },
    {
      "cell_type": "markdown",
      "metadata": {
        "id": "K8AjOWwaN0TW"
      },
      "source": [
        "# 2. Week vs Weekend Purchases"
      ]
    },
    {
      "cell_type": "markdown",
      "metadata": {
        "id": "YNinPpoDN0TX"
      },
      "source": [
        "In this part of the project you should analyse the consumption patterns during the week vs during the weekeed.\n",
        "\n",
        "**In what follows keep the following question in mind and be creative!**\n",
        "\n",
        "1. The most interesting products are the same during the week and the weekend? \n",
        "2. What are the most bought products during the week? And during the weekend?\n",
        "3. There are differences between the sets of products bought during the week and the weekend?\n",
        "4. Can you find different associations highliting that when people click in a product/set of products also buy this product(s) during the week vs the weekend?\n",
        "5. Discuss the results obtained for the week sessions vs weekend sessions."
      ]
    },
    {
      "cell_type": "markdown",
      "metadata": {
        "id": "3rqmzoYiN0TX"
      },
      "source": [
        "### 2.1. Load and Preprocess Data\n",
        "\n",
        " **Product quantities should not be considered.**"
      ]
    },
    {
      "cell_type": "code",
      "metadata": {
        "id": "KUFNubG3N0TY"
      },
      "source": [
        ""
      ],
      "execution_count": null,
      "outputs": []
    },
    {
      "cell_type": "markdown",
      "metadata": {
        "id": "YQPHNWJiN0TY"
      },
      "source": [
        "### 2.2. Compute Frequent Itemsets"
      ]
    },
    {
      "cell_type": "markdown",
      "metadata": {
        "id": "36ZKu4VfN0TY"
      },
      "source": [
        "* Compute frequent itemsets considering a minimum support of X%. \n",
        "* Present frequent itemsets organized by length (number of items). \n",
        "* List frequent 1-itemsets, 2-itemsets, 3-itemsets, etc with support of at least Y%.\n",
        "* Change X and Y when it makes sense and discuss the results."
      ]
    },
    {
      "cell_type": "code",
      "metadata": {
        "id": "tmX6B6fNN0TY"
      },
      "source": [
        ""
      ],
      "execution_count": null,
      "outputs": []
    },
    {
      "cell_type": "markdown",
      "metadata": {
        "id": "fZrOgnotN0TY"
      },
      "source": [
        "### 2.3. Generate Association Rules from Frequent Itemsets"
      ]
    },
    {
      "cell_type": "markdown",
      "metadata": {
        "id": "JPxat6z9N0TY"
      },
      "source": [
        "* Generate association rules with a choosed value (C) for minimum confidence. \n",
        "* Generate association rules with a choosed value (L) for minimum lift. \n",
        "* Generate association rules with both confidence >= C% and lift >= L.\n",
        "* Change C and L when it makes sense and discuss the results."
      ]
    },
    {
      "cell_type": "code",
      "metadata": {
        "id": "wK5yk2o6N0TZ"
      },
      "source": [
        ""
      ],
      "execution_count": null,
      "outputs": []
    },
    {
      "cell_type": "markdown",
      "metadata": {
        "id": "5NpUVD7RN0Ta"
      },
      "source": [
        "### 2.4. Conclusions "
      ]
    },
    {
      "cell_type": "markdown",
      "metadata": {
        "id": "Dq4kYJZ2N0Ta"
      },
      "source": [
        "# 3. [Only Groups of 3] Spring vs Summer Purchases"
      ]
    },
    {
      "cell_type": "markdown",
      "metadata": {
        "id": "M9p1BNhLN0Ta"
      },
      "source": [
        "In this part of the project you should analyse the consumption patterns during the Spring months (April and May) vs Summer months (June and July).\n",
        "\n",
        "**In what follows keep the following question in mind and be creative!**\n",
        "\n",
        "1. The most interesting products are the same during the Spring and the Summer? \n",
        "2. What are the most bought products during the Spring? And during the Summer?\n",
        "3. There are differences between the sets of products bought during the Spring and the Summer?\n",
        "4. Can you find different associations highliting that when people click in a product/set of products also buy this product(s) during the Spring vs the Summer?\n",
        "5. Discuss the results obtained for the Spring sessions vs Summer sessions."
      ]
    },
    {
      "cell_type": "markdown",
      "metadata": {
        "id": "35ZLIzyMELjs"
      },
      "source": [
        "### 3.1. Load and Preprocess Data\n",
        "\n",
        " **Product quantities should not be considered.**"
      ]
    },
    {
      "cell_type": "code",
      "metadata": {
        "id": "XZ4O9nm9ELjw"
      },
      "source": [
        "item_cat={}\n",
        "with open('/content/drive/MyDrive/Datasets/projetoPD/products.csv',\n",
        "          newline='') as csvfile:\n",
        "          \n",
        "          reader = csv.DictReader(csvfile,\n",
        "                                  fieldnames=['ItemID','Category'])\n",
        "          for row in reader:\n",
        "            item_cat[row['ItemID']]=row['Category'].split('.')[-1].capitalize()"
      ],
      "execution_count": 2,
      "outputs": []
    },
    {
      "cell_type": "markdown",
      "metadata": {
        "id": "kAw7N62Q6ZfJ"
      },
      "source": [
        "### List of Summer transactions"
      ]
    },
    {
      "cell_type": "code",
      "metadata": {
        "colab": {
          "base_uri": "https://localhost:8080/"
        },
        "id": "j0DYxkAnz8bA",
        "outputId": "1b8bf15a-2cd7-4f1e-9fed-a9b46ae62560"
      },
      "source": [
        "summer_dict={}\n",
        "with open('/content/drive/MyDrive/Datasets/projetoPD/store-buys.dat',\n",
        "          newline='') as csvfile:\n",
        "\n",
        "          reader = csv.DictReader(csvfile,\n",
        "                                  fieldnames=['SessionID','TimeStamp',\n",
        "                                              'ItemID','Price','Qty'])\n",
        "          for row in reader:\n",
        "            if row['TimeStamp']>='2014-06-01' and row['TimeStamp']<'2014-08-01':\n",
        "              if row['SessionID'] not in summer_dict:\n",
        "                summer_dict[row['SessionID']]=[]\n",
        "              else:\n",
        "                if item_cat[row['ItemID']] not in summer_dict[row['SessionID']]:\n",
        "                  summer_dict[row['SessionID']].append(item_cat[row['ItemID']])\n",
        "\n",
        "nulls=[]\n",
        "for session, item in summer_dict.items():\n",
        "  if item==[]:\n",
        "    nulls.append(session)\n",
        "\n",
        "for id in nulls:\n",
        "  if id in summer_dict.keys():\n",
        "    del summer_dict[id]\n",
        "\n",
        "summer_buys=list(summer_dict.values())\n",
        "summer_buys[:3]"
      ],
      "execution_count": 3,
      "outputs": [
        {
          "output_type": "execute_result",
          "data": {
            "text/plain": [
              "[['Toster', 'Memory'], ['Monitor'], ['Meat_grinder']]"
            ]
          },
          "metadata": {
            "tags": []
          },
          "execution_count": 3
        }
      ]
    },
    {
      "cell_type": "markdown",
      "metadata": {
        "id": "f465irXO6hzK"
      },
      "source": [
        "### List of Spring transactions"
      ]
    },
    {
      "cell_type": "code",
      "metadata": {
        "colab": {
          "base_uri": "https://localhost:8080/"
        },
        "id": "nKvrocmo6UFy",
        "outputId": "f08b3906-25c6-4481-e510-c3957a361a70"
      },
      "source": [
        "spring_dict={}\n",
        "with open('/content/drive/MyDrive/Datasets/projetoPD/store-buys.dat',\n",
        "          newline='') as csvfile:\n",
        "\n",
        "          reader = csv.DictReader(csvfile,\n",
        "                                  fieldnames=['SessionID','TimeStamp',\n",
        "                                              'ItemID','Price','Qty'])\n",
        "          for row in reader:\n",
        "            if row['TimeStamp']>='2014-04-01' and row['TimeStamp']<'2014-06-01':\n",
        "              if row['SessionID'] not in spring_dict:\n",
        "                spring_dict[row['SessionID']]=[]\n",
        "              else:\n",
        "                if item_cat[row['ItemID']] not in spring_dict[row['SessionID']]:\n",
        "                  spring_dict[row['SessionID']].append(item_cat[row['ItemID']])\n",
        "\n",
        "nulls=[]\n",
        "for session, item in spring_dict.items():\n",
        "  if item==[]:\n",
        "    nulls.append(session)\n",
        "\n",
        "for id in nulls:\n",
        "  if id in spring_dict.keys():\n",
        "    del spring_dict[id]\n",
        "\n",
        "spring_buys=list(spring_dict.values())\n",
        "spring_buys[:3]"
      ],
      "execution_count": 4,
      "outputs": [
        {
          "output_type": "execute_result",
          "data": {
            "text/plain": [
              "[['Router'], ['Toster'], ['Telephone', 'Pillow', 'Cpu', 'Scales']]"
            ]
          },
          "metadata": {
            "tags": []
          },
          "execution_count": 4
        }
      ]
    },
    {
      "cell_type": "markdown",
      "metadata": {
        "id": "IN_vRv0v7OIf"
      },
      "source": [
        "### List of Summer Clicks"
      ]
    },
    {
      "cell_type": "code",
      "metadata": {
        "colab": {
          "base_uri": "https://localhost:8080/"
        },
        "id": "vInWu0RH7QYP",
        "outputId": "b8fee052-e372-4692-88ad-ec8bfa687c19"
      },
      "source": [
        "summer_dict={}\n",
        "with open('/content/drive/MyDrive/Datasets/projetoPD/store-clicks.dat',\n",
        "          newline='') as csvfile:\n",
        "\n",
        "          reader = csv.DictReader(csvfile,\n",
        "                                  fieldnames=['SessionID','TimeStamp',\n",
        "                                              'ItemID','Context'])\n",
        "          for row in reader:\n",
        "            if row['TimeStamp']>='2014-06-01' and row['TimeStamp']<'2014-08-01':\n",
        "              if row['SessionID'] not in summer_dict:\n",
        "                summer_dict[row['SessionID']]=[]\n",
        "              else:\n",
        "                if item_cat[row['ItemID']] not in summer_dict[row['SessionID']]:\n",
        "                  summer_dict[row['SessionID']].append(item_cat[row['ItemID']])\n",
        "\n",
        "nulls=[]\n",
        "for session, item in summer_dict.items():\n",
        "  if item==[]:\n",
        "    nulls.append(session)\n",
        "\n",
        "for id in nulls:\n",
        "  if id in summer_dict.keys():\n",
        "    del summer_dict[id]\n",
        "\n",
        "summer_clicks=list(summer_dict.values())\n",
        "summer_clicks[:3]"
      ],
      "execution_count": 5,
      "outputs": [
        {
          "output_type": "execute_result",
          "data": {
            "text/plain": [
              "[['Notebook', 'Clocks', 'Cultivator', 'Iron'],\n",
              " ['Monitor', 'Tonometer'],\n",
              " ['Monitor']]"
            ]
          },
          "metadata": {
            "tags": []
          },
          "execution_count": 5
        }
      ]
    },
    {
      "cell_type": "markdown",
      "metadata": {
        "id": "6WOjhqVE7O3L"
      },
      "source": [
        "### List of Spring Clicks"
      ]
    },
    {
      "cell_type": "code",
      "metadata": {
        "colab": {
          "base_uri": "https://localhost:8080/"
        },
        "id": "e99NgxBV7ryG",
        "outputId": "44664d94-857c-4669-8fbc-37698850c2e9"
      },
      "source": [
        "spring_dict={}\n",
        "with open('/content/drive/MyDrive/Datasets/projetoPD/store-clicks.dat',\n",
        "          newline='') as csvfile:\n",
        "\n",
        "          reader = csv.DictReader(csvfile,\n",
        "                                  fieldnames=['SessionID','TimeStamp',\n",
        "                                              'ItemID','Context'])\n",
        "          for row in reader:\n",
        "            if row['TimeStamp']>='2014-04-01' and row['TimeStamp']<'2014-06-01':\n",
        "              if row['SessionID'] not in spring_dict:\n",
        "                spring_dict[row['SessionID']]=[]\n",
        "              else:\n",
        "                if item_cat[row['ItemID']] not in spring_dict[row['SessionID']]:\n",
        "                  spring_dict[row['SessionID']].append(item_cat[row['ItemID']])\n",
        "\n",
        "nulls=[]\n",
        "for session, item in spring_dict.items():\n",
        "  if item==[]:\n",
        "    nulls.append(session)\n",
        "\n",
        "for id in nulls:\n",
        "  if id in spring_dict.keys():\n",
        "    del spring_dict[id]\n",
        "\n",
        "spring_clicks=list(spring_dict.values())\n",
        "spring_clicks[:3]"
      ],
      "execution_count": 6,
      "outputs": [
        {
          "output_type": "execute_result",
          "data": {
            "text/plain": [
              "[['Tablet', 'Headphone'],\n",
              " ['Table', 'Smartphone', 'Refrigerators', 'Scales'],\n",
              " ['Cpu', 'Notebook']]"
            ]
          },
          "metadata": {
            "tags": []
          },
          "execution_count": 6
        }
      ]
    },
    {
      "cell_type": "markdown",
      "metadata": {
        "id": "yYzIi3JjELkD"
      },
      "source": [
        "### 3.2. Compute Frequent Itemsets"
      ]
    },
    {
      "cell_type": "markdown",
      "metadata": {
        "id": "34NJi3djELkF"
      },
      "source": [
        "* Compute frequent itemsets considering a minimum support of X%. \n",
        "* Present frequent itemsets organized by length (number of items). \n",
        "* List frequent 1-itemsets, 2-itemsets, 3-itemsets, etc with support of at least Y%.\n",
        "* Change X and Y when it makes sense and discuss the results."
      ]
    },
    {
      "cell_type": "markdown",
      "metadata": {
        "id": "ipeE0ykWDiqP"
      },
      "source": [
        "### Summer Sales"
      ]
    },
    {
      "cell_type": "code",
      "metadata": {
        "colab": {
          "base_uri": "https://localhost:8080/",
          "height": 488
        },
        "id": "mavZCp69ELkI",
        "outputId": "4bac03bd-d06b-48ef-8783-20dde1fb29ce"
      },
      "source": [
        "# Binary Database\n",
        "tr_enc = TransactionEncoder()\n",
        "trans_array = tr_enc.fit(summer_buys).transform(summer_buys)\n",
        "summer_buys_binary = pd.DataFrame(trans_array, columns=tr_enc.columns_)\n",
        "\n",
        "# FP-Growth\n",
        "frequent_summer_buys=fpgrowth(summer_buys_binary, min_support=0.01,use_colnames=True)\n",
        "frequent_summer_buys['length'] = frequent_summer_buys['itemsets'].apply(lambda x: len(x))\n",
        "frequent_summer_buys=frequent_summer_buys.sort_values(by=['length','support'], ascending=False)\n",
        "frequent_summer_buys=frequent_summer_buys.reset_index(drop=True)\n",
        "frequent_summer_buys.index+=1\n",
        "\n",
        "# only 2 and 3 itemsets\n",
        "itemsets_summer_buys=frequent_summer_buys[frequent_summer_buys['length']>1]\n",
        "itemsets_summer_buys=itemsets_summer_buys.reset_index(drop=True)\n",
        "itemsets_summer_buys.index+=1\n",
        "itemsets_summer_buys"
      ],
      "execution_count": 7,
      "outputs": [
        {
          "output_type": "execute_result",
          "data": {
            "text/html": [
              "<div>\n",
              "<style scoped>\n",
              "    .dataframe tbody tr th:only-of-type {\n",
              "        vertical-align: middle;\n",
              "    }\n",
              "\n",
              "    .dataframe tbody tr th {\n",
              "        vertical-align: top;\n",
              "    }\n",
              "\n",
              "    .dataframe thead th {\n",
              "        text-align: right;\n",
              "    }\n",
              "</style>\n",
              "<table border=\"1\" class=\"dataframe\">\n",
              "  <thead>\n",
              "    <tr style=\"text-align: right;\">\n",
              "      <th></th>\n",
              "      <th>support</th>\n",
              "      <th>itemsets</th>\n",
              "      <th>length</th>\n",
              "    </tr>\n",
              "  </thead>\n",
              "  <tbody>\n",
              "    <tr>\n",
              "      <th>1</th>\n",
              "      <td>0.029238</td>\n",
              "      <td>(Lawn_mower, Grill)</td>\n",
              "      <td>2</td>\n",
              "    </tr>\n",
              "    <tr>\n",
              "      <th>2</th>\n",
              "      <td>0.025579</td>\n",
              "      <td>(Steam_cleaner, Lawn_mower)</td>\n",
              "      <td>2</td>\n",
              "    </tr>\n",
              "    <tr>\n",
              "      <th>3</th>\n",
              "      <td>0.021220</td>\n",
              "      <td>(Drill, Steam_cleaner)</td>\n",
              "      <td>2</td>\n",
              "    </tr>\n",
              "    <tr>\n",
              "      <th>4</th>\n",
              "      <td>0.018603</td>\n",
              "      <td>(Vacuum, Grill)</td>\n",
              "      <td>2</td>\n",
              "    </tr>\n",
              "    <tr>\n",
              "      <th>5</th>\n",
              "      <td>0.016176</td>\n",
              "      <td>(Drill, Lawn_mower)</td>\n",
              "      <td>2</td>\n",
              "    </tr>\n",
              "    <tr>\n",
              "      <th>6</th>\n",
              "      <td>0.015350</td>\n",
              "      <td>(Tonometer, Grill)</td>\n",
              "      <td>2</td>\n",
              "    </tr>\n",
              "    <tr>\n",
              "      <th>7</th>\n",
              "      <td>0.013889</td>\n",
              "      <td>(Steam_cleaner, Grill)</td>\n",
              "      <td>2</td>\n",
              "    </tr>\n",
              "    <tr>\n",
              "      <th>8</th>\n",
              "      <td>0.013101</td>\n",
              "      <td>(Toster, Vacuum)</td>\n",
              "      <td>2</td>\n",
              "    </tr>\n",
              "    <tr>\n",
              "      <th>9</th>\n",
              "      <td>0.012249</td>\n",
              "      <td>(Toster, Memory)</td>\n",
              "      <td>2</td>\n",
              "    </tr>\n",
              "    <tr>\n",
              "      <th>10</th>\n",
              "      <td>0.012160</td>\n",
              "      <td>(Drill, Grill)</td>\n",
              "      <td>2</td>\n",
              "    </tr>\n",
              "    <tr>\n",
              "      <th>11</th>\n",
              "      <td>0.011983</td>\n",
              "      <td>(Toster, Tennis)</td>\n",
              "      <td>2</td>\n",
              "    </tr>\n",
              "    <tr>\n",
              "      <th>12</th>\n",
              "      <td>0.011779</td>\n",
              "      <td>(Tennis, Tonometer)</td>\n",
              "      <td>2</td>\n",
              "    </tr>\n",
              "    <tr>\n",
              "      <th>13</th>\n",
              "      <td>0.010813</td>\n",
              "      <td>(Toster, Grill)</td>\n",
              "      <td>2</td>\n",
              "    </tr>\n",
              "    <tr>\n",
              "      <th>14</th>\n",
              "      <td>0.010089</td>\n",
              "      <td>(Tennis, Grill)</td>\n",
              "      <td>2</td>\n",
              "    </tr>\n",
              "  </tbody>\n",
              "</table>\n",
              "</div>"
            ],
            "text/plain": [
              "     support                     itemsets  length\n",
              "1   0.029238          (Lawn_mower, Grill)       2\n",
              "2   0.025579  (Steam_cleaner, Lawn_mower)       2\n",
              "3   0.021220       (Drill, Steam_cleaner)       2\n",
              "4   0.018603              (Vacuum, Grill)       2\n",
              "5   0.016176          (Drill, Lawn_mower)       2\n",
              "6   0.015350           (Tonometer, Grill)       2\n",
              "7   0.013889       (Steam_cleaner, Grill)       2\n",
              "8   0.013101             (Toster, Vacuum)       2\n",
              "9   0.012249             (Toster, Memory)       2\n",
              "10  0.012160               (Drill, Grill)       2\n",
              "11  0.011983             (Toster, Tennis)       2\n",
              "12  0.011779          (Tennis, Tonometer)       2\n",
              "13  0.010813              (Toster, Grill)       2\n",
              "14  0.010089              (Tennis, Grill)       2"
            ]
          },
          "metadata": {
            "tags": []
          },
          "execution_count": 7
        }
      ]
    },
    {
      "cell_type": "markdown",
      "metadata": {
        "id": "QwfWmfzTDlO-"
      },
      "source": [
        "### Spring Sales"
      ]
    },
    {
      "cell_type": "code",
      "metadata": {
        "colab": {
          "base_uri": "https://localhost:8080/",
          "height": 331
        },
        "id": "de_UtuCnGEMJ",
        "outputId": "f073d0d5-c20e-473e-b6dd-7145e6d5b2a5"
      },
      "source": [
        "# Binary database\n",
        "tr_enc = TransactionEncoder()\n",
        "trans_array = tr_enc.fit(spring_buys).transform(spring_buys)\n",
        "spring_buys_binary = pd.DataFrame(trans_array, columns=tr_enc.columns_)\n",
        "\n",
        "# FP-Growth\n",
        "frequent_spring_buys=fpgrowth(spring_buys_binary, min_support=0.01,use_colnames=True)\n",
        "frequent_spring_buys['length'] = frequent_spring_buys['itemsets'].apply(lambda x: len(x))\n",
        "frequent_spring_buys=frequent_spring_buys.sort_values(by=['length','support'], ascending=False)\n",
        "frequent_spring_buys=frequent_spring_buys.reset_index(drop=True)\n",
        "frequent_spring_buys.index+=1\n",
        "\n",
        "# only 2 and 3 itemsets\n",
        "itemsets_spring_buys=frequent_spring_buys[frequent_spring_buys['length']>1]\n",
        "itemsets_spring_buys=itemsets_spring_buys.reset_index(drop=True)\n",
        "itemsets_spring_buys.index+=1\n",
        "itemsets_spring_buys"
      ],
      "execution_count": 8,
      "outputs": [
        {
          "output_type": "execute_result",
          "data": {
            "text/html": [
              "<div>\n",
              "<style scoped>\n",
              "    .dataframe tbody tr th:only-of-type {\n",
              "        vertical-align: middle;\n",
              "    }\n",
              "\n",
              "    .dataframe tbody tr th {\n",
              "        vertical-align: top;\n",
              "    }\n",
              "\n",
              "    .dataframe thead th {\n",
              "        text-align: right;\n",
              "    }\n",
              "</style>\n",
              "<table border=\"1\" class=\"dataframe\">\n",
              "  <thead>\n",
              "    <tr style=\"text-align: right;\">\n",
              "      <th></th>\n",
              "      <th>support</th>\n",
              "      <th>itemsets</th>\n",
              "      <th>length</th>\n",
              "    </tr>\n",
              "  </thead>\n",
              "  <tbody>\n",
              "    <tr>\n",
              "      <th>1</th>\n",
              "      <td>0.032239</td>\n",
              "      <td>(Lawn_mower, Tennis)</td>\n",
              "      <td>2</td>\n",
              "    </tr>\n",
              "    <tr>\n",
              "      <th>2</th>\n",
              "      <td>0.024661</td>\n",
              "      <td>(Memory, Tennis)</td>\n",
              "      <td>2</td>\n",
              "    </tr>\n",
              "    <tr>\n",
              "      <th>3</th>\n",
              "      <td>0.020307</td>\n",
              "      <td>(Memory, Fan)</td>\n",
              "      <td>2</td>\n",
              "    </tr>\n",
              "    <tr>\n",
              "      <th>4</th>\n",
              "      <td>0.019178</td>\n",
              "      <td>(Memory, Blender)</td>\n",
              "      <td>2</td>\n",
              "    </tr>\n",
              "    <tr>\n",
              "      <th>5</th>\n",
              "      <td>0.016114</td>\n",
              "      <td>(Toster, Tennis)</td>\n",
              "      <td>2</td>\n",
              "    </tr>\n",
              "    <tr>\n",
              "      <th>6</th>\n",
              "      <td>0.014363</td>\n",
              "      <td>(Toster, Memory)</td>\n",
              "      <td>2</td>\n",
              "    </tr>\n",
              "    <tr>\n",
              "      <th>7</th>\n",
              "      <td>0.012589</td>\n",
              "      <td>(Fan, Tennis)</td>\n",
              "      <td>2</td>\n",
              "    </tr>\n",
              "    <tr>\n",
              "      <th>8</th>\n",
              "      <td>0.010585</td>\n",
              "      <td>(Tennis, Blender)</td>\n",
              "      <td>2</td>\n",
              "    </tr>\n",
              "    <tr>\n",
              "      <th>9</th>\n",
              "      <td>0.010113</td>\n",
              "      <td>(Monitor, Tennis)</td>\n",
              "      <td>2</td>\n",
              "    </tr>\n",
              "  </tbody>\n",
              "</table>\n",
              "</div>"
            ],
            "text/plain": [
              "    support              itemsets  length\n",
              "1  0.032239  (Lawn_mower, Tennis)       2\n",
              "2  0.024661      (Memory, Tennis)       2\n",
              "3  0.020307         (Memory, Fan)       2\n",
              "4  0.019178     (Memory, Blender)       2\n",
              "5  0.016114      (Toster, Tennis)       2\n",
              "6  0.014363      (Toster, Memory)       2\n",
              "7  0.012589         (Fan, Tennis)       2\n",
              "8  0.010585     (Tennis, Blender)       2\n",
              "9  0.010113     (Monitor, Tennis)       2"
            ]
          },
          "metadata": {
            "tags": []
          },
          "execution_count": 8
        }
      ]
    },
    {
      "cell_type": "markdown",
      "metadata": {
        "id": "vHP6xJW5DlGc"
      },
      "source": [
        "### Summer Clicks"
      ]
    },
    {
      "cell_type": "code",
      "metadata": {
        "colab": {
          "base_uri": "https://localhost:8080/",
          "height": 331
        },
        "id": "Q0XepRzLDt3O",
        "outputId": "a2253e92-5711-4d8b-e51d-ad932b25433a"
      },
      "source": [
        "# Binary database\n",
        "tr_enc = TransactionEncoder()\n",
        "trans_array = tr_enc.fit(summer_clicks).transform(summer_clicks)\n",
        "summer_clicks_binary = pd.DataFrame(trans_array, columns=tr_enc.columns_)\n",
        "\n",
        "# FP-Growth\n",
        "frequent_summer_clicks=fpgrowth(summer_clicks_binary, min_support=0.01,use_colnames=True)\n",
        "frequent_summer_clicks['length'] = frequent_summer_clicks['itemsets'].apply(lambda x: len(x))\n",
        "frequent_summer_clicks=frequent_summer_clicks.sort_values(by=['length','support'], ascending=False)\n",
        "frequent_summer_clicks=frequent_summer_clicks.reset_index(drop=True)\n",
        "frequent_summer_clicks.index+=1\n",
        "\n",
        "# only 2 and 3 itemsets\n",
        "itemsets_summer_clicks=frequent_summer_clicks[frequent_summer_clicks['length']>1]\n",
        "itemsets_summer_clicks=itemsets_summer_clicks.reset_index(drop=True)\n",
        "itemsets_summer_clicks.index+=1\n",
        "itemsets_summer_clicks"
      ],
      "execution_count": 9,
      "outputs": [
        {
          "output_type": "execute_result",
          "data": {
            "text/html": [
              "<div>\n",
              "<style scoped>\n",
              "    .dataframe tbody tr th:only-of-type {\n",
              "        vertical-align: middle;\n",
              "    }\n",
              "\n",
              "    .dataframe tbody tr th {\n",
              "        vertical-align: top;\n",
              "    }\n",
              "\n",
              "    .dataframe thead th {\n",
              "        text-align: right;\n",
              "    }\n",
              "</style>\n",
              "<table border=\"1\" class=\"dataframe\">\n",
              "  <thead>\n",
              "    <tr style=\"text-align: right;\">\n",
              "      <th></th>\n",
              "      <th>support</th>\n",
              "      <th>itemsets</th>\n",
              "      <th>length</th>\n",
              "    </tr>\n",
              "  </thead>\n",
              "  <tbody>\n",
              "    <tr>\n",
              "      <th>1</th>\n",
              "      <td>0.016855</td>\n",
              "      <td>(Steam_cleaner, Lawn_mower)</td>\n",
              "      <td>2</td>\n",
              "    </tr>\n",
              "    <tr>\n",
              "      <th>2</th>\n",
              "      <td>0.016253</td>\n",
              "      <td>(Tennis, Tonometer)</td>\n",
              "      <td>2</td>\n",
              "    </tr>\n",
              "    <tr>\n",
              "      <th>3</th>\n",
              "      <td>0.015978</td>\n",
              "      <td>(Lawn_mower, Grill)</td>\n",
              "      <td>2</td>\n",
              "    </tr>\n",
              "    <tr>\n",
              "      <th>4</th>\n",
              "      <td>0.014895</td>\n",
              "      <td>(Monitor, Tennis)</td>\n",
              "      <td>2</td>\n",
              "    </tr>\n",
              "    <tr>\n",
              "      <th>5</th>\n",
              "      <td>0.014628</td>\n",
              "      <td>(Drill, Steam_cleaner)</td>\n",
              "      <td>2</td>\n",
              "    </tr>\n",
              "    <tr>\n",
              "      <th>6</th>\n",
              "      <td>0.013489</td>\n",
              "      <td>(Monitor, Tonometer)</td>\n",
              "      <td>2</td>\n",
              "    </tr>\n",
              "    <tr>\n",
              "      <th>7</th>\n",
              "      <td>0.013375</td>\n",
              "      <td>(Tonometer, Grill)</td>\n",
              "      <td>2</td>\n",
              "    </tr>\n",
              "    <tr>\n",
              "      <th>8</th>\n",
              "      <td>0.012818</td>\n",
              "      <td>(Tennis, Grill)</td>\n",
              "      <td>2</td>\n",
              "    </tr>\n",
              "    <tr>\n",
              "      <th>9</th>\n",
              "      <td>0.011386</td>\n",
              "      <td>(Steam_cleaner, Grill)</td>\n",
              "      <td>2</td>\n",
              "    </tr>\n",
              "  </tbody>\n",
              "</table>\n",
              "</div>"
            ],
            "text/plain": [
              "    support                     itemsets  length\n",
              "1  0.016855  (Steam_cleaner, Lawn_mower)       2\n",
              "2  0.016253          (Tennis, Tonometer)       2\n",
              "3  0.015978          (Lawn_mower, Grill)       2\n",
              "4  0.014895            (Monitor, Tennis)       2\n",
              "5  0.014628       (Drill, Steam_cleaner)       2\n",
              "6  0.013489         (Monitor, Tonometer)       2\n",
              "7  0.013375           (Tonometer, Grill)       2\n",
              "8  0.012818              (Tennis, Grill)       2\n",
              "9  0.011386       (Steam_cleaner, Grill)       2"
            ]
          },
          "metadata": {
            "tags": []
          },
          "execution_count": 9
        }
      ]
    },
    {
      "cell_type": "markdown",
      "metadata": {
        "id": "N7HR-mQZDk9o"
      },
      "source": [
        "### Spring Clicks"
      ]
    },
    {
      "cell_type": "code",
      "metadata": {
        "colab": {
          "base_uri": "https://localhost:8080/",
          "height": 331
        },
        "id": "16MVU2FdDuWJ",
        "outputId": "a1d15713-9f0f-460c-90bc-a7007f21e943"
      },
      "source": [
        "# Binary database\n",
        "tr_enc = TransactionEncoder()\n",
        "trans_array = tr_enc.fit(spring_clicks).transform(spring_clicks)\n",
        "spring_clicks_binary = pd.DataFrame(trans_array, columns=tr_enc.columns_)\n",
        "\n",
        "# FP-Growth\n",
        "frequent_spring_clicks=fpgrowth(spring_clicks_binary, min_support=0.01,use_colnames=True)\n",
        "frequent_spring_clicks['length'] = frequent_spring_clicks['itemsets'].apply(lambda x: len(x))\n",
        "frequent_spring_clicks=frequent_spring_clicks.sort_values(by=['length','support'], ascending=False)\n",
        "frequent_spring_clicks=frequent_spring_clicks.reset_index(drop=True)\n",
        "frequent_spring_clicks.index+=1\n",
        "\n",
        "# only 2 and 3 itemsets\n",
        "itemsets_spring_clicks=frequent_spring_clicks[frequent_spring_clicks['length']>1]\n",
        "itemsets_spring_clicks=itemsets_spring_clicks.reset_index(drop=True)\n",
        "itemsets_spring_clicks.index+=1\n",
        "itemsets_spring_clicks"
      ],
      "execution_count": 10,
      "outputs": [
        {
          "output_type": "execute_result",
          "data": {
            "text/html": [
              "<div>\n",
              "<style scoped>\n",
              "    .dataframe tbody tr th:only-of-type {\n",
              "        vertical-align: middle;\n",
              "    }\n",
              "\n",
              "    .dataframe tbody tr th {\n",
              "        vertical-align: top;\n",
              "    }\n",
              "\n",
              "    .dataframe thead th {\n",
              "        text-align: right;\n",
              "    }\n",
              "</style>\n",
              "<table border=\"1\" class=\"dataframe\">\n",
              "  <thead>\n",
              "    <tr style=\"text-align: right;\">\n",
              "      <th></th>\n",
              "      <th>support</th>\n",
              "      <th>itemsets</th>\n",
              "      <th>length</th>\n",
              "    </tr>\n",
              "  </thead>\n",
              "  <tbody>\n",
              "    <tr>\n",
              "      <th>1</th>\n",
              "      <td>0.020973</td>\n",
              "      <td>(Memory, Tennis)</td>\n",
              "      <td>2</td>\n",
              "    </tr>\n",
              "    <tr>\n",
              "      <th>2</th>\n",
              "      <td>0.014714</td>\n",
              "      <td>(Memory, Blender)</td>\n",
              "      <td>2</td>\n",
              "    </tr>\n",
              "    <tr>\n",
              "      <th>3</th>\n",
              "      <td>0.013683</td>\n",
              "      <td>(Toster, Tennis)</td>\n",
              "      <td>2</td>\n",
              "    </tr>\n",
              "    <tr>\n",
              "      <th>4</th>\n",
              "      <td>0.011585</td>\n",
              "      <td>(Toster, Memory)</td>\n",
              "      <td>2</td>\n",
              "    </tr>\n",
              "    <tr>\n",
              "      <th>5</th>\n",
              "      <td>0.011573</td>\n",
              "      <td>(Memory, Fan)</td>\n",
              "      <td>2</td>\n",
              "    </tr>\n",
              "    <tr>\n",
              "      <th>6</th>\n",
              "      <td>0.010623</td>\n",
              "      <td>(Notebook, Tennis)</td>\n",
              "      <td>2</td>\n",
              "    </tr>\n",
              "    <tr>\n",
              "      <th>7</th>\n",
              "      <td>0.010334</td>\n",
              "      <td>(Lawn_mower, Tennis)</td>\n",
              "      <td>2</td>\n",
              "    </tr>\n",
              "    <tr>\n",
              "      <th>8</th>\n",
              "      <td>0.010200</td>\n",
              "      <td>(Tennis, Blender)</td>\n",
              "      <td>2</td>\n",
              "    </tr>\n",
              "    <tr>\n",
              "      <th>9</th>\n",
              "      <td>0.010180</td>\n",
              "      <td>(Monitor, Tennis)</td>\n",
              "      <td>2</td>\n",
              "    </tr>\n",
              "  </tbody>\n",
              "</table>\n",
              "</div>"
            ],
            "text/plain": [
              "    support              itemsets  length\n",
              "1  0.020973      (Memory, Tennis)       2\n",
              "2  0.014714     (Memory, Blender)       2\n",
              "3  0.013683      (Toster, Tennis)       2\n",
              "4  0.011585      (Toster, Memory)       2\n",
              "5  0.011573         (Memory, Fan)       2\n",
              "6  0.010623    (Notebook, Tennis)       2\n",
              "7  0.010334  (Lawn_mower, Tennis)       2\n",
              "8  0.010200     (Tennis, Blender)       2\n",
              "9  0.010180     (Monitor, Tennis)       2"
            ]
          },
          "metadata": {
            "tags": []
          },
          "execution_count": 10
        }
      ]
    },
    {
      "cell_type": "markdown",
      "metadata": {
        "id": "xaFHAuw2ELkL"
      },
      "source": [
        "### 3.3. Generate Association Rules from Frequent Itemsets"
      ]
    },
    {
      "cell_type": "markdown",
      "metadata": {
        "id": "2xFPFtSvELkL"
      },
      "source": [
        "* Generate association rules with a choosed value (C) for minimum confidence. \n",
        "* Generate association rules with a choosed value (L) for minimum lift. \n",
        "* Generate association rules with both confidence >= C% and lift >= L.\n",
        "* Change C and L when it makes sense and discuss the results."
      ]
    },
    {
      "cell_type": "markdown",
      "metadata": {
        "id": "7WwKbTtKtyUZ"
      },
      "source": [
        "### Summer Sales"
      ]
    },
    {
      "cell_type": "code",
      "metadata": {
        "colab": {
          "base_uri": "https://localhost:8080/",
          "height": 300
        },
        "id": "JJcjnJWaLP6x",
        "outputId": "ce3349c3-7eff-4836-b45d-edf722e8e64e"
      },
      "source": [
        "# Generate association rules with confidence >= 17.5%\n",
        "rules_summer_buys = association_rules(frequent_summer_buys, \n",
        "                                      metric = \"confidence\", \n",
        "                                      min_threshold=0.175)\n",
        "\n",
        "rules_summer_buys[['antecedents','consequents',\n",
        "                   'support','confidence','lift']]\\\n",
        "                  .sort_values(by=['confidence','lift'],\n",
        "                               ascending=False)\\\n",
        "                  .reset_index(drop=True)"
      ],
      "execution_count": 11,
      "outputs": [
        {
          "output_type": "execute_result",
          "data": {
            "text/html": [
              "<div>\n",
              "<style scoped>\n",
              "    .dataframe tbody tr th:only-of-type {\n",
              "        vertical-align: middle;\n",
              "    }\n",
              "\n",
              "    .dataframe tbody tr th {\n",
              "        vertical-align: top;\n",
              "    }\n",
              "\n",
              "    .dataframe thead th {\n",
              "        text-align: right;\n",
              "    }\n",
              "</style>\n",
              "<table border=\"1\" class=\"dataframe\">\n",
              "  <thead>\n",
              "    <tr style=\"text-align: right;\">\n",
              "      <th></th>\n",
              "      <th>antecedents</th>\n",
              "      <th>consequents</th>\n",
              "      <th>support</th>\n",
              "      <th>confidence</th>\n",
              "      <th>lift</th>\n",
              "    </tr>\n",
              "  </thead>\n",
              "  <tbody>\n",
              "    <tr>\n",
              "      <th>0</th>\n",
              "      <td>(Drill)</td>\n",
              "      <td>(Steam_cleaner)</td>\n",
              "      <td>0.021220</td>\n",
              "      <td>0.261387</td>\n",
              "      <td>1.931876</td>\n",
              "    </tr>\n",
              "    <tr>\n",
              "      <th>1</th>\n",
              "      <td>(Grill)</td>\n",
              "      <td>(Lawn_mower)</td>\n",
              "      <td>0.029238</td>\n",
              "      <td>0.237168</td>\n",
              "      <td>1.624847</td>\n",
              "    </tr>\n",
              "    <tr>\n",
              "      <th>2</th>\n",
              "      <td>(Memory)</td>\n",
              "      <td>(Toster)</td>\n",
              "      <td>0.012249</td>\n",
              "      <td>0.212101</td>\n",
              "      <td>2.640294</td>\n",
              "    </tr>\n",
              "    <tr>\n",
              "      <th>3</th>\n",
              "      <td>(Lawn_mower)</td>\n",
              "      <td>(Grill)</td>\n",
              "      <td>0.029238</td>\n",
              "      <td>0.200313</td>\n",
              "      <td>1.624847</td>\n",
              "    </tr>\n",
              "    <tr>\n",
              "      <th>4</th>\n",
              "      <td>(Drill)</td>\n",
              "      <td>(Lawn_mower)</td>\n",
              "      <td>0.016176</td>\n",
              "      <td>0.199249</td>\n",
              "      <td>1.365063</td>\n",
              "    </tr>\n",
              "    <tr>\n",
              "      <th>5</th>\n",
              "      <td>(Vacuum)</td>\n",
              "      <td>(Grill)</td>\n",
              "      <td>0.018603</td>\n",
              "      <td>0.197172</td>\n",
              "      <td>1.599363</td>\n",
              "    </tr>\n",
              "    <tr>\n",
              "      <th>6</th>\n",
              "      <td>(Steam_cleaner)</td>\n",
              "      <td>(Lawn_mower)</td>\n",
              "      <td>0.025579</td>\n",
              "      <td>0.189050</td>\n",
              "      <td>1.295188</td>\n",
              "    </tr>\n",
              "    <tr>\n",
              "      <th>7</th>\n",
              "      <td>(Lawn_mower)</td>\n",
              "      <td>(Steam_cleaner)</td>\n",
              "      <td>0.025579</td>\n",
              "      <td>0.175242</td>\n",
              "      <td>1.295188</td>\n",
              "    </tr>\n",
              "  </tbody>\n",
              "</table>\n",
              "</div>"
            ],
            "text/plain": [
              "       antecedents      consequents   support  confidence      lift\n",
              "0          (Drill)  (Steam_cleaner)  0.021220    0.261387  1.931876\n",
              "1          (Grill)     (Lawn_mower)  0.029238    0.237168  1.624847\n",
              "2         (Memory)         (Toster)  0.012249    0.212101  2.640294\n",
              "3     (Lawn_mower)          (Grill)  0.029238    0.200313  1.624847\n",
              "4          (Drill)     (Lawn_mower)  0.016176    0.199249  1.365063\n",
              "5         (Vacuum)          (Grill)  0.018603    0.197172  1.599363\n",
              "6  (Steam_cleaner)     (Lawn_mower)  0.025579    0.189050  1.295188\n",
              "7     (Lawn_mower)  (Steam_cleaner)  0.025579    0.175242  1.295188"
            ]
          },
          "metadata": {
            "tags": []
          },
          "execution_count": 11
        }
      ]
    },
    {
      "cell_type": "code",
      "metadata": {
        "colab": {
          "base_uri": "https://localhost:8080/",
          "height": 237
        },
        "id": "iXY87roDpYLv",
        "outputId": "3f32d643-d1d4-49e7-f8ed-717811cdb8a0"
      },
      "source": [
        "# Generate association rules with lift >= 1.7\n",
        "rules_summer_buys = association_rules(frequent_summer_buys, \n",
        "                                      metric = \"lift\", \n",
        "                                      min_threshold=1.7)\n",
        "\n",
        "rules_summer_buys[['antecedents','consequents',\n",
        "                   'support','confidence','lift']]\\\n",
        "                  .sort_values(by=['lift', 'confidence'],\n",
        "                               ascending=False)\\\n",
        "                  .reset_index(drop=True)"
      ],
      "execution_count": 12,
      "outputs": [
        {
          "output_type": "execute_result",
          "data": {
            "text/html": [
              "<div>\n",
              "<style scoped>\n",
              "    .dataframe tbody tr th:only-of-type {\n",
              "        vertical-align: middle;\n",
              "    }\n",
              "\n",
              "    .dataframe tbody tr th {\n",
              "        vertical-align: top;\n",
              "    }\n",
              "\n",
              "    .dataframe thead th {\n",
              "        text-align: right;\n",
              "    }\n",
              "</style>\n",
              "<table border=\"1\" class=\"dataframe\">\n",
              "  <thead>\n",
              "    <tr style=\"text-align: right;\">\n",
              "      <th></th>\n",
              "      <th>antecedents</th>\n",
              "      <th>consequents</th>\n",
              "      <th>support</th>\n",
              "      <th>confidence</th>\n",
              "      <th>lift</th>\n",
              "    </tr>\n",
              "  </thead>\n",
              "  <tbody>\n",
              "    <tr>\n",
              "      <th>0</th>\n",
              "      <td>(Memory)</td>\n",
              "      <td>(Toster)</td>\n",
              "      <td>0.012249</td>\n",
              "      <td>0.212101</td>\n",
              "      <td>2.640294</td>\n",
              "    </tr>\n",
              "    <tr>\n",
              "      <th>1</th>\n",
              "      <td>(Toster)</td>\n",
              "      <td>(Memory)</td>\n",
              "      <td>0.012249</td>\n",
              "      <td>0.152483</td>\n",
              "      <td>2.640294</td>\n",
              "    </tr>\n",
              "    <tr>\n",
              "      <th>2</th>\n",
              "      <td>(Steam_cleaner)</td>\n",
              "      <td>(Drill)</td>\n",
              "      <td>0.021220</td>\n",
              "      <td>0.156837</td>\n",
              "      <td>1.931876</td>\n",
              "    </tr>\n",
              "    <tr>\n",
              "      <th>3</th>\n",
              "      <td>(Drill)</td>\n",
              "      <td>(Steam_cleaner)</td>\n",
              "      <td>0.021220</td>\n",
              "      <td>0.261387</td>\n",
              "      <td>1.931876</td>\n",
              "    </tr>\n",
              "    <tr>\n",
              "      <th>4</th>\n",
              "      <td>(Toster)</td>\n",
              "      <td>(Vacuum)</td>\n",
              "      <td>0.013101</td>\n",
              "      <td>0.163081</td>\n",
              "      <td>1.728508</td>\n",
              "    </tr>\n",
              "    <tr>\n",
              "      <th>5</th>\n",
              "      <td>(Vacuum)</td>\n",
              "      <td>(Toster)</td>\n",
              "      <td>0.013101</td>\n",
              "      <td>0.138855</td>\n",
              "      <td>1.728508</td>\n",
              "    </tr>\n",
              "  </tbody>\n",
              "</table>\n",
              "</div>"
            ],
            "text/plain": [
              "       antecedents      consequents   support  confidence      lift\n",
              "0         (Memory)         (Toster)  0.012249    0.212101  2.640294\n",
              "1         (Toster)         (Memory)  0.012249    0.152483  2.640294\n",
              "2  (Steam_cleaner)          (Drill)  0.021220    0.156837  1.931876\n",
              "3          (Drill)  (Steam_cleaner)  0.021220    0.261387  1.931876\n",
              "4         (Toster)         (Vacuum)  0.013101    0.163081  1.728508\n",
              "5         (Vacuum)         (Toster)  0.013101    0.138855  1.728508"
            ]
          },
          "metadata": {
            "tags": []
          },
          "execution_count": 12
        }
      ]
    },
    {
      "cell_type": "code",
      "metadata": {
        "colab": {
          "base_uri": "https://localhost:8080/",
          "height": 112
        },
        "id": "5DeD29cs2P3M",
        "outputId": "4fc4289b-0758-483f-bb4b-e50554fd3356"
      },
      "source": [
        "# both metrics combined\n",
        "all_summer_buys=rules_summer_buys[rules_summer_buys['confidence']>=0.175]\n",
        "all_summer_buys[['antecedents','consequents',\n",
        "                   'support','confidence','lift']]\\\n",
        "                   .sort_values(by=['confidence','lift'], ascending=False)\\\n",
        "                   .reset_index(drop=True)"
      ],
      "execution_count": 13,
      "outputs": [
        {
          "output_type": "execute_result",
          "data": {
            "text/html": [
              "<div>\n",
              "<style scoped>\n",
              "    .dataframe tbody tr th:only-of-type {\n",
              "        vertical-align: middle;\n",
              "    }\n",
              "\n",
              "    .dataframe tbody tr th {\n",
              "        vertical-align: top;\n",
              "    }\n",
              "\n",
              "    .dataframe thead th {\n",
              "        text-align: right;\n",
              "    }\n",
              "</style>\n",
              "<table border=\"1\" class=\"dataframe\">\n",
              "  <thead>\n",
              "    <tr style=\"text-align: right;\">\n",
              "      <th></th>\n",
              "      <th>antecedents</th>\n",
              "      <th>consequents</th>\n",
              "      <th>support</th>\n",
              "      <th>confidence</th>\n",
              "      <th>lift</th>\n",
              "    </tr>\n",
              "  </thead>\n",
              "  <tbody>\n",
              "    <tr>\n",
              "      <th>0</th>\n",
              "      <td>(Drill)</td>\n",
              "      <td>(Steam_cleaner)</td>\n",
              "      <td>0.021220</td>\n",
              "      <td>0.261387</td>\n",
              "      <td>1.931876</td>\n",
              "    </tr>\n",
              "    <tr>\n",
              "      <th>1</th>\n",
              "      <td>(Memory)</td>\n",
              "      <td>(Toster)</td>\n",
              "      <td>0.012249</td>\n",
              "      <td>0.212101</td>\n",
              "      <td>2.640294</td>\n",
              "    </tr>\n",
              "  </tbody>\n",
              "</table>\n",
              "</div>"
            ],
            "text/plain": [
              "  antecedents      consequents   support  confidence      lift\n",
              "0     (Drill)  (Steam_cleaner)  0.021220    0.261387  1.931876\n",
              "1    (Memory)         (Toster)  0.012249    0.212101  2.640294"
            ]
          },
          "metadata": {
            "tags": []
          },
          "execution_count": 13
        }
      ]
    },
    {
      "cell_type": "markdown",
      "metadata": {
        "id": "0noC_ANqt1yQ"
      },
      "source": [
        "### Spring Sales"
      ]
    },
    {
      "cell_type": "code",
      "metadata": {
        "colab": {
          "base_uri": "https://localhost:8080/",
          "height": 206
        },
        "id": "WYePXm73Md9S",
        "outputId": "3242444b-9d50-4e06-e0bd-269d0e496d6f"
      },
      "source": [
        "# Generate association rules with confidence >= 20%\n",
        "rules_spring_buys = association_rules(frequent_spring_buys, \n",
        "                                      metric = \"confidence\", \n",
        "                                      min_threshold=0.2)\n",
        "\n",
        "rules_spring_buys[['antecedents','consequents',\n",
        "                   'support','confidence','lift']]\\\n",
        "                  .sort_values(by=['confidence','lift'],\n",
        "                               ascending=False)\\\n",
        "                  .reset_index(drop=True)"
      ],
      "execution_count": 14,
      "outputs": [
        {
          "output_type": "execute_result",
          "data": {
            "text/html": [
              "<div>\n",
              "<style scoped>\n",
              "    .dataframe tbody tr th:only-of-type {\n",
              "        vertical-align: middle;\n",
              "    }\n",
              "\n",
              "    .dataframe tbody tr th {\n",
              "        vertical-align: top;\n",
              "    }\n",
              "\n",
              "    .dataframe thead th {\n",
              "        text-align: right;\n",
              "    }\n",
              "</style>\n",
              "<table border=\"1\" class=\"dataframe\">\n",
              "  <thead>\n",
              "    <tr style=\"text-align: right;\">\n",
              "      <th></th>\n",
              "      <th>antecedents</th>\n",
              "      <th>consequents</th>\n",
              "      <th>support</th>\n",
              "      <th>confidence</th>\n",
              "      <th>lift</th>\n",
              "    </tr>\n",
              "  </thead>\n",
              "  <tbody>\n",
              "    <tr>\n",
              "      <th>0</th>\n",
              "      <td>(Lawn_mower)</td>\n",
              "      <td>(Tennis)</td>\n",
              "      <td>0.032239</td>\n",
              "      <td>0.526227</td>\n",
              "      <td>2.582032</td>\n",
              "    </tr>\n",
              "    <tr>\n",
              "      <th>1</th>\n",
              "      <td>(Fan)</td>\n",
              "      <td>(Memory)</td>\n",
              "      <td>0.020307</td>\n",
              "      <td>0.349524</td>\n",
              "      <td>2.438160</td>\n",
              "    </tr>\n",
              "    <tr>\n",
              "      <th>2</th>\n",
              "      <td>(Fan)</td>\n",
              "      <td>(Tennis)</td>\n",
              "      <td>0.012589</td>\n",
              "      <td>0.216693</td>\n",
              "      <td>1.063246</td>\n",
              "    </tr>\n",
              "    <tr>\n",
              "      <th>3</th>\n",
              "      <td>(Monitor)</td>\n",
              "      <td>(Tennis)</td>\n",
              "      <td>0.010113</td>\n",
              "      <td>0.215884</td>\n",
              "      <td>1.059276</td>\n",
              "    </tr>\n",
              "    <tr>\n",
              "      <th>4</th>\n",
              "      <td>(Toster)</td>\n",
              "      <td>(Tennis)</td>\n",
              "      <td>0.016114</td>\n",
              "      <td>0.205072</td>\n",
              "      <td>1.006224</td>\n",
              "    </tr>\n",
              "  </tbody>\n",
              "</table>\n",
              "</div>"
            ],
            "text/plain": [
              "    antecedents consequents   support  confidence      lift\n",
              "0  (Lawn_mower)    (Tennis)  0.032239    0.526227  2.582032\n",
              "1         (Fan)    (Memory)  0.020307    0.349524  2.438160\n",
              "2         (Fan)    (Tennis)  0.012589    0.216693  1.063246\n",
              "3     (Monitor)    (Tennis)  0.010113    0.215884  1.059276\n",
              "4      (Toster)    (Tennis)  0.016114    0.205072  1.006224"
            ]
          },
          "metadata": {
            "tags": []
          },
          "execution_count": 14
        }
      ]
    },
    {
      "cell_type": "code",
      "metadata": {
        "colab": {
          "base_uri": "https://localhost:8080/",
          "height": 175
        },
        "id": "dQnf-TeEvm3A",
        "outputId": "a7a03611-d60d-4685-cc0c-65aad9de76cf"
      },
      "source": [
        "# Generate association rules with lift >= 2\n",
        "rules_spring_buys = association_rules(frequent_spring_buys, \n",
        "                                      metric = \"lift\", \n",
        "                                      min_threshold=2)\n",
        "\n",
        "rules_spring_buys[['antecedents','consequents',\n",
        "                   'support','confidence','lift']]\\\n",
        "                  .sort_values(by=['lift', 'confidence'],\n",
        "                               ascending=False)\\\n",
        "                  .reset_index(drop=True)"
      ],
      "execution_count": 15,
      "outputs": [
        {
          "output_type": "execute_result",
          "data": {
            "text/html": [
              "<div>\n",
              "<style scoped>\n",
              "    .dataframe tbody tr th:only-of-type {\n",
              "        vertical-align: middle;\n",
              "    }\n",
              "\n",
              "    .dataframe tbody tr th {\n",
              "        vertical-align: top;\n",
              "    }\n",
              "\n",
              "    .dataframe thead th {\n",
              "        text-align: right;\n",
              "    }\n",
              "</style>\n",
              "<table border=\"1\" class=\"dataframe\">\n",
              "  <thead>\n",
              "    <tr style=\"text-align: right;\">\n",
              "      <th></th>\n",
              "      <th>antecedents</th>\n",
              "      <th>consequents</th>\n",
              "      <th>support</th>\n",
              "      <th>confidence</th>\n",
              "      <th>lift</th>\n",
              "    </tr>\n",
              "  </thead>\n",
              "  <tbody>\n",
              "    <tr>\n",
              "      <th>0</th>\n",
              "      <td>(Lawn_mower)</td>\n",
              "      <td>(Tennis)</td>\n",
              "      <td>0.032239</td>\n",
              "      <td>0.526227</td>\n",
              "      <td>2.582032</td>\n",
              "    </tr>\n",
              "    <tr>\n",
              "      <th>1</th>\n",
              "      <td>(Tennis)</td>\n",
              "      <td>(Lawn_mower)</td>\n",
              "      <td>0.032239</td>\n",
              "      <td>0.158189</td>\n",
              "      <td>2.582032</td>\n",
              "    </tr>\n",
              "    <tr>\n",
              "      <th>2</th>\n",
              "      <td>(Fan)</td>\n",
              "      <td>(Memory)</td>\n",
              "      <td>0.020307</td>\n",
              "      <td>0.349524</td>\n",
              "      <td>2.438160</td>\n",
              "    </tr>\n",
              "    <tr>\n",
              "      <th>3</th>\n",
              "      <td>(Memory)</td>\n",
              "      <td>(Fan)</td>\n",
              "      <td>0.020307</td>\n",
              "      <td>0.141652</td>\n",
              "      <td>2.438160</td>\n",
              "    </tr>\n",
              "  </tbody>\n",
              "</table>\n",
              "</div>"
            ],
            "text/plain": [
              "    antecedents   consequents   support  confidence      lift\n",
              "0  (Lawn_mower)      (Tennis)  0.032239    0.526227  2.582032\n",
              "1      (Tennis)  (Lawn_mower)  0.032239    0.158189  2.582032\n",
              "2         (Fan)      (Memory)  0.020307    0.349524  2.438160\n",
              "3      (Memory)         (Fan)  0.020307    0.141652  2.438160"
            ]
          },
          "metadata": {
            "tags": []
          },
          "execution_count": 15
        }
      ]
    },
    {
      "cell_type": "code",
      "metadata": {
        "colab": {
          "base_uri": "https://localhost:8080/",
          "height": 112
        },
        "id": "rIWy6JE43FXI",
        "outputId": "f4549354-1221-4371-994e-3199a0a75cf6"
      },
      "source": [
        "# both metrics combined\n",
        "all_spring_buys=rules_spring_buys[rules_spring_buys['confidence']>=0.2]\n",
        "all_spring_buys[['antecedents','consequents',\n",
        "                   'support','confidence','lift']]\\\n",
        "                   .sort_values(by=['confidence','lift'], ascending=False)\\\n",
        "                   .reset_index(drop=True)"
      ],
      "execution_count": 16,
      "outputs": [
        {
          "output_type": "execute_result",
          "data": {
            "text/html": [
              "<div>\n",
              "<style scoped>\n",
              "    .dataframe tbody tr th:only-of-type {\n",
              "        vertical-align: middle;\n",
              "    }\n",
              "\n",
              "    .dataframe tbody tr th {\n",
              "        vertical-align: top;\n",
              "    }\n",
              "\n",
              "    .dataframe thead th {\n",
              "        text-align: right;\n",
              "    }\n",
              "</style>\n",
              "<table border=\"1\" class=\"dataframe\">\n",
              "  <thead>\n",
              "    <tr style=\"text-align: right;\">\n",
              "      <th></th>\n",
              "      <th>antecedents</th>\n",
              "      <th>consequents</th>\n",
              "      <th>support</th>\n",
              "      <th>confidence</th>\n",
              "      <th>lift</th>\n",
              "    </tr>\n",
              "  </thead>\n",
              "  <tbody>\n",
              "    <tr>\n",
              "      <th>0</th>\n",
              "      <td>(Lawn_mower)</td>\n",
              "      <td>(Tennis)</td>\n",
              "      <td>0.032239</td>\n",
              "      <td>0.526227</td>\n",
              "      <td>2.582032</td>\n",
              "    </tr>\n",
              "    <tr>\n",
              "      <th>1</th>\n",
              "      <td>(Fan)</td>\n",
              "      <td>(Memory)</td>\n",
              "      <td>0.020307</td>\n",
              "      <td>0.349524</td>\n",
              "      <td>2.438160</td>\n",
              "    </tr>\n",
              "  </tbody>\n",
              "</table>\n",
              "</div>"
            ],
            "text/plain": [
              "    antecedents consequents   support  confidence      lift\n",
              "0  (Lawn_mower)    (Tennis)  0.032239    0.526227  2.582032\n",
              "1         (Fan)    (Memory)  0.020307    0.349524  2.438160"
            ]
          },
          "metadata": {
            "tags": []
          },
          "execution_count": 16
        }
      ]
    },
    {
      "cell_type": "markdown",
      "metadata": {
        "id": "D6rfN9kHt5SK"
      },
      "source": [
        "### Summer Clicks"
      ]
    },
    {
      "cell_type": "code",
      "metadata": {
        "colab": {
          "base_uri": "https://localhost:8080/",
          "height": 206
        },
        "id": "rLwceVaEMel2",
        "outputId": "e5de732d-42bc-4c1d-e5aa-8c3c664cb9e0"
      },
      "source": [
        "# Generate association rules with confidence >= 17%\n",
        "rules_summer_clicks = association_rules(frequent_summer_clicks, \n",
        "                                      metric = \"confidence\", \n",
        "                                      min_threshold=0.17)\n",
        "\n",
        "rules_summer_clicks[['antecedents','consequents',\n",
        "                     'support','confidence','lift']]\\\n",
        "                  .sort_values(by=['confidence','lift'],\n",
        "                               ascending=False)\\\n",
        "                  .reset_index(drop=True)"
      ],
      "execution_count": 17,
      "outputs": [
        {
          "output_type": "execute_result",
          "data": {
            "text/html": [
              "<div>\n",
              "<style scoped>\n",
              "    .dataframe tbody tr th:only-of-type {\n",
              "        vertical-align: middle;\n",
              "    }\n",
              "\n",
              "    .dataframe tbody tr th {\n",
              "        vertical-align: top;\n",
              "    }\n",
              "\n",
              "    .dataframe thead th {\n",
              "        text-align: right;\n",
              "    }\n",
              "</style>\n",
              "<table border=\"1\" class=\"dataframe\">\n",
              "  <thead>\n",
              "    <tr style=\"text-align: right;\">\n",
              "      <th></th>\n",
              "      <th>antecedents</th>\n",
              "      <th>consequents</th>\n",
              "      <th>support</th>\n",
              "      <th>confidence</th>\n",
              "      <th>lift</th>\n",
              "    </tr>\n",
              "  </thead>\n",
              "  <tbody>\n",
              "    <tr>\n",
              "      <th>0</th>\n",
              "      <td>(Drill)</td>\n",
              "      <td>(Steam_cleaner)</td>\n",
              "      <td>0.014628</td>\n",
              "      <td>0.216520</td>\n",
              "      <td>2.042002</td>\n",
              "    </tr>\n",
              "    <tr>\n",
              "      <th>1</th>\n",
              "      <td>(Lawn_mower)</td>\n",
              "      <td>(Steam_cleaner)</td>\n",
              "      <td>0.016855</td>\n",
              "      <td>0.184429</td>\n",
              "      <td>1.739350</td>\n",
              "    </tr>\n",
              "    <tr>\n",
              "      <th>2</th>\n",
              "      <td>(Grill)</td>\n",
              "      <td>(Lawn_mower)</td>\n",
              "      <td>0.015978</td>\n",
              "      <td>0.182697</td>\n",
              "      <td>1.999111</td>\n",
              "    </tr>\n",
              "    <tr>\n",
              "      <th>3</th>\n",
              "      <td>(Monitor)</td>\n",
              "      <td>(Tennis)</td>\n",
              "      <td>0.014895</td>\n",
              "      <td>0.178820</td>\n",
              "      <td>1.847021</td>\n",
              "    </tr>\n",
              "    <tr>\n",
              "      <th>4</th>\n",
              "      <td>(Lawn_mower)</td>\n",
              "      <td>(Grill)</td>\n",
              "      <td>0.015978</td>\n",
              "      <td>0.174829</td>\n",
              "      <td>1.999111</td>\n",
              "    </tr>\n",
              "  </tbody>\n",
              "</table>\n",
              "</div>"
            ],
            "text/plain": [
              "    antecedents      consequents   support  confidence      lift\n",
              "0       (Drill)  (Steam_cleaner)  0.014628    0.216520  2.042002\n",
              "1  (Lawn_mower)  (Steam_cleaner)  0.016855    0.184429  1.739350\n",
              "2       (Grill)     (Lawn_mower)  0.015978    0.182697  1.999111\n",
              "3     (Monitor)         (Tennis)  0.014895    0.178820  1.847021\n",
              "4  (Lawn_mower)          (Grill)  0.015978    0.174829  1.999111"
            ]
          },
          "metadata": {
            "tags": []
          },
          "execution_count": 17
        }
      ]
    },
    {
      "cell_type": "code",
      "metadata": {
        "colab": {
          "base_uri": "https://localhost:8080/",
          "height": 237
        },
        "id": "ORBccDrTwA0b",
        "outputId": "a189a299-9bd0-463d-c594-e641c3021a09"
      },
      "source": [
        "# Generate association rules with lift >= 1.8\n",
        "rules_summer_clicks = association_rules(frequent_summer_clicks, \n",
        "                                      metric = \"lift\", \n",
        "                                      min_threshold=1.8)\n",
        "\n",
        "rules_summer_clicks[['antecedents','consequents',\n",
        "                     'support','confidence','lift']]\\\n",
        "                  .sort_values(by=['lift', 'confidence'],\n",
        "                               ascending=False)\\\n",
        "                  .reset_index(drop=True)"
      ],
      "execution_count": 18,
      "outputs": [
        {
          "output_type": "execute_result",
          "data": {
            "text/html": [
              "<div>\n",
              "<style scoped>\n",
              "    .dataframe tbody tr th:only-of-type {\n",
              "        vertical-align: middle;\n",
              "    }\n",
              "\n",
              "    .dataframe tbody tr th {\n",
              "        vertical-align: top;\n",
              "    }\n",
              "\n",
              "    .dataframe thead th {\n",
              "        text-align: right;\n",
              "    }\n",
              "</style>\n",
              "<table border=\"1\" class=\"dataframe\">\n",
              "  <thead>\n",
              "    <tr style=\"text-align: right;\">\n",
              "      <th></th>\n",
              "      <th>antecedents</th>\n",
              "      <th>consequents</th>\n",
              "      <th>support</th>\n",
              "      <th>confidence</th>\n",
              "      <th>lift</th>\n",
              "    </tr>\n",
              "  </thead>\n",
              "  <tbody>\n",
              "    <tr>\n",
              "      <th>0</th>\n",
              "      <td>(Drill)</td>\n",
              "      <td>(Steam_cleaner)</td>\n",
              "      <td>0.014628</td>\n",
              "      <td>0.216520</td>\n",
              "      <td>2.042002</td>\n",
              "    </tr>\n",
              "    <tr>\n",
              "      <th>1</th>\n",
              "      <td>(Steam_cleaner)</td>\n",
              "      <td>(Drill)</td>\n",
              "      <td>0.014628</td>\n",
              "      <td>0.137954</td>\n",
              "      <td>2.042002</td>\n",
              "    </tr>\n",
              "    <tr>\n",
              "      <th>2</th>\n",
              "      <td>(Lawn_mower)</td>\n",
              "      <td>(Grill)</td>\n",
              "      <td>0.015978</td>\n",
              "      <td>0.174829</td>\n",
              "      <td>1.999111</td>\n",
              "    </tr>\n",
              "    <tr>\n",
              "      <th>3</th>\n",
              "      <td>(Grill)</td>\n",
              "      <td>(Lawn_mower)</td>\n",
              "      <td>0.015978</td>\n",
              "      <td>0.182697</td>\n",
              "      <td>1.999111</td>\n",
              "    </tr>\n",
              "    <tr>\n",
              "      <th>4</th>\n",
              "      <td>(Monitor)</td>\n",
              "      <td>(Tennis)</td>\n",
              "      <td>0.014895</td>\n",
              "      <td>0.178820</td>\n",
              "      <td>1.847021</td>\n",
              "    </tr>\n",
              "    <tr>\n",
              "      <th>5</th>\n",
              "      <td>(Tennis)</td>\n",
              "      <td>(Monitor)</td>\n",
              "      <td>0.014895</td>\n",
              "      <td>0.153850</td>\n",
              "      <td>1.847021</td>\n",
              "    </tr>\n",
              "  </tbody>\n",
              "</table>\n",
              "</div>"
            ],
            "text/plain": [
              "       antecedents      consequents   support  confidence      lift\n",
              "0          (Drill)  (Steam_cleaner)  0.014628    0.216520  2.042002\n",
              "1  (Steam_cleaner)          (Drill)  0.014628    0.137954  2.042002\n",
              "2     (Lawn_mower)          (Grill)  0.015978    0.174829  1.999111\n",
              "3          (Grill)     (Lawn_mower)  0.015978    0.182697  1.999111\n",
              "4        (Monitor)         (Tennis)  0.014895    0.178820  1.847021\n",
              "5         (Tennis)        (Monitor)  0.014895    0.153850  1.847021"
            ]
          },
          "metadata": {
            "tags": []
          },
          "execution_count": 18
        }
      ]
    },
    {
      "cell_type": "code",
      "metadata": {
        "colab": {
          "base_uri": "https://localhost:8080/",
          "height": 175
        },
        "id": "9U4z2-k-3UvN",
        "outputId": "3e4a3091-c022-4b89-df7a-168b396aa2c4"
      },
      "source": [
        "# both metrics combined\n",
        "all_summer_clicks=rules_summer_clicks[rules_summer_clicks['confidence']>=0.17]\n",
        "all_summer_clicks[['antecedents','consequents',\n",
        "                   'support','confidence','lift']]\\\n",
        "                   .sort_values(by=['confidence','lift'], ascending=False)\\\n",
        "                   .reset_index(drop=True)"
      ],
      "execution_count": 19,
      "outputs": [
        {
          "output_type": "execute_result",
          "data": {
            "text/html": [
              "<div>\n",
              "<style scoped>\n",
              "    .dataframe tbody tr th:only-of-type {\n",
              "        vertical-align: middle;\n",
              "    }\n",
              "\n",
              "    .dataframe tbody tr th {\n",
              "        vertical-align: top;\n",
              "    }\n",
              "\n",
              "    .dataframe thead th {\n",
              "        text-align: right;\n",
              "    }\n",
              "</style>\n",
              "<table border=\"1\" class=\"dataframe\">\n",
              "  <thead>\n",
              "    <tr style=\"text-align: right;\">\n",
              "      <th></th>\n",
              "      <th>antecedents</th>\n",
              "      <th>consequents</th>\n",
              "      <th>support</th>\n",
              "      <th>confidence</th>\n",
              "      <th>lift</th>\n",
              "    </tr>\n",
              "  </thead>\n",
              "  <tbody>\n",
              "    <tr>\n",
              "      <th>0</th>\n",
              "      <td>(Drill)</td>\n",
              "      <td>(Steam_cleaner)</td>\n",
              "      <td>0.014628</td>\n",
              "      <td>0.216520</td>\n",
              "      <td>2.042002</td>\n",
              "    </tr>\n",
              "    <tr>\n",
              "      <th>1</th>\n",
              "      <td>(Grill)</td>\n",
              "      <td>(Lawn_mower)</td>\n",
              "      <td>0.015978</td>\n",
              "      <td>0.182697</td>\n",
              "      <td>1.999111</td>\n",
              "    </tr>\n",
              "    <tr>\n",
              "      <th>2</th>\n",
              "      <td>(Monitor)</td>\n",
              "      <td>(Tennis)</td>\n",
              "      <td>0.014895</td>\n",
              "      <td>0.178820</td>\n",
              "      <td>1.847021</td>\n",
              "    </tr>\n",
              "    <tr>\n",
              "      <th>3</th>\n",
              "      <td>(Lawn_mower)</td>\n",
              "      <td>(Grill)</td>\n",
              "      <td>0.015978</td>\n",
              "      <td>0.174829</td>\n",
              "      <td>1.999111</td>\n",
              "    </tr>\n",
              "  </tbody>\n",
              "</table>\n",
              "</div>"
            ],
            "text/plain": [
              "    antecedents      consequents   support  confidence      lift\n",
              "0       (Drill)  (Steam_cleaner)  0.014628    0.216520  2.042002\n",
              "1       (Grill)     (Lawn_mower)  0.015978    0.182697  1.999111\n",
              "2     (Monitor)         (Tennis)  0.014895    0.178820  1.847021\n",
              "3  (Lawn_mower)          (Grill)  0.015978    0.174829  1.999111"
            ]
          },
          "metadata": {
            "tags": []
          },
          "execution_count": 19
        }
      ]
    },
    {
      "cell_type": "markdown",
      "metadata": {
        "id": "ZYfQVWGgt-mJ"
      },
      "source": [
        "### Spring Clicks"
      ]
    },
    {
      "cell_type": "code",
      "metadata": {
        "colab": {
          "base_uri": "https://localhost:8080/",
          "height": 206
        },
        "id": "HgjvvUtQMexJ",
        "outputId": "f090fe5e-8f38-462b-f31f-b8575d80ca57"
      },
      "source": [
        "# Generate association rules with confidence >= 19%\n",
        "rules_spring_clicks = association_rules(frequent_spring_clicks, \n",
        "                                      metric = \"confidence\", \n",
        "                                      min_threshold=0.19)\n",
        "\n",
        "rules_spring_clicks[['antecedents','consequents',\n",
        "                     'support','confidence','lift']]\\\n",
        "                  .sort_values(by=['confidence','lift'],\n",
        "                               ascending=False)\\\n",
        "                  .reset_index(drop=True)"
      ],
      "execution_count": 20,
      "outputs": [
        {
          "output_type": "execute_result",
          "data": {
            "text/html": [
              "<div>\n",
              "<style scoped>\n",
              "    .dataframe tbody tr th:only-of-type {\n",
              "        vertical-align: middle;\n",
              "    }\n",
              "\n",
              "    .dataframe tbody tr th {\n",
              "        vertical-align: top;\n",
              "    }\n",
              "\n",
              "    .dataframe thead th {\n",
              "        text-align: right;\n",
              "    }\n",
              "</style>\n",
              "<table border=\"1\" class=\"dataframe\">\n",
              "  <thead>\n",
              "    <tr style=\"text-align: right;\">\n",
              "      <th></th>\n",
              "      <th>antecedents</th>\n",
              "      <th>consequents</th>\n",
              "      <th>support</th>\n",
              "      <th>confidence</th>\n",
              "      <th>lift</th>\n",
              "    </tr>\n",
              "  </thead>\n",
              "  <tbody>\n",
              "    <tr>\n",
              "      <th>0</th>\n",
              "      <td>(Lawn_mower)</td>\n",
              "      <td>(Tennis)</td>\n",
              "      <td>0.010334</td>\n",
              "      <td>0.340184</td>\n",
              "      <td>2.358096</td>\n",
              "    </tr>\n",
              "    <tr>\n",
              "      <th>1</th>\n",
              "      <td>(Fan)</td>\n",
              "      <td>(Memory)</td>\n",
              "      <td>0.011573</td>\n",
              "      <td>0.316684</td>\n",
              "      <td>2.872453</td>\n",
              "    </tr>\n",
              "    <tr>\n",
              "      <th>2</th>\n",
              "      <td>(Blender)</td>\n",
              "      <td>(Memory)</td>\n",
              "      <td>0.014714</td>\n",
              "      <td>0.195126</td>\n",
              "      <td>1.769875</td>\n",
              "    </tr>\n",
              "    <tr>\n",
              "      <th>3</th>\n",
              "      <td>(Notebook)</td>\n",
              "      <td>(Tennis)</td>\n",
              "      <td>0.010623</td>\n",
              "      <td>0.194090</td>\n",
              "      <td>1.345398</td>\n",
              "    </tr>\n",
              "    <tr>\n",
              "      <th>4</th>\n",
              "      <td>(Memory)</td>\n",
              "      <td>(Tennis)</td>\n",
              "      <td>0.020973</td>\n",
              "      <td>0.190234</td>\n",
              "      <td>1.318670</td>\n",
              "    </tr>\n",
              "  </tbody>\n",
              "</table>\n",
              "</div>"
            ],
            "text/plain": [
              "    antecedents consequents   support  confidence      lift\n",
              "0  (Lawn_mower)    (Tennis)  0.010334    0.340184  2.358096\n",
              "1         (Fan)    (Memory)  0.011573    0.316684  2.872453\n",
              "2     (Blender)    (Memory)  0.014714    0.195126  1.769875\n",
              "3    (Notebook)    (Tennis)  0.010623    0.194090  1.345398\n",
              "4      (Memory)    (Tennis)  0.020973    0.190234  1.318670"
            ]
          },
          "metadata": {
            "tags": []
          },
          "execution_count": 20
        }
      ]
    },
    {
      "cell_type": "code",
      "metadata": {
        "colab": {
          "base_uri": "https://localhost:8080/",
          "height": 237
        },
        "id": "xUduqcB1xvS_",
        "outputId": "bb3ea7df-c17a-4f45-aa68-e1ead88b6903"
      },
      "source": [
        "# Generate association rules with lift >= 1.7\n",
        "rules_spring_clicks = association_rules(frequent_spring_clicks, \n",
        "                                      metric = \"lift\", \n",
        "                                      min_threshold=1.7)\n",
        "\n",
        "rules_spring_clicks[['antecedents','consequents',\n",
        "                     'support','confidence','lift']]\\\n",
        "                  .sort_values(by=['lift', 'confidence'],\n",
        "                               ascending=False)\\\n",
        "                  .reset_index(drop=True)"
      ],
      "execution_count": 21,
      "outputs": [
        {
          "output_type": "execute_result",
          "data": {
            "text/html": [
              "<div>\n",
              "<style scoped>\n",
              "    .dataframe tbody tr th:only-of-type {\n",
              "        vertical-align: middle;\n",
              "    }\n",
              "\n",
              "    .dataframe tbody tr th {\n",
              "        vertical-align: top;\n",
              "    }\n",
              "\n",
              "    .dataframe thead th {\n",
              "        text-align: right;\n",
              "    }\n",
              "</style>\n",
              "<table border=\"1\" class=\"dataframe\">\n",
              "  <thead>\n",
              "    <tr style=\"text-align: right;\">\n",
              "      <th></th>\n",
              "      <th>antecedents</th>\n",
              "      <th>consequents</th>\n",
              "      <th>support</th>\n",
              "      <th>confidence</th>\n",
              "      <th>lift</th>\n",
              "    </tr>\n",
              "  </thead>\n",
              "  <tbody>\n",
              "    <tr>\n",
              "      <th>0</th>\n",
              "      <td>(Fan)</td>\n",
              "      <td>(Memory)</td>\n",
              "      <td>0.011573</td>\n",
              "      <td>0.316684</td>\n",
              "      <td>2.872453</td>\n",
              "    </tr>\n",
              "    <tr>\n",
              "      <th>1</th>\n",
              "      <td>(Memory)</td>\n",
              "      <td>(Fan)</td>\n",
              "      <td>0.011573</td>\n",
              "      <td>0.104970</td>\n",
              "      <td>2.872453</td>\n",
              "    </tr>\n",
              "    <tr>\n",
              "      <th>2</th>\n",
              "      <td>(Lawn_mower)</td>\n",
              "      <td>(Tennis)</td>\n",
              "      <td>0.010334</td>\n",
              "      <td>0.340184</td>\n",
              "      <td>2.358096</td>\n",
              "    </tr>\n",
              "    <tr>\n",
              "      <th>3</th>\n",
              "      <td>(Tennis)</td>\n",
              "      <td>(Lawn_mower)</td>\n",
              "      <td>0.010334</td>\n",
              "      <td>0.071631</td>\n",
              "      <td>2.358096</td>\n",
              "    </tr>\n",
              "    <tr>\n",
              "      <th>4</th>\n",
              "      <td>(Blender)</td>\n",
              "      <td>(Memory)</td>\n",
              "      <td>0.014714</td>\n",
              "      <td>0.195126</td>\n",
              "      <td>1.769875</td>\n",
              "    </tr>\n",
              "    <tr>\n",
              "      <th>5</th>\n",
              "      <td>(Memory)</td>\n",
              "      <td>(Blender)</td>\n",
              "      <td>0.014714</td>\n",
              "      <td>0.133460</td>\n",
              "      <td>1.769875</td>\n",
              "    </tr>\n",
              "  </tbody>\n",
              "</table>\n",
              "</div>"
            ],
            "text/plain": [
              "    antecedents   consequents   support  confidence      lift\n",
              "0         (Fan)      (Memory)  0.011573    0.316684  2.872453\n",
              "1      (Memory)         (Fan)  0.011573    0.104970  2.872453\n",
              "2  (Lawn_mower)      (Tennis)  0.010334    0.340184  2.358096\n",
              "3      (Tennis)  (Lawn_mower)  0.010334    0.071631  2.358096\n",
              "4     (Blender)      (Memory)  0.014714    0.195126  1.769875\n",
              "5      (Memory)     (Blender)  0.014714    0.133460  1.769875"
            ]
          },
          "metadata": {
            "tags": []
          },
          "execution_count": 21
        }
      ]
    },
    {
      "cell_type": "code",
      "metadata": {
        "colab": {
          "base_uri": "https://localhost:8080/",
          "height": 143
        },
        "id": "4pGRyhMH1-Hm",
        "outputId": "2034ae35-342e-48bb-9978-edce779ab2c4"
      },
      "source": [
        "# both metrics combined\n",
        "all_spring_clicks=rules_spring_clicks[rules_spring_clicks['confidence']>=0.19]\n",
        "all_spring_clicks[['antecedents','consequents',\n",
        "                   'support','confidence','lift']]\\\n",
        "                   .sort_values(by=['confidence','lift'], ascending=False)\\\n",
        "                   .reset_index(drop=True)"
      ],
      "execution_count": 22,
      "outputs": [
        {
          "output_type": "execute_result",
          "data": {
            "text/html": [
              "<div>\n",
              "<style scoped>\n",
              "    .dataframe tbody tr th:only-of-type {\n",
              "        vertical-align: middle;\n",
              "    }\n",
              "\n",
              "    .dataframe tbody tr th {\n",
              "        vertical-align: top;\n",
              "    }\n",
              "\n",
              "    .dataframe thead th {\n",
              "        text-align: right;\n",
              "    }\n",
              "</style>\n",
              "<table border=\"1\" class=\"dataframe\">\n",
              "  <thead>\n",
              "    <tr style=\"text-align: right;\">\n",
              "      <th></th>\n",
              "      <th>antecedents</th>\n",
              "      <th>consequents</th>\n",
              "      <th>support</th>\n",
              "      <th>confidence</th>\n",
              "      <th>lift</th>\n",
              "    </tr>\n",
              "  </thead>\n",
              "  <tbody>\n",
              "    <tr>\n",
              "      <th>0</th>\n",
              "      <td>(Lawn_mower)</td>\n",
              "      <td>(Tennis)</td>\n",
              "      <td>0.010334</td>\n",
              "      <td>0.340184</td>\n",
              "      <td>2.358096</td>\n",
              "    </tr>\n",
              "    <tr>\n",
              "      <th>1</th>\n",
              "      <td>(Fan)</td>\n",
              "      <td>(Memory)</td>\n",
              "      <td>0.011573</td>\n",
              "      <td>0.316684</td>\n",
              "      <td>2.872453</td>\n",
              "    </tr>\n",
              "    <tr>\n",
              "      <th>2</th>\n",
              "      <td>(Blender)</td>\n",
              "      <td>(Memory)</td>\n",
              "      <td>0.014714</td>\n",
              "      <td>0.195126</td>\n",
              "      <td>1.769875</td>\n",
              "    </tr>\n",
              "  </tbody>\n",
              "</table>\n",
              "</div>"
            ],
            "text/plain": [
              "    antecedents consequents   support  confidence      lift\n",
              "0  (Lawn_mower)    (Tennis)  0.010334    0.340184  2.358096\n",
              "1         (Fan)    (Memory)  0.011573    0.316684  2.872453\n",
              "2     (Blender)    (Memory)  0.014714    0.195126  1.769875"
            ]
          },
          "metadata": {
            "tags": []
          },
          "execution_count": 22
        }
      ]
    },
    {
      "cell_type": "markdown",
      "metadata": {
        "id": "L1Ep7ZlbN0Tc"
      },
      "source": [
        "### 3.4. Conclusions "
      ]
    },
    {
      "cell_type": "code",
      "metadata": {
        "id": "wC8YSHNpEmhn"
      },
      "source": [
        ""
      ],
      "execution_count": 22,
      "outputs": []
    },
    {
      "cell_type": "markdown",
      "metadata": {
        "id": "huX6JwLPN0Tc"
      },
      "source": [
        "## 4. Conclusions\n",
        "Draw some conclusions about this project work."
      ]
    },
    {
      "cell_type": "code",
      "metadata": {
        "id": "mTELnhtnN0Td"
      },
      "source": [
        ""
      ],
      "execution_count": 22,
      "outputs": []
    }
  ]
}