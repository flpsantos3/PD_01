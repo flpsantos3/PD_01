{
  "nbformat": 4,
  "nbformat_minor": 0,
  "metadata": {
    "kernelspec": {
      "display_name": "Python 3",
      "language": "python",
      "name": "python3"
    },
    "language_info": {
      "codemirror_mode": {
        "name": "ipython",
        "version": 3
      },
      "file_extension": ".py",
      "mimetype": "text/x-python",
      "name": "python",
      "nbconvert_exporter": "python",
      "pygments_lexer": "ipython3",
      "version": "3.8.5"
    },
    "colab": {
      "name": "PD_202021_P1.ipynb",
      "provenance": [],
      "collapsed_sections": [],
      "include_colab_link": true
    }
  },
  "cells": [
    {
      "cell_type": "markdown",
      "metadata": {
        "id": "view-in-github",
        "colab_type": "text"
      },
      "source": [
        "<a href=\"https://colab.research.google.com/github/iamemc/PD_01/blob/main/PD_202021_P1.ipynb\" target=\"_parent\"><img src=\"https://colab.research.google.com/assets/colab-badge.svg\" alt=\"Open In Colab\"/></a>"
      ]
    },
    {
      "cell_type": "markdown",
      "metadata": {
        "id": "mDNH3eJgN0TE"
      },
      "source": [
        "# Data Mining / Prospeção de Dados\n",
        "\n",
        "## Diogo Soares and Sara C. Madeira, 2020/21\n",
        "\n",
        "# Project 1 - Pattern Mining"
      ]
    },
    {
      "cell_type": "markdown",
      "metadata": {
        "id": "a9uj2jIqN0TM"
      },
      "source": [
        "## Logistics \n",
        "**_Read Carefully_**\n",
        "\n",
        "**Students should work in teams of 2 or 3 people**. \n",
        "\n",
        "**TASK 3 - Spring vs Summer Purchases** must be done only by groups of 3 people.\n",
        "\n",
        "Individual projects might be allowed (with valid justification), but will not have better grades for this reason. \n",
        "\n",
        "The quality of the project will dictate its grade, not the number of people working.\n",
        "\n",
        "**The project's solution should be uploaded in Moodle before the end of `March, 28th (23:59)`.** \n",
        "\n",
        "Students should **upload a `.zip` file** containing all the files necessary for project evaluation. \n",
        "Groups should be registered in [Moodle](https://moodle.ciencias.ulisboa.pt/mod/groupselect/view.php?id=139096) and the zip file should be identified as `PDnn.zip` where `nn` is the number of your group.\n",
        "\n",
        "**It is mandatory to produce a Jupyter notebook containing code and text/images/tables/etc describing the solution and the results. Projects not delivered in this format will not be graded. You can use `PD_202021_P1.ipynb`as template. In your `.zip` folder you should also include an HTML version of your notebook with all the outputs** (File > Download as > HTML).\n",
        "\n",
        "**Decisions should be justified and results should be critically discussed.** \n",
        "\n",
        "_Project solutions containing only code and outputs without discussions will achieve a maximum grade 10 out of 20._"
      ]
    },
    {
      "cell_type": "markdown",
      "metadata": {
        "id": "WDY13YwuN0TN"
      },
      "source": [
        "## Dataset and Tools\n",
        "\n",
        "\n",
        "\n",
        "In this project you will analyse data from an online Store collected over 4 months (April - July 2014). The folder `data` contains three files that you should use to obtain the dataset to be used in pattern mining. \n",
        "\n",
        "The file `store-buys.dat` comprises the buy events of the users over the items. It contains **318.444 sessions**. Each record/line in the file has the following fields (with this order): \n",
        "\n",
        "* **Session ID** - the id of the session. In one session there are one or many buying events. Could be represented as an integer number.\n",
        "* **Timestamp** - the time when the buy occurred. Format of YYYY-MM-DDThh:mm:ss.SSSZ\n",
        "* **Item ID** – the unique identifier of item that has been bought. Could be represented as an integer number. \n",
        "* **Price** – the price of the item. Could be represented as an integer number.\n",
        "* **Quantity** – the quantity in this buying.  Could be represented as an integer number.\n",
        "\n",
        "The file `store-clicks.dat` comprises the clicks of the users over the items. It contains **5.613.499 sessions**.  Each record/line in the file has the following fields (with this order):\n",
        "\n",
        "* **Session ID** – the id of the session. In one session there are one or many clicks. Could be represented as an integer number.\n",
        "* **Timestamp** – the time when the click occurred. Format of YYYY-MM-DDThh:mm:ss.SSSZ\n",
        "* **Item ID** – the unique identifier of the item that has been clicked. Could be represented as an integer number.\n",
        "* **Context** – the context of the click. The value \"S\" indicates a special offer, \"0\" indicates  a missing value, a number between 1 to 12 indicates a real category identifier,\n",
        "any other number indicates a brand. E.g. if an item has been clicked in the context of a promotion or special offer then the value will be \"S\", if the context was a brand i.e BOSCH,\n",
        "then the value will be an 8-10 digits number. If the item has been clicked under regular category, i.e. sport, then the value will be a number between 1 to 12. \n",
        " \n",
        "The file `products.csv` comprises the list of products sold by the online store. It contains **46.294 different products** associated with **123 different subcategories**. Each record/line in the file has the following fields:\n",
        "\n",
        "* **Item ID** - the unique identifier of the item. Could be represented as an integer number. \n",
        "* **Product Categories** - the category and subcategories of the item. It is a string containing the category and subcategories of the item. Eg. `appliances.kitchen.juice`\n",
        "\n",
        "\n",
        "In this project you should use [Python 3](https://www.python.org), [Jupyter Notebook](http://jupyter.org) and **[MLxtend](http://rasbt.github.io/mlxtend/)**. When using MLxtend, frequent patterns can either be discovered using `Apriori` and `FP-Growth`. **Choose the pattern mining algorithm to be used.** \n"
      ]
    },
    {
      "cell_type": "markdown",
      "metadata": {
        "id": "cM_QHhWnN0TO"
      },
      "source": [
        "## Team Identification\n",
        "\n",
        "**GROUP PD03**\n",
        "\n",
        "Students:\n",
        "\n",
        "* Eduardo Carvalho - nº55881\n",
        "* Filipe Santos - nº55142\n",
        "* Ivo Oliveira - nº50301"
      ]
    },
    {
      "cell_type": "markdown",
      "metadata": {
        "id": "zxjFy6emN0TP"
      },
      "source": [
        "## 1. Mining Frequent Itemsets and Association Rules\n",
        "\n",
        "\n",
        "In this first part of the project you should load and preprocess the dataset  in order to compute frequent itemsets and generate association rules considering all the sessions."
      ]
    },
    {
      "cell_type": "markdown",
      "metadata": {
        "id": "Vg_C5lWnN0TQ"
      },
      "source": [
        "**In what follows keep the following question in mind and be creative!**\n",
        "\n",
        "1. What are the most interesting products?\n",
        "2. What are the most bought products?\n",
        "3. Which products are bought together?\n",
        "4. Can you find associations between the clicked products? \n",
        "5. Can you find associations highliting that when people buy a product/set of products also buy other product(s)?\n",
        "6. Can you find associations highliting that when people click in a product/set of products also buy this product(s)?\n",
        "7. Can you find relevant associated categories? "
      ]
    },
    {
      "cell_type": "markdown",
      "metadata": {
        "id": "1sip5BTVN0TQ"
      },
      "source": [
        "### 1.1. Load and Preprocess Data\n",
        "\n",
        " **Product quantities should not be considered.**"
      ]
    },
    {
      "cell_type": "code",
      "metadata": {
        "id": "B91Kkqn7UPtp",
        "colab": {
          "base_uri": "https://localhost:8080/"
        },
        "outputId": "a98e3fad-91b5-4fc8-dd7f-2ccfec66519f"
      },
      "source": [
        "#!pip install mlxtend\n",
        "!pip install mlxtend --upgrade\n",
        "\n",
        "import pandas as pd\n",
        "import numpy as np\n",
        "import matplotlib.pyplot as plt\n",
        "import seaborn as sns\n",
        "from mlxtend.preprocessing import  TransactionEncoder\n",
        "from mlxtend.frequent_patterns import apriori\n",
        "from mlxtend.frequent_patterns import association_rules\n",
        "from mlxtend.frequent_patterns import fpgrowth\n",
        "\n",
        "#este tem fpgrowth para associações relevantes\n",
        "#!pip install fpgrowth_py\n",
        "#from fpgrowth_py import fpgrowth\n",
        "#itemSetList = [['eggs', 'bacon', 'soup'],\n",
        "#                ['eggs', 'bacon', 'apple'],\n",
        "#                ['soup', 'bacon', 'banana']]\n",
        "#freqItemSet, rules = fpgrowth(itemSetList, minSup=0.5, minConf=0.5)\n",
        "#print(rules)  \n",
        "# [[{'beer'}, {'rice'}, 0.6666666666666666], [{'rice'}, {'beer'}, 1.0]]\n",
        "# rules[0] --> rules[1], confidence = rules[2]"
      ],
      "execution_count": 3,
      "outputs": [
        {
          "output_type": "stream",
          "text": [
            "Requirement already up-to-date: mlxtend in /usr/local/lib/python3.7/dist-packages (0.18.0)\n",
            "Requirement already satisfied, skipping upgrade: scikit-learn>=0.20.3 in /usr/local/lib/python3.7/dist-packages (from mlxtend) (0.22.2.post1)\n",
            "Requirement already satisfied, skipping upgrade: scipy>=1.2.1 in /usr/local/lib/python3.7/dist-packages (from mlxtend) (1.4.1)\n",
            "Requirement already satisfied, skipping upgrade: numpy>=1.16.2 in /usr/local/lib/python3.7/dist-packages (from mlxtend) (1.19.5)\n",
            "Requirement already satisfied, skipping upgrade: pandas>=0.24.2 in /usr/local/lib/python3.7/dist-packages (from mlxtend) (1.1.5)\n",
            "Requirement already satisfied, skipping upgrade: matplotlib>=3.0.0 in /usr/local/lib/python3.7/dist-packages (from mlxtend) (3.2.2)\n",
            "Requirement already satisfied, skipping upgrade: setuptools in /usr/local/lib/python3.7/dist-packages (from mlxtend) (54.1.2)\n",
            "Requirement already satisfied, skipping upgrade: joblib>=0.13.2 in /usr/local/lib/python3.7/dist-packages (from mlxtend) (1.0.1)\n",
            "Requirement already satisfied, skipping upgrade: pytz>=2017.2 in /usr/local/lib/python3.7/dist-packages (from pandas>=0.24.2->mlxtend) (2018.9)\n",
            "Requirement already satisfied, skipping upgrade: python-dateutil>=2.7.3 in /usr/local/lib/python3.7/dist-packages (from pandas>=0.24.2->mlxtend) (2.8.1)\n",
            "Requirement already satisfied, skipping upgrade: kiwisolver>=1.0.1 in /usr/local/lib/python3.7/dist-packages (from matplotlib>=3.0.0->mlxtend) (1.3.1)\n",
            "Requirement already satisfied, skipping upgrade: cycler>=0.10 in /usr/local/lib/python3.7/dist-packages (from matplotlib>=3.0.0->mlxtend) (0.10.0)\n",
            "Requirement already satisfied, skipping upgrade: pyparsing!=2.0.4,!=2.1.2,!=2.1.6,>=2.0.1 in /usr/local/lib/python3.7/dist-packages (from matplotlib>=3.0.0->mlxtend) (2.4.7)\n",
            "Requirement already satisfied, skipping upgrade: six>=1.5 in /usr/local/lib/python3.7/dist-packages (from python-dateutil>=2.7.3->pandas>=0.24.2->mlxtend) (1.15.0)\n"
          ],
          "name": "stdout"
        }
      ]
    },
    {
      "cell_type": "code",
      "metadata": {
        "colab": {
          "base_uri": "https://localhost:8080/"
        },
        "id": "WNqxZ80XWZv_",
        "outputId": "e7ce700a-a244-402d-c2d8-b4bd58ce4311"
      },
      "source": [
        "from google.colab import drive\n",
        "drive.mount('/content/drive')"
      ],
      "execution_count": 4,
      "outputs": [
        {
          "output_type": "stream",
          "text": [
            "Drive already mounted at /content/drive; to attempt to forcibly remount, call drive.mount(\"/content/drive\", force_remount=True).\n"
          ],
          "name": "stdout"
        }
      ]
    },
    {
      "cell_type": "code",
      "metadata": {
        "id": "NKIFWC5aWfje"
      },
      "source": [
        "products=pd.read_csv('/content/drive/MyDrive/Datasets/projetoPD/products.csv',\n",
        "                     header=None,\n",
        "                     names=['ItemID','Category'],\n",
        "                     dtype={'ItemID': int, 'Category':str})\n",
        "buys=pd.read_csv('/content/drive/MyDrive/Datasets/projetoPD/store-buys.dat', \n",
        "                 header=None,\n",
        "                 names=['SessionID','TimeStamp','ItemID','Price','Qty'],\n",
        "                 dtype={'SessionID':int, 'TimeStamp':str, 'ItemID': int, \n",
        "                        'Price':int, 'Qty':int})\n",
        "clicks=pd.read_csv('/content/drive/MyDrive/Datasets/projetoPD/store-clicks.dat', \n",
        "                   header=None,\n",
        "                   names=['SessionID','TimeStamp','ItemID','Context'],\n",
        "                   dtype={'SessionID':int, 'TimeStamp':str, 'ItemID': int, \n",
        "                        'Context':str})\n"
      ],
      "execution_count": 7,
      "outputs": []
    },
    {
      "cell_type": "code",
      "metadata": {
        "id": "Gh7oMcsRUxYm",
        "colab": {
          "base_uri": "https://localhost:8080/",
          "height": 206
        },
        "outputId": "d9a3717d-b157-4fca-f0d0-ba1ef10c2fbe"
      },
      "source": [
        "clicks.head()"
      ],
      "execution_count": 8,
      "outputs": [
        {
          "output_type": "execute_result",
          "data": {
            "text/html": [
              "<div>\n",
              "<style scoped>\n",
              "    .dataframe tbody tr th:only-of-type {\n",
              "        vertical-align: middle;\n",
              "    }\n",
              "\n",
              "    .dataframe tbody tr th {\n",
              "        vertical-align: top;\n",
              "    }\n",
              "\n",
              "    .dataframe thead th {\n",
              "        text-align: right;\n",
              "    }\n",
              "</style>\n",
              "<table border=\"1\" class=\"dataframe\">\n",
              "  <thead>\n",
              "    <tr style=\"text-align: right;\">\n",
              "      <th></th>\n",
              "      <th>SessionID</th>\n",
              "      <th>TimeStamp</th>\n",
              "      <th>ItemID</th>\n",
              "      <th>Context</th>\n",
              "    </tr>\n",
              "  </thead>\n",
              "  <tbody>\n",
              "    <tr>\n",
              "      <th>0</th>\n",
              "      <td>1</td>\n",
              "      <td>2014-04-07T10:51:09.277Z</td>\n",
              "      <td>214536502</td>\n",
              "      <td>0</td>\n",
              "    </tr>\n",
              "    <tr>\n",
              "      <th>1</th>\n",
              "      <td>1</td>\n",
              "      <td>2014-04-07T10:54:09.868Z</td>\n",
              "      <td>214536500</td>\n",
              "      <td>0</td>\n",
              "    </tr>\n",
              "    <tr>\n",
              "      <th>2</th>\n",
              "      <td>1</td>\n",
              "      <td>2014-04-07T10:54:46.998Z</td>\n",
              "      <td>214536506</td>\n",
              "      <td>0</td>\n",
              "    </tr>\n",
              "    <tr>\n",
              "      <th>3</th>\n",
              "      <td>1</td>\n",
              "      <td>2014-04-07T10:57:00.306Z</td>\n",
              "      <td>214577561</td>\n",
              "      <td>0</td>\n",
              "    </tr>\n",
              "    <tr>\n",
              "      <th>4</th>\n",
              "      <td>2</td>\n",
              "      <td>2014-04-07T13:56:37.614Z</td>\n",
              "      <td>214662742</td>\n",
              "      <td>0</td>\n",
              "    </tr>\n",
              "  </tbody>\n",
              "</table>\n",
              "</div>"
            ],
            "text/plain": [
              "   SessionID                 TimeStamp     ItemID Context\n",
              "0          1  2014-04-07T10:51:09.277Z  214536502       0\n",
              "1          1  2014-04-07T10:54:09.868Z  214536500       0\n",
              "2          1  2014-04-07T10:54:46.998Z  214536506       0\n",
              "3          1  2014-04-07T10:57:00.306Z  214577561       0\n",
              "4          2  2014-04-07T13:56:37.614Z  214662742       0"
            ]
          },
          "metadata": {
            "tags": []
          },
          "execution_count": 8
        }
      ]
    },
    {
      "cell_type": "code",
      "metadata": {
        "colab": {
          "base_uri": "https://localhost:8080/",
          "height": 246
        },
        "id": "2FbNr4oyWpCn",
        "outputId": "73f6f930-0c13-4bce-a854-1cf0b5ccdeda"
      },
      "source": [
        "\"\"\"\n",
        "DATABASE CORRECTIONS\n",
        "products_no_duplicates - removed duplicates\n",
        "buys_upd - added product names & season\n",
        "\n",
        "rows with Price or Qty == 0 have been dropped\n",
        "\"\"\"\n",
        "\n",
        "products_no_duplicates = products.drop_duplicates().reset_index(drop=True)\n",
        "\n",
        "buys_upd =pd.merge(buys,products_no_duplicates)\n",
        "clicks_upd= pd.merge(clicks,products_no_duplicates)\n",
        "\n",
        "#ignore prices/quantities of 0\n",
        "#buys_upd = buys_upd[buys_upd.Price>0]\n",
        "#buys_upd = buys_upd[buys_upd.Qty>0]\n",
        "#no click_upd ver context=0 (missing value)\n",
        "\n",
        "product_name_buys=[]\n",
        "for cat in buys_upd.Category:\n",
        "  product_name_buys.append(cat.split('.')[-1].replace('_',' ').title())\n",
        "product_name_clicks=[]\n",
        "for cat in clicks_upd.Category:\n",
        "  product_name_clicks.append(cat.split('.')[-1].replace('_',' ').title())\n",
        "#product_name[:5]\n",
        "\n",
        "buys_upd['ProductName']=product_name_buys\n",
        "buys_upd.head(5)\n",
        "buys_upd=buys_upd.drop('Category', axis=1)\n",
        "clicks_upd['ProductName']=product_name_clicks\n",
        "clicks_upd=clicks_upd.drop('Category', axis=1)\n",
        "\n",
        "dates_buys =[]\n",
        "season_buys =[]\n",
        "dates_clicks =[]\n",
        "season_clicks =[]\n",
        "\n",
        "for i in buys_upd[\"TimeStamp\"]:\n",
        "  dates_buys.append(i[:10])\n",
        "  if i[5:7] == \"04\" or i[5:7] == \"05\":\n",
        "     season_buys.append(\"Spring\")\n",
        "  elif i[5:7] == \"06\" or i[5:7] == \"07\":\n",
        "    season_buys.append(\"Summer\")\n",
        "  else:\n",
        "    season_buys.append(\"Other\")\n",
        "\n",
        "for i in clicks_upd[\"TimeStamp\"]:\n",
        "  dates_clicks.append(i[:10])\n",
        "  if i[5:7] == \"04\" or i[5:7] == \"05\":\n",
        "     season_clicks.append(\"Spring\")\n",
        "  elif i[5:7] == \"06\" or i[5:7] == \"07\":\n",
        "    season_clicks.append(\"Summer\")\n",
        "  else:\n",
        "    season_clicks.append(\"Other\")\n",
        "\n",
        "\n",
        "weekday_buys=[]\n",
        "buys_upd[\"TimeStamp\"] = pd.to_datetime(buys_upd[\"TimeStamp\"])\n",
        "buys_upd[\"Weekday_Num\"]=buys_upd[\"TimeStamp\"].dt.dayofweek \n",
        "\n",
        "for i in buys_upd[\"Weekday_Num\"]:\n",
        "  if i < 5: \n",
        "    weekday_buys.append(\"Weekday\")\n",
        "  else :\n",
        "    weekday_buys.append(\"Weekend\")\n",
        "\n",
        "weekday_clicks=[]\n",
        "clicks_upd[\"TimeStamp\"] = pd.to_datetime(clicks_upd[\"TimeStamp\"])\n",
        "clicks_upd[\"Weekday_Num\"]=clicks_upd[\"TimeStamp\"].dt.dayofweek \n",
        "\n",
        "for i in clicks_upd[\"Weekday_Num\"]:\n",
        "  if i < 5: \n",
        "    weekday_clicks.append(\"Weekday\")\n",
        "  else :\n",
        "    weekday_clicks.append(\"Weekend\")\n",
        "\n",
        "  \n",
        "buys_upd = buys_upd.drop(columns=['TimeStamp'])\n",
        "buys_upd.insert(1, \"TimeStamp\", dates_buys)\n",
        "buys_upd[\"Season\"] = season_buys\n",
        "buys_upd[\"Weekday\"] = weekday_buys\n",
        "buys_upd.sort_values(by='TimeStamp')\n",
        "buys_upd.tail(10)\n",
        "\n",
        "clicks_upd = clicks_upd.drop(columns=['TimeStamp'])\n",
        "clicks_upd.insert(1, \"TimeStamp\", dates_clicks)\n",
        "clicks_upd[\"Season\"] = season_clicks\n",
        "clicks_upd[\"Weekday\"] = weekday_clicks\n",
        "clicks_upd.sort_values(by='TimeStamp')\n",
        "clicks_upd.tail(10)"
      ],
      "execution_count": 2,
      "outputs": [
        {
          "output_type": "error",
          "ename": "NameError",
          "evalue": "ignored",
          "traceback": [
            "\u001b[0;31m---------------------------------------------------------------------------\u001b[0m",
            "\u001b[0;31mNameError\u001b[0m                                 Traceback (most recent call last)",
            "\u001b[0;32m<ipython-input-2-0d03a9074c09>\u001b[0m in \u001b[0;36m<module>\u001b[0;34m()\u001b[0m\n\u001b[1;32m      7\u001b[0m \"\"\"\n\u001b[1;32m      8\u001b[0m \u001b[0;34m\u001b[0m\u001b[0m\n\u001b[0;32m----> 9\u001b[0;31m \u001b[0mproducts_no_duplicates\u001b[0m \u001b[0;34m=\u001b[0m \u001b[0mproducts\u001b[0m\u001b[0;34m.\u001b[0m\u001b[0mdrop_duplicates\u001b[0m\u001b[0;34m(\u001b[0m\u001b[0;34m)\u001b[0m\u001b[0;34m.\u001b[0m\u001b[0mreset_index\u001b[0m\u001b[0;34m(\u001b[0m\u001b[0mdrop\u001b[0m\u001b[0;34m=\u001b[0m\u001b[0;32mTrue\u001b[0m\u001b[0;34m)\u001b[0m\u001b[0;34m\u001b[0m\u001b[0;34m\u001b[0m\u001b[0m\n\u001b[0m\u001b[1;32m     10\u001b[0m \u001b[0;34m\u001b[0m\u001b[0m\n\u001b[1;32m     11\u001b[0m \u001b[0mbuys_upd\u001b[0m \u001b[0;34m=\u001b[0m\u001b[0mpd\u001b[0m\u001b[0;34m.\u001b[0m\u001b[0mmerge\u001b[0m\u001b[0;34m(\u001b[0m\u001b[0mbuys\u001b[0m\u001b[0;34m,\u001b[0m\u001b[0mproducts_no_duplicates\u001b[0m\u001b[0;34m)\u001b[0m\u001b[0;34m\u001b[0m\u001b[0;34m\u001b[0m\u001b[0m\n",
            "\u001b[0;31mNameError\u001b[0m: name 'products' is not defined"
          ]
        }
      ]
    },
    {
      "cell_type": "code",
      "metadata": {
        "colab": {
          "base_uri": "https://localhost:8080/",
          "height": 206
        },
        "id": "IWXryR7jXqam",
        "outputId": "baad3920-011f-407e-8c34-1f651dc42d87"
      },
      "source": [
        "buys_upd=buys_upd.sort_values(by='SessionID').reset_index(drop=True)\n",
        "buys_upd.head()"
      ],
      "execution_count": 16,
      "outputs": [
        {
          "output_type": "execute_result",
          "data": {
            "text/html": [
              "<div>\n",
              "<style scoped>\n",
              "    .dataframe tbody tr th:only-of-type {\n",
              "        vertical-align: middle;\n",
              "    }\n",
              "\n",
              "    .dataframe tbody tr th {\n",
              "        vertical-align: top;\n",
              "    }\n",
              "\n",
              "    .dataframe thead th {\n",
              "        text-align: right;\n",
              "    }\n",
              "</style>\n",
              "<table border=\"1\" class=\"dataframe\">\n",
              "  <thead>\n",
              "    <tr style=\"text-align: right;\">\n",
              "      <th></th>\n",
              "      <th>SessionID</th>\n",
              "      <th>TimeStamp</th>\n",
              "      <th>ItemID</th>\n",
              "      <th>Price</th>\n",
              "      <th>Qty</th>\n",
              "      <th>ProductName</th>\n",
              "      <th>Weekday_Num</th>\n",
              "      <th>Season</th>\n",
              "      <th>Weekday</th>\n",
              "    </tr>\n",
              "  </thead>\n",
              "  <tbody>\n",
              "    <tr>\n",
              "      <th>0</th>\n",
              "      <td>11</td>\n",
              "      <td>2014-04-03</td>\n",
              "      <td>214821371</td>\n",
              "      <td>1046</td>\n",
              "      <td>1</td>\n",
              "      <td>Blender</td>\n",
              "      <td>3</td>\n",
              "      <td>Spring</td>\n",
              "      <td>Weekday</td>\n",
              "    </tr>\n",
              "    <tr>\n",
              "      <th>1</th>\n",
              "      <td>12</td>\n",
              "      <td>2014-04-02</td>\n",
              "      <td>214717867</td>\n",
              "      <td>1778</td>\n",
              "      <td>4</td>\n",
              "      <td>Bag</td>\n",
              "      <td>2</td>\n",
              "      <td>Spring</td>\n",
              "      <td>Weekday</td>\n",
              "    </tr>\n",
              "    <tr>\n",
              "      <th>2</th>\n",
              "      <td>21</td>\n",
              "      <td>2014-04-07</td>\n",
              "      <td>214548744</td>\n",
              "      <td>3141</td>\n",
              "      <td>1</td>\n",
              "      <td>Skates</td>\n",
              "      <td>0</td>\n",
              "      <td>Spring</td>\n",
              "      <td>Weekday</td>\n",
              "    </tr>\n",
              "    <tr>\n",
              "      <th>3</th>\n",
              "      <td>21</td>\n",
              "      <td>2014-04-07</td>\n",
              "      <td>214838503</td>\n",
              "      <td>18745</td>\n",
              "      <td>1</td>\n",
              "      <td>Clocks</td>\n",
              "      <td>0</td>\n",
              "      <td>Spring</td>\n",
              "      <td>Weekday</td>\n",
              "    </tr>\n",
              "    <tr>\n",
              "      <th>4</th>\n",
              "      <td>33</td>\n",
              "      <td>2014-04-06</td>\n",
              "      <td>214834865</td>\n",
              "      <td>523</td>\n",
              "      <td>2</td>\n",
              "      <td>Fan</td>\n",
              "      <td>6</td>\n",
              "      <td>Spring</td>\n",
              "      <td>Weekend</td>\n",
              "    </tr>\n",
              "  </tbody>\n",
              "</table>\n",
              "</div>"
            ],
            "text/plain": [
              "   SessionID   TimeStamp     ItemID  ...  Weekday_Num  Season  Weekday\n",
              "0         11  2014-04-03  214821371  ...            3  Spring  Weekday\n",
              "1         12  2014-04-02  214717867  ...            2  Spring  Weekday\n",
              "2         21  2014-04-07  214548744  ...            0  Spring  Weekday\n",
              "3         21  2014-04-07  214838503  ...            0  Spring  Weekday\n",
              "4         33  2014-04-06  214834865  ...            6  Spring  Weekend\n",
              "\n",
              "[5 rows x 9 columns]"
            ]
          },
          "metadata": {
            "tags": []
          },
          "execution_count": 16
        }
      ]
    },
    {
      "cell_type": "markdown",
      "metadata": {
        "id": "7rwLtqj_iI2L"
      },
      "source": [
        "Existem 113 registos duplicados. Precisamos de os remover para avançar com a análise."
      ]
    },
    {
      "cell_type": "code",
      "metadata": {
        "colab": {
          "base_uri": "https://localhost:8080/"
        },
        "id": "HU_U5TpgiU4m",
        "outputId": "b0a6ece3-b6e0-4c18-fa62-2510cda0dfbb"
      },
      "source": [
        "buys_upd=buys_upd.drop_duplicates().reset_index(drop=True)\n",
        "len(buys_upd)"
      ],
      "execution_count": 17,
      "outputs": [
        {
          "output_type": "execute_result",
          "data": {
            "text/plain": [
              "620867"
            ]
          },
          "metadata": {
            "tags": []
          },
          "execution_count": 17
        }
      ]
    },
    {
      "cell_type": "code",
      "metadata": {
        "colab": {
          "base_uri": "https://localhost:8080/",
          "height": 206
        },
        "id": "IDezmzROYVeL",
        "outputId": "38bbd830-1904-4322-cd79-4801ab1f1767"
      },
      "source": [
        "clicks_upd=clicks.sort_values(by='SessionID').reset_index(drop=True)\n",
        "clicks_upd.head()"
      ],
      "execution_count": 19,
      "outputs": [
        {
          "output_type": "execute_result",
          "data": {
            "text/html": [
              "<div>\n",
              "<style scoped>\n",
              "    .dataframe tbody tr th:only-of-type {\n",
              "        vertical-align: middle;\n",
              "    }\n",
              "\n",
              "    .dataframe tbody tr th {\n",
              "        vertical-align: top;\n",
              "    }\n",
              "\n",
              "    .dataframe thead th {\n",
              "        text-align: right;\n",
              "    }\n",
              "</style>\n",
              "<table border=\"1\" class=\"dataframe\">\n",
              "  <thead>\n",
              "    <tr style=\"text-align: right;\">\n",
              "      <th></th>\n",
              "      <th>SessionID</th>\n",
              "      <th>TimeStamp</th>\n",
              "      <th>ItemID</th>\n",
              "      <th>Context</th>\n",
              "    </tr>\n",
              "  </thead>\n",
              "  <tbody>\n",
              "    <tr>\n",
              "      <th>0</th>\n",
              "      <td>1</td>\n",
              "      <td>2014-04-07T10:51:09.277Z</td>\n",
              "      <td>214536502</td>\n",
              "      <td>0</td>\n",
              "    </tr>\n",
              "    <tr>\n",
              "      <th>1</th>\n",
              "      <td>1</td>\n",
              "      <td>2014-04-07T10:54:09.868Z</td>\n",
              "      <td>214536500</td>\n",
              "      <td>0</td>\n",
              "    </tr>\n",
              "    <tr>\n",
              "      <th>2</th>\n",
              "      <td>1</td>\n",
              "      <td>2014-04-07T10:54:46.998Z</td>\n",
              "      <td>214536506</td>\n",
              "      <td>0</td>\n",
              "    </tr>\n",
              "    <tr>\n",
              "      <th>3</th>\n",
              "      <td>1</td>\n",
              "      <td>2014-04-07T10:57:00.306Z</td>\n",
              "      <td>214577561</td>\n",
              "      <td>0</td>\n",
              "    </tr>\n",
              "    <tr>\n",
              "      <th>4</th>\n",
              "      <td>2</td>\n",
              "      <td>2014-04-07T13:56:37.614Z</td>\n",
              "      <td>214662742</td>\n",
              "      <td>0</td>\n",
              "    </tr>\n",
              "  </tbody>\n",
              "</table>\n",
              "</div>"
            ],
            "text/plain": [
              "   SessionID                 TimeStamp     ItemID Context\n",
              "0          1  2014-04-07T10:51:09.277Z  214536502       0\n",
              "1          1  2014-04-07T10:54:09.868Z  214536500       0\n",
              "2          1  2014-04-07T10:54:46.998Z  214536506       0\n",
              "3          1  2014-04-07T10:57:00.306Z  214577561       0\n",
              "4          2  2014-04-07T13:56:37.614Z  214662742       0"
            ]
          },
          "metadata": {
            "tags": []
          },
          "execution_count": 19
        }
      ]
    },
    {
      "cell_type": "code",
      "metadata": {
        "colab": {
          "base_uri": "https://localhost:8080/",
          "height": 325
        },
        "id": "473WzJVeii2-",
        "outputId": "f6880512-0ee8-44f7-e0b6-404eeb2f637b"
      },
      "source": [
        "len(clicks)-len(clicks.drop_duplicates())"
      ],
      "execution_count": 20,
      "outputs": [
        {
          "output_type": "error",
          "ename": "KeyboardInterrupt",
          "evalue": "ignored",
          "traceback": [
            "\u001b[0;31m---------------------------------------------------------------------------\u001b[0m",
            "\u001b[0;31mKeyboardInterrupt\u001b[0m                         Traceback (most recent call last)",
            "\u001b[0;32m<ipython-input-20-45217d168bdb>\u001b[0m in \u001b[0;36m<module>\u001b[0;34m()\u001b[0m\n\u001b[0;32m----> 1\u001b[0;31m \u001b[0mlen\u001b[0m\u001b[0;34m(\u001b[0m\u001b[0mclicks\u001b[0m\u001b[0;34m)\u001b[0m\u001b[0;34m-\u001b[0m\u001b[0mlen\u001b[0m\u001b[0;34m(\u001b[0m\u001b[0mclicks\u001b[0m\u001b[0;34m.\u001b[0m\u001b[0mdrop_duplicates\u001b[0m\u001b[0;34m(\u001b[0m\u001b[0;34m)\u001b[0m\u001b[0;34m)\u001b[0m\u001b[0;34m\u001b[0m\u001b[0;34m\u001b[0m\u001b[0m\n\u001b[0m",
            "\u001b[0;32m/usr/local/lib/python3.7/dist-packages/pandas/core/frame.py\u001b[0m in \u001b[0;36mdrop_duplicates\u001b[0;34m(self, subset, keep, inplace, ignore_index)\u001b[0m\n\u001b[1;32m   5110\u001b[0m \u001b[0;34m\u001b[0m\u001b[0m\n\u001b[1;32m   5111\u001b[0m         \u001b[0minplace\u001b[0m \u001b[0;34m=\u001b[0m \u001b[0mvalidate_bool_kwarg\u001b[0m\u001b[0;34m(\u001b[0m\u001b[0minplace\u001b[0m\u001b[0;34m,\u001b[0m \u001b[0;34m\"inplace\"\u001b[0m\u001b[0;34m)\u001b[0m\u001b[0;34m\u001b[0m\u001b[0;34m\u001b[0m\u001b[0m\n\u001b[0;32m-> 5112\u001b[0;31m         \u001b[0mduplicated\u001b[0m \u001b[0;34m=\u001b[0m \u001b[0mself\u001b[0m\u001b[0;34m.\u001b[0m\u001b[0mduplicated\u001b[0m\u001b[0;34m(\u001b[0m\u001b[0msubset\u001b[0m\u001b[0;34m,\u001b[0m \u001b[0mkeep\u001b[0m\u001b[0;34m=\u001b[0m\u001b[0mkeep\u001b[0m\u001b[0;34m)\u001b[0m\u001b[0;34m\u001b[0m\u001b[0;34m\u001b[0m\u001b[0m\n\u001b[0m\u001b[1;32m   5113\u001b[0m \u001b[0;34m\u001b[0m\u001b[0m\n\u001b[1;32m   5114\u001b[0m         \u001b[0mresult\u001b[0m \u001b[0;34m=\u001b[0m \u001b[0mself\u001b[0m\u001b[0;34m[\u001b[0m\u001b[0;34m-\u001b[0m\u001b[0mduplicated\u001b[0m\u001b[0;34m]\u001b[0m\u001b[0;34m\u001b[0m\u001b[0;34m\u001b[0m\u001b[0m\n",
            "\u001b[0;32m/usr/local/lib/python3.7/dist-packages/pandas/core/frame.py\u001b[0m in \u001b[0;36mduplicated\u001b[0;34m(self, subset, keep)\u001b[0m\n\u001b[1;32m   5252\u001b[0m \u001b[0;34m\u001b[0m\u001b[0m\n\u001b[1;32m   5253\u001b[0m         \u001b[0mids\u001b[0m \u001b[0;34m=\u001b[0m \u001b[0mget_group_index\u001b[0m\u001b[0;34m(\u001b[0m\u001b[0mlabels\u001b[0m\u001b[0;34m,\u001b[0m \u001b[0mshape\u001b[0m\u001b[0;34m,\u001b[0m \u001b[0msort\u001b[0m\u001b[0;34m=\u001b[0m\u001b[0;32mFalse\u001b[0m\u001b[0;34m,\u001b[0m \u001b[0mxnull\u001b[0m\u001b[0;34m=\u001b[0m\u001b[0;32mFalse\u001b[0m\u001b[0;34m)\u001b[0m\u001b[0;34m\u001b[0m\u001b[0;34m\u001b[0m\u001b[0m\n\u001b[0;32m-> 5254\u001b[0;31m         \u001b[0;32mreturn\u001b[0m \u001b[0mself\u001b[0m\u001b[0;34m.\u001b[0m\u001b[0m_constructor_sliced\u001b[0m\u001b[0;34m(\u001b[0m\u001b[0mduplicated_int64\u001b[0m\u001b[0;34m(\u001b[0m\u001b[0mids\u001b[0m\u001b[0;34m,\u001b[0m \u001b[0mkeep\u001b[0m\u001b[0;34m)\u001b[0m\u001b[0;34m,\u001b[0m \u001b[0mindex\u001b[0m\u001b[0;34m=\u001b[0m\u001b[0mself\u001b[0m\u001b[0;34m.\u001b[0m\u001b[0mindex\u001b[0m\u001b[0;34m)\u001b[0m\u001b[0;34m\u001b[0m\u001b[0;34m\u001b[0m\u001b[0m\n\u001b[0m\u001b[1;32m   5255\u001b[0m \u001b[0;34m\u001b[0m\u001b[0m\n\u001b[1;32m   5256\u001b[0m     \u001b[0;31m# ----------------------------------------------------------------------\u001b[0m\u001b[0;34m\u001b[0m\u001b[0;34m\u001b[0m\u001b[0;34m\u001b[0m\u001b[0m\n",
            "\u001b[0;31mKeyboardInterrupt\u001b[0m: "
          ]
        }
      ]
    },
    {
      "cell_type": "markdown",
      "metadata": {
        "id": "3vFbpvpji3FI"
      },
      "source": [
        "Existem 46 registos duplicados. Precisamos de os remover para avançar com a análise."
      ]
    },
    {
      "cell_type": "code",
      "metadata": {
        "id": "VoS4GXLUi5KN"
      },
      "source": [
        "clicks_upd=clicks_upd.drop_duplicates().reset_index(drop=True)"
      ],
      "execution_count": null,
      "outputs": []
    },
    {
      "cell_type": "code",
      "metadata": {
        "id": "82NGtlDvn90i"
      },
      "source": [
        "#1. What are the most interesting products?\n",
        "click_most_interesting = clicks.groupby(\"ItemID\", as_index=False).size().sort_values(by=\"size\", ascending=False)\n",
        "click_most_interesting = click_most_interesting.head(10)\n",
        "\n",
        "list_click_most_interesting = list(click_most_interesting[\"ItemID\"])\n",
        "most_int = pd.merge(click_most_interesting, products_no_duplicates)\n",
        "most_int.head(10)"
      ],
      "execution_count": null,
      "outputs": []
    },
    {
      "cell_type": "markdown",
      "metadata": {
        "id": "acR9RFBotBPA"
      },
      "source": [
        "The most interesting products are blabla\n",
        "\n"
      ]
    },
    {
      "cell_type": "code",
      "metadata": {
        "colab": {
          "base_uri": "https://localhost:8080/",
          "height": 363
        },
        "id": "K-4jb-tStehL",
        "outputId": "99183a63-d804-4680-855a-25bb4b2bca3d"
      },
      "source": [
        "#2. What are the most bought products?\n",
        "\n",
        "df4 = pd.merge(buys, products_no_duplicates)\n",
        "\n",
        "quantities = df4.groupby([\"Category\"], as_index=False).sum([\"Qty\"]).sort_values(by=\"Qty\", ascending=False)\n",
        "\n",
        "quantities = quantities[[\"Category\",\"Qty\"]]\n",
        "quantities = quantities.rename(columns={\"Qty\": \"Quantity\"})\n",
        "quantities = quantities.reset_index(drop=True)\n",
        "\n",
        "quantities.head(10)\n"
      ],
      "execution_count": 22,
      "outputs": [
        {
          "output_type": "execute_result",
          "data": {
            "text/html": [
              "<div>\n",
              "<style scoped>\n",
              "    .dataframe tbody tr th:only-of-type {\n",
              "        vertical-align: middle;\n",
              "    }\n",
              "\n",
              "    .dataframe tbody tr th {\n",
              "        vertical-align: top;\n",
              "    }\n",
              "\n",
              "    .dataframe thead th {\n",
              "        text-align: right;\n",
              "    }\n",
              "</style>\n",
              "<table border=\"1\" class=\"dataframe\">\n",
              "  <thead>\n",
              "    <tr style=\"text-align: right;\">\n",
              "      <th></th>\n",
              "      <th>Category</th>\n",
              "      <th>Quantity</th>\n",
              "    </tr>\n",
              "  </thead>\n",
              "  <tbody>\n",
              "    <tr>\n",
              "      <th>0</th>\n",
              "      <td>appliances.kitchen.blender</td>\n",
              "      <td>40163</td>\n",
              "    </tr>\n",
              "    <tr>\n",
              "      <th>1</th>\n",
              "      <td>computers.components.memory</td>\n",
              "      <td>23810</td>\n",
              "    </tr>\n",
              "    <tr>\n",
              "      <th>2</th>\n",
              "      <td>sport.tennis</td>\n",
              "      <td>16864</td>\n",
              "    </tr>\n",
              "    <tr>\n",
              "      <th>3</th>\n",
              "      <td>appliances.kitchen.meat_grinder</td>\n",
              "      <td>11101</td>\n",
              "    </tr>\n",
              "    <tr>\n",
              "      <th>4</th>\n",
              "      <td>electronics.video.tv</td>\n",
              "      <td>9055</td>\n",
              "    </tr>\n",
              "    <tr>\n",
              "      <th>5</th>\n",
              "      <td>appliances.environment.fan</td>\n",
              "      <td>7387</td>\n",
              "    </tr>\n",
              "    <tr>\n",
              "      <th>6</th>\n",
              "      <td>medicine.tools.tonometer</td>\n",
              "      <td>6156</td>\n",
              "    </tr>\n",
              "    <tr>\n",
              "      <th>7</th>\n",
              "      <td>computers.notebook</td>\n",
              "      <td>5667</td>\n",
              "    </tr>\n",
              "    <tr>\n",
              "      <th>8</th>\n",
              "      <td>appliances.iron</td>\n",
              "      <td>5198</td>\n",
              "    </tr>\n",
              "    <tr>\n",
              "      <th>9</th>\n",
              "      <td>accessories.bag</td>\n",
              "      <td>5066</td>\n",
              "    </tr>\n",
              "  </tbody>\n",
              "</table>\n",
              "</div>"
            ],
            "text/plain": [
              "                           Category  Quantity\n",
              "0        appliances.kitchen.blender     40163\n",
              "1       computers.components.memory     23810\n",
              "2                      sport.tennis     16864\n",
              "3   appliances.kitchen.meat_grinder     11101\n",
              "4              electronics.video.tv      9055\n",
              "5        appliances.environment.fan      7387\n",
              "6          medicine.tools.tonometer      6156\n",
              "7                computers.notebook      5667\n",
              "8                   appliances.iron      5198\n",
              "9                   accessories.bag      5066"
            ]
          },
          "metadata": {
            "tags": []
          },
          "execution_count": 22
        }
      ]
    },
    {
      "cell_type": "code",
      "metadata": {
        "id": "EYmkJddUBDvj",
        "outputId": "502bbec2-15de-4aff-f0a9-7bc6f93f3b08",
        "colab": {
          "base_uri": "https://localhost:8080/",
          "height": 850
        }
      },
      "source": [
        "quantities = quantities[quantities.Quantity>5000]\n",
        "quantities_graph = sns.catplot(x=\"Category\", y=\"Quantity\", kind=\"bar\", data = quantities)\n",
        "#plt.gcf().axes[0].yaxis.get_major_formatter().set_scientific(False)\n",
        "quantities_graph.fig.suptitle('Quantities and Categories')\n",
        "for ax in quantities_graph.axes.flat:\n",
        "    for label in ax.get_xticklabels():\n",
        "        label.set_rotation(60)\n",
        "quantities_graph.fig.set_figheight(10)\n",
        "quantities_graph.fig.set_figwidth(15)\n",
        "#quantities_graph.show()"
      ],
      "execution_count": 39,
      "outputs": [
        {
          "output_type": "display_data",
          "data": {
            "image/png": "[encoded data removed]",
            "text/plain": [
              "<Figure size 1080x720 with 1 Axes>"
            ]
          },
          "metadata": {
            "tags": [],
            "needs_background": "light"
          }
        }
      ]
    },
    {
      "cell_type": "markdown",
      "metadata": {
        "id": "KLSw6zTrxaB9"
      },
      "source": [
        "The most bought product category are Blenders"
      ]
    },
    {
      "cell_type": "markdown",
      "metadata": {
        "id": "OGtqXH2AN0TR"
      },
      "source": [
        "## 1.2. Compute Frequent Itemsets"
      ]
    },
    {
      "cell_type": "markdown",
      "metadata": {
        "id": "BlQvTGPlN0TR"
      },
      "source": [
        "* Compute frequent itemsets considering a minimum support of X%. \n",
        "* Present frequent itemsets organized by length (number of items). \n",
        "* List frequent 1-itemsets, 2-itemsets, 3-itemsets, etc with support of at least Y%.\n",
        "* Change X and Y when it makes sense and discuss the results."
      ]
    },
    {
      "cell_type": "code",
      "metadata": {
        "id": "C75zFtKn0PjW",
        "colab": {
          "base_uri": "https://localhost:8080/",
          "height": 398
        },
        "outputId": "07d8f559-6b02-4ee5-beae-c2c84207e7b8"
      },
      "source": [
        "#3. Which products are bought together?\n",
        "all_sessions_buy={}\n",
        "for i in range(len(buys_upd)):\n",
        "  all_sessions_buy[buys_upd.SessionID[i]]=[]\n",
        "\n",
        "for i in range(len(buys_upd)):\n",
        "  if buys_upd.ProductName[i] not in all_sessions_buy.get(buys_upd.SessionID[i]):\n",
        "    all_sessions_buy[buys_upd.SessionID[i]].append(buys_upd.ProductName[i])\n",
        "\n",
        "transactions_buy=list(all_sessions_buy.values())\n",
        "#3.1 Which products are viewed together?\n",
        "all_sessions_click={}\n",
        "for i in range(len(clicks_upd)):\n",
        "  all_sessions_click[clicks_upd.SessionID[i]]=[]\n",
        "\n",
        "for i in range(len(clicks_upd)):\n",
        "  if clicks_upd.ProductName[i] not in all_sessions_click.get(clicks_upd.SessionID[i]):\n",
        "    all_sessions_click[clicks_upd.SessionID[i]].append(clicks_upd.ProductName[i])\n",
        "\n",
        "transactions_click=list(all_sessions_click.values())"
      ],
      "execution_count": 21,
      "outputs": [
        {
          "output_type": "error",
          "ename": "KeyboardInterrupt",
          "evalue": "ignored",
          "traceback": [
            "\u001b[0;31m---------------------------------------------------------------------------\u001b[0m",
            "\u001b[0;31mKeyboardInterrupt\u001b[0m                         Traceback (most recent call last)",
            "\u001b[0;32m<ipython-input-21-24f2a72b90d8>\u001b[0m in \u001b[0;36m<module>\u001b[0;34m()\u001b[0m\n\u001b[1;32m     12\u001b[0m \u001b[0mall_sessions_click\u001b[0m\u001b[0;34m=\u001b[0m\u001b[0;34m{\u001b[0m\u001b[0;34m}\u001b[0m\u001b[0;34m\u001b[0m\u001b[0;34m\u001b[0m\u001b[0m\n\u001b[1;32m     13\u001b[0m \u001b[0;32mfor\u001b[0m \u001b[0mi\u001b[0m \u001b[0;32min\u001b[0m \u001b[0mrange\u001b[0m\u001b[0;34m(\u001b[0m\u001b[0mlen\u001b[0m\u001b[0;34m(\u001b[0m\u001b[0mclicks_upd\u001b[0m\u001b[0;34m)\u001b[0m\u001b[0;34m)\u001b[0m\u001b[0;34m:\u001b[0m\u001b[0;34m\u001b[0m\u001b[0;34m\u001b[0m\u001b[0m\n\u001b[0;32m---> 14\u001b[0;31m   \u001b[0mall_sessions_click\u001b[0m\u001b[0;34m[\u001b[0m\u001b[0mclicks_upd\u001b[0m\u001b[0;34m.\u001b[0m\u001b[0mSessionID\u001b[0m\u001b[0;34m[\u001b[0m\u001b[0mi\u001b[0m\u001b[0;34m]\u001b[0m\u001b[0;34m]\u001b[0m\u001b[0;34m=\u001b[0m\u001b[0;34m[\u001b[0m\u001b[0;34m]\u001b[0m\u001b[0;34m\u001b[0m\u001b[0;34m\u001b[0m\u001b[0m\n\u001b[0m\u001b[1;32m     15\u001b[0m \u001b[0;34m\u001b[0m\u001b[0m\n\u001b[1;32m     16\u001b[0m \u001b[0;32mfor\u001b[0m \u001b[0mi\u001b[0m \u001b[0;32min\u001b[0m \u001b[0mrange\u001b[0m\u001b[0;34m(\u001b[0m\u001b[0mlen\u001b[0m\u001b[0;34m(\u001b[0m\u001b[0mclicks_upd\u001b[0m\u001b[0;34m)\u001b[0m\u001b[0;34m)\u001b[0m\u001b[0;34m:\u001b[0m\u001b[0;34m\u001b[0m\u001b[0;34m\u001b[0m\u001b[0m\n",
            "\u001b[0;32m/usr/local/lib/python3.7/dist-packages/pandas/core/series.py\u001b[0m in \u001b[0;36m__getitem__\u001b[0;34m(self, key)\u001b[0m\n\u001b[1;32m    880\u001b[0m \u001b[0;34m\u001b[0m\u001b[0m\n\u001b[1;32m    881\u001b[0m         \u001b[0;32melif\u001b[0m \u001b[0mkey_is_scalar\u001b[0m\u001b[0;34m:\u001b[0m\u001b[0;34m\u001b[0m\u001b[0;34m\u001b[0m\u001b[0m\n\u001b[0;32m--> 882\u001b[0;31m             \u001b[0;32mreturn\u001b[0m \u001b[0mself\u001b[0m\u001b[0;34m.\u001b[0m\u001b[0m_get_value\u001b[0m\u001b[0;34m(\u001b[0m\u001b[0mkey\u001b[0m\u001b[0;34m)\u001b[0m\u001b[0;34m\u001b[0m\u001b[0;34m\u001b[0m\u001b[0m\n\u001b[0m\u001b[1;32m    883\u001b[0m \u001b[0;34m\u001b[0m\u001b[0m\n\u001b[1;32m    884\u001b[0m         \u001b[0;32mif\u001b[0m \u001b[0mis_hashable\u001b[0m\u001b[0;34m(\u001b[0m\u001b[0mkey\u001b[0m\u001b[0;34m)\u001b[0m\u001b[0;34m:\u001b[0m\u001b[0;34m\u001b[0m\u001b[0;34m\u001b[0m\u001b[0m\n",
            "\u001b[0;32m/usr/local/lib/python3.7/dist-packages/pandas/core/series.py\u001b[0m in \u001b[0;36m_get_value\u001b[0;34m(self, label, takeable)\u001b[0m\n\u001b[1;32m    989\u001b[0m         \u001b[0;31m# Similar to Index.get_value, but we do not fall back to positional\u001b[0m\u001b[0;34m\u001b[0m\u001b[0;34m\u001b[0m\u001b[0;34m\u001b[0m\u001b[0m\n\u001b[1;32m    990\u001b[0m         \u001b[0mloc\u001b[0m \u001b[0;34m=\u001b[0m \u001b[0mself\u001b[0m\u001b[0;34m.\u001b[0m\u001b[0mindex\u001b[0m\u001b[0;34m.\u001b[0m\u001b[0mget_loc\u001b[0m\u001b[0;34m(\u001b[0m\u001b[0mlabel\u001b[0m\u001b[0;34m)\u001b[0m\u001b[0;34m\u001b[0m\u001b[0;34m\u001b[0m\u001b[0m\n\u001b[0;32m--> 991\u001b[0;31m         \u001b[0;32mreturn\u001b[0m \u001b[0mself\u001b[0m\u001b[0;34m.\u001b[0m\u001b[0mindex\u001b[0m\u001b[0;34m.\u001b[0m\u001b[0m_get_values_for_loc\u001b[0m\u001b[0;34m(\u001b[0m\u001b[0mself\u001b[0m\u001b[0;34m,\u001b[0m \u001b[0mloc\u001b[0m\u001b[0;34m,\u001b[0m \u001b[0mlabel\u001b[0m\u001b[0;34m)\u001b[0m\u001b[0;34m\u001b[0m\u001b[0;34m\u001b[0m\u001b[0m\n\u001b[0m\u001b[1;32m    992\u001b[0m \u001b[0;34m\u001b[0m\u001b[0m\n\u001b[1;32m    993\u001b[0m     \u001b[0;32mdef\u001b[0m \u001b[0m__setitem__\u001b[0m\u001b[0;34m(\u001b[0m\u001b[0mself\u001b[0m\u001b[0;34m,\u001b[0m \u001b[0mkey\u001b[0m\u001b[0;34m,\u001b[0m \u001b[0mvalue\u001b[0m\u001b[0;34m)\u001b[0m\u001b[0;34m:\u001b[0m\u001b[0;34m\u001b[0m\u001b[0;34m\u001b[0m\u001b[0m\n",
            "\u001b[0;32m/usr/local/lib/python3.7/dist-packages/pandas/core/indexes/base.py\u001b[0m in \u001b[0;36m_get_values_for_loc\u001b[0;34m(self, series, loc, key)\u001b[0m\n\u001b[1;32m   4634\u001b[0m         \"\"\"\n\u001b[1;32m   4635\u001b[0m         \u001b[0;32mif\u001b[0m \u001b[0mis_integer\u001b[0m\u001b[0;34m(\u001b[0m\u001b[0mloc\u001b[0m\u001b[0;34m)\u001b[0m\u001b[0;34m:\u001b[0m\u001b[0;34m\u001b[0m\u001b[0;34m\u001b[0m\u001b[0m\n\u001b[0;32m-> 4636\u001b[0;31m             \u001b[0;32mreturn\u001b[0m \u001b[0mseries\u001b[0m\u001b[0;34m.\u001b[0m\u001b[0m_values\u001b[0m\u001b[0;34m[\u001b[0m\u001b[0mloc\u001b[0m\u001b[0;34m]\u001b[0m\u001b[0;34m\u001b[0m\u001b[0;34m\u001b[0m\u001b[0m\n\u001b[0m\u001b[1;32m   4637\u001b[0m \u001b[0;34m\u001b[0m\u001b[0m\n\u001b[1;32m   4638\u001b[0m         \u001b[0;32mreturn\u001b[0m \u001b[0mseries\u001b[0m\u001b[0;34m.\u001b[0m\u001b[0miloc\u001b[0m\u001b[0;34m[\u001b[0m\u001b[0mloc\u001b[0m\u001b[0;34m]\u001b[0m\u001b[0;34m\u001b[0m\u001b[0;34m\u001b[0m\u001b[0m\n",
            "\u001b[0;31mKeyboardInterrupt\u001b[0m: "
          ]
        }
      ]
    },
    {
      "cell_type": "code",
      "metadata": {
        "colab": {
          "base_uri": "https://localhost:8080/"
        },
        "id": "qlUWLFkwCdc0",
        "outputId": "d32bd22e-f542-41f3-a48f-58036420412d"
      },
      "source": [
        "len(transactions_buy)\n",
        "len(transactions_click)"
      ],
      "execution_count": null,
      "outputs": [
        {
          "output_type": "execute_result",
          "data": {
            "text/plain": [
              "87318"
            ]
          },
          "metadata": {
            "tags": []
          },
          "execution_count": 13
        }
      ]
    },
    {
      "cell_type": "code",
      "metadata": {
        "colab": {
          "base_uri": "https://localhost:8080/",
          "height": 210
        },
        "id": "SM-xjtM0D0DV",
        "outputId": "1d3e04dc-6968-4d23-e790-33f6a71800c3"
      },
      "source": [
        "#Compute binary databases\n",
        "tr_enc = TransactionEncoder()\n",
        "#buys\n",
        "trans_array_buy = tr_enc.fit(transactions_buy).transform(transactions_buy)\n",
        "binary_database_buy = pd.DataFrame(trans_array_buy, columns=tr_enc.columns_)\n",
        "binary_database_buy.head(3)\n",
        "#clicks\n",
        "trans_array_click = tr_enc.fit(transactions_click).transform(transactions_click)\n",
        "binary_database_click = pd.DataFrame(trans_array_click, columns=tr_enc.columns_)\n",
        "binary_database_click.head(3)"
      ],
      "execution_count": null,
      "outputs": [
        {
          "output_type": "execute_result",
          "data": {
            "text/html": [
              "<div>\n",
              "<style scoped>\n",
              "    .dataframe tbody tr th:only-of-type {\n",
              "        vertical-align: middle;\n",
              "    }\n",
              "\n",
              "    .dataframe tbody tr th {\n",
              "        vertical-align: top;\n",
              "    }\n",
              "\n",
              "    .dataframe thead th {\n",
              "        text-align: right;\n",
              "    }\n",
              "</style>\n",
              "<table border=\"1\" class=\"dataframe\">\n",
              "  <thead>\n",
              "    <tr style=\"text-align: right;\">\n",
              "      <th></th>\n",
              "      <th>Acoustic</th>\n",
              "      <th>Air Conditioner</th>\n",
              "      <th>Air Heater</th>\n",
              "      <th>Alarm</th>\n",
              "      <th>Anti Freeze</th>\n",
              "      <th>Bag</th>\n",
              "      <th>Bath</th>\n",
              "      <th>Battery</th>\n",
              "      <th>Bed</th>\n",
              "      <th>Bicycle</th>\n",
              "      <th>Blanket</th>\n",
              "      <th>Blender</th>\n",
              "      <th>Bottles</th>\n",
              "      <th>Cabinet</th>\n",
              "      <th>Calculator</th>\n",
              "      <th>Camera</th>\n",
              "      <th>Carriage</th>\n",
              "      <th>Cartrige</th>\n",
              "      <th>Cdrw</th>\n",
              "      <th>Chair</th>\n",
              "      <th>Climate</th>\n",
              "      <th>Clocks</th>\n",
              "      <th>Coffee Grinder</th>\n",
              "      <th>Coffee Machine</th>\n",
              "      <th>Compressor</th>\n",
              "      <th>Cooler</th>\n",
              "      <th>Costume</th>\n",
              "      <th>Cpu</th>\n",
              "      <th>Cultivator</th>\n",
              "      <th>Desktop</th>\n",
              "      <th>Diapers</th>\n",
              "      <th>Dictaphone</th>\n",
              "      <th>Dishwasher</th>\n",
              "      <th>Diving</th>\n",
              "      <th>Dolls</th>\n",
              "      <th>Drill</th>\n",
              "      <th>Ebooks</th>\n",
              "      <th>Fan</th>\n",
              "      <th>Faucet</th>\n",
              "      <th>Fryer</th>\n",
              "      <th>...</th>\n",
              "      <th>Scanner</th>\n",
              "      <th>Screw</th>\n",
              "      <th>Sewing Machine</th>\n",
              "      <th>Shelving</th>\n",
              "      <th>Shirt</th>\n",
              "      <th>Shoes</th>\n",
              "      <th>Skates</th>\n",
              "      <th>Ski</th>\n",
              "      <th>Smartphone</th>\n",
              "      <th>Snowboard</th>\n",
              "      <th>Sock</th>\n",
              "      <th>Sofa</th>\n",
              "      <th>Sound Card</th>\n",
              "      <th>Stapler</th>\n",
              "      <th>Steam Cleaner</th>\n",
              "      <th>Steam Cooker</th>\n",
              "      <th>Subwoofer</th>\n",
              "      <th>Swing</th>\n",
              "      <th>Table</th>\n",
              "      <th>Tablet</th>\n",
              "      <th>Telephone</th>\n",
              "      <th>Tennis</th>\n",
              "      <th>Toilet</th>\n",
              "      <th>Tonometer</th>\n",
              "      <th>Toster</th>\n",
              "      <th>Toys</th>\n",
              "      <th>Trainer</th>\n",
              "      <th>Trousers</th>\n",
              "      <th>Tshirt</th>\n",
              "      <th>Tv</th>\n",
              "      <th>Umbrella</th>\n",
              "      <th>Vacuum</th>\n",
              "      <th>Video</th>\n",
              "      <th>Videocards</th>\n",
              "      <th>Videoregister</th>\n",
              "      <th>Washer</th>\n",
              "      <th>Water Heater</th>\n",
              "      <th>Watering</th>\n",
              "      <th>Weather Station</th>\n",
              "      <th>Welding</th>\n",
              "    </tr>\n",
              "  </thead>\n",
              "  <tbody>\n",
              "    <tr>\n",
              "      <th>0</th>\n",
              "      <td>False</td>\n",
              "      <td>False</td>\n",
              "      <td>False</td>\n",
              "      <td>False</td>\n",
              "      <td>False</td>\n",
              "      <td>False</td>\n",
              "      <td>False</td>\n",
              "      <td>False</td>\n",
              "      <td>False</td>\n",
              "      <td>False</td>\n",
              "      <td>False</td>\n",
              "      <td>True</td>\n",
              "      <td>False</td>\n",
              "      <td>False</td>\n",
              "      <td>False</td>\n",
              "      <td>False</td>\n",
              "      <td>False</td>\n",
              "      <td>False</td>\n",
              "      <td>False</td>\n",
              "      <td>False</td>\n",
              "      <td>False</td>\n",
              "      <td>False</td>\n",
              "      <td>False</td>\n",
              "      <td>False</td>\n",
              "      <td>False</td>\n",
              "      <td>False</td>\n",
              "      <td>False</td>\n",
              "      <td>False</td>\n",
              "      <td>False</td>\n",
              "      <td>False</td>\n",
              "      <td>False</td>\n",
              "      <td>False</td>\n",
              "      <td>False</td>\n",
              "      <td>False</td>\n",
              "      <td>False</td>\n",
              "      <td>False</td>\n",
              "      <td>False</td>\n",
              "      <td>False</td>\n",
              "      <td>False</td>\n",
              "      <td>False</td>\n",
              "      <td>...</td>\n",
              "      <td>False</td>\n",
              "      <td>False</td>\n",
              "      <td>False</td>\n",
              "      <td>False</td>\n",
              "      <td>False</td>\n",
              "      <td>False</td>\n",
              "      <td>False</td>\n",
              "      <td>False</td>\n",
              "      <td>False</td>\n",
              "      <td>False</td>\n",
              "      <td>False</td>\n",
              "      <td>False</td>\n",
              "      <td>False</td>\n",
              "      <td>False</td>\n",
              "      <td>False</td>\n",
              "      <td>False</td>\n",
              "      <td>False</td>\n",
              "      <td>False</td>\n",
              "      <td>False</td>\n",
              "      <td>False</td>\n",
              "      <td>False</td>\n",
              "      <td>False</td>\n",
              "      <td>False</td>\n",
              "      <td>False</td>\n",
              "      <td>False</td>\n",
              "      <td>False</td>\n",
              "      <td>False</td>\n",
              "      <td>False</td>\n",
              "      <td>False</td>\n",
              "      <td>False</td>\n",
              "      <td>False</td>\n",
              "      <td>False</td>\n",
              "      <td>False</td>\n",
              "      <td>False</td>\n",
              "      <td>False</td>\n",
              "      <td>False</td>\n",
              "      <td>False</td>\n",
              "      <td>False</td>\n",
              "      <td>False</td>\n",
              "      <td>False</td>\n",
              "    </tr>\n",
              "    <tr>\n",
              "      <th>1</th>\n",
              "      <td>False</td>\n",
              "      <td>False</td>\n",
              "      <td>False</td>\n",
              "      <td>False</td>\n",
              "      <td>False</td>\n",
              "      <td>True</td>\n",
              "      <td>False</td>\n",
              "      <td>False</td>\n",
              "      <td>False</td>\n",
              "      <td>False</td>\n",
              "      <td>False</td>\n",
              "      <td>False</td>\n",
              "      <td>False</td>\n",
              "      <td>False</td>\n",
              "      <td>False</td>\n",
              "      <td>False</td>\n",
              "      <td>False</td>\n",
              "      <td>False</td>\n",
              "      <td>False</td>\n",
              "      <td>False</td>\n",
              "      <td>False</td>\n",
              "      <td>False</td>\n",
              "      <td>False</td>\n",
              "      <td>False</td>\n",
              "      <td>False</td>\n",
              "      <td>False</td>\n",
              "      <td>False</td>\n",
              "      <td>False</td>\n",
              "      <td>False</td>\n",
              "      <td>False</td>\n",
              "      <td>False</td>\n",
              "      <td>False</td>\n",
              "      <td>False</td>\n",
              "      <td>False</td>\n",
              "      <td>False</td>\n",
              "      <td>False</td>\n",
              "      <td>False</td>\n",
              "      <td>False</td>\n",
              "      <td>False</td>\n",
              "      <td>False</td>\n",
              "      <td>...</td>\n",
              "      <td>False</td>\n",
              "      <td>False</td>\n",
              "      <td>False</td>\n",
              "      <td>False</td>\n",
              "      <td>False</td>\n",
              "      <td>False</td>\n",
              "      <td>False</td>\n",
              "      <td>False</td>\n",
              "      <td>False</td>\n",
              "      <td>False</td>\n",
              "      <td>False</td>\n",
              "      <td>False</td>\n",
              "      <td>False</td>\n",
              "      <td>False</td>\n",
              "      <td>False</td>\n",
              "      <td>False</td>\n",
              "      <td>False</td>\n",
              "      <td>False</td>\n",
              "      <td>False</td>\n",
              "      <td>False</td>\n",
              "      <td>False</td>\n",
              "      <td>False</td>\n",
              "      <td>False</td>\n",
              "      <td>False</td>\n",
              "      <td>False</td>\n",
              "      <td>False</td>\n",
              "      <td>False</td>\n",
              "      <td>False</td>\n",
              "      <td>False</td>\n",
              "      <td>False</td>\n",
              "      <td>False</td>\n",
              "      <td>False</td>\n",
              "      <td>False</td>\n",
              "      <td>False</td>\n",
              "      <td>False</td>\n",
              "      <td>False</td>\n",
              "      <td>False</td>\n",
              "      <td>False</td>\n",
              "      <td>False</td>\n",
              "      <td>False</td>\n",
              "    </tr>\n",
              "    <tr>\n",
              "      <th>2</th>\n",
              "      <td>False</td>\n",
              "      <td>False</td>\n",
              "      <td>False</td>\n",
              "      <td>False</td>\n",
              "      <td>False</td>\n",
              "      <td>False</td>\n",
              "      <td>False</td>\n",
              "      <td>False</td>\n",
              "      <td>False</td>\n",
              "      <td>False</td>\n",
              "      <td>False</td>\n",
              "      <td>False</td>\n",
              "      <td>False</td>\n",
              "      <td>False</td>\n",
              "      <td>False</td>\n",
              "      <td>False</td>\n",
              "      <td>False</td>\n",
              "      <td>False</td>\n",
              "      <td>False</td>\n",
              "      <td>False</td>\n",
              "      <td>False</td>\n",
              "      <td>True</td>\n",
              "      <td>False</td>\n",
              "      <td>False</td>\n",
              "      <td>False</td>\n",
              "      <td>False</td>\n",
              "      <td>False</td>\n",
              "      <td>False</td>\n",
              "      <td>False</td>\n",
              "      <td>False</td>\n",
              "      <td>False</td>\n",
              "      <td>False</td>\n",
              "      <td>False</td>\n",
              "      <td>False</td>\n",
              "      <td>False</td>\n",
              "      <td>False</td>\n",
              "      <td>False</td>\n",
              "      <td>False</td>\n",
              "      <td>False</td>\n",
              "      <td>False</td>\n",
              "      <td>...</td>\n",
              "      <td>False</td>\n",
              "      <td>False</td>\n",
              "      <td>False</td>\n",
              "      <td>False</td>\n",
              "      <td>False</td>\n",
              "      <td>False</td>\n",
              "      <td>True</td>\n",
              "      <td>False</td>\n",
              "      <td>False</td>\n",
              "      <td>False</td>\n",
              "      <td>False</td>\n",
              "      <td>False</td>\n",
              "      <td>False</td>\n",
              "      <td>False</td>\n",
              "      <td>False</td>\n",
              "      <td>False</td>\n",
              "      <td>False</td>\n",
              "      <td>False</td>\n",
              "      <td>False</td>\n",
              "      <td>False</td>\n",
              "      <td>False</td>\n",
              "      <td>False</td>\n",
              "      <td>False</td>\n",
              "      <td>False</td>\n",
              "      <td>False</td>\n",
              "      <td>False</td>\n",
              "      <td>False</td>\n",
              "      <td>False</td>\n",
              "      <td>False</td>\n",
              "      <td>False</td>\n",
              "      <td>False</td>\n",
              "      <td>False</td>\n",
              "      <td>False</td>\n",
              "      <td>False</td>\n",
              "      <td>False</td>\n",
              "      <td>False</td>\n",
              "      <td>False</td>\n",
              "      <td>False</td>\n",
              "      <td>False</td>\n",
              "      <td>False</td>\n",
              "    </tr>\n",
              "  </tbody>\n",
              "</table>\n",
              "<p>3 rows × 121 columns</p>\n",
              "</div>"
            ],
            "text/plain": [
              "   Acoustic  Air Conditioner  Air Heater  ...  Watering  Weather Station  Welding\n",
              "0     False            False       False  ...     False            False    False\n",
              "1     False            False       False  ...     False            False    False\n",
              "2     False            False       False  ...     False            False    False\n",
              "\n",
              "[3 rows x 121 columns]"
            ]
          },
          "metadata": {
            "tags": []
          },
          "execution_count": 14
        }
      ]
    },
    {
      "cell_type": "code",
      "metadata": {
        "id": "6Ewf1HtdENP_"
      },
      "source": [
        "#Compute itemsets min_support = 1% apriori and association rules\n",
        "#buys\n",
        "frequent_itemsets_buy = apriori(binary_database_buy, min_support=0.01, use_colnames=True)\n",
        "frequent_itemsets_buy\n",
        "#Rules grau 1\n",
        "rules1_buy = association_rules(frequent_itemsets_buy, metric=\"confidence\", min_threshold=0.01)\n",
        "#rules1_buy\n",
        "# add new column length\n",
        "frequent_itemsets_buy['length'] = frequent_itemsets_buy['itemsets'].apply(lambda x: len(x))\n",
        "# filter using pattern length = 2\n",
        "frequent_2_itemsets_buy = frequent_itemsets_buy[frequent_itemsets_buy['length'] >= 2].reset_index(drop=True)\n",
        "#frequent_2_itemsets_buy\n",
        "\n",
        "#clicks\n",
        "frequent_itemsets_click = apriori(binary_database_click, min_support=0.01, use_colnames=True)\n",
        "frequent_itemsets_click\n",
        "#Rules grau 1\n",
        "rules1_click = association_rules(frequent_itemsets_click, metric=\"confidence\", min_threshold=0.01)\n",
        "#rules1_click\n",
        "# add new column length\n",
        "frequent_itemsets_click['length'] = frequent_itemsets_click['itemsets'].apply(lambda x: len(x))\n",
        "# filter using pattern length = 2\n",
        "frequent_2_itemsets_click = frequent_itemsets_click[frequent_itemsets_click['length'] >= 2].reset_index(drop=True)\n",
        "#frequent_2_itemsets_click\n"
      ],
      "execution_count": null,
      "outputs": []
    },
    {
      "cell_type": "code",
      "metadata": {
        "id": "QhIdLvIxi4Sb",
        "colab": {
          "base_uri": "https://localhost:8080/",
          "height": 426
        },
        "outputId": "481eab6c-782b-4a4f-8238-100574fdd9b7"
      },
      "source": [
        "#FP-Growth é melhori que apriori\n",
        "#buys\n",
        "frequent_itemsets_fpg_buy=fpgrowth(binary_database_buy, min_support=0.01,use_colnames=True)\n",
        "frequent_itemsets_fpg_buy\n",
        "# Generate association rules with confidence >= 90%\n",
        "\n",
        "rules_buy = association_rules(frequent_itemsets_fpg_buy, metric = \"confidence\", min_threshold=0.01)\n",
        "rules_buy\n",
        "#clicks\n",
        "frequent_itemsets_fpg_click=fpgrowth(binary_database_click, min_support=0.01,use_colnames=True)\n",
        "frequent_itemsets_fpg_click\n",
        "# Generate association rules with confidence >= 90%\n",
        "\n",
        "rules_click = association_rules(frequent_itemsets_fpg_click, metric = \"confidence\", min_threshold=0.01)\n",
        "rules_click"
      ],
      "execution_count": null,
      "outputs": [
        {
          "output_type": "execute_result",
          "data": {
            "text/html": [
              "<div>\n",
              "<style scoped>\n",
              "    .dataframe tbody tr th:only-of-type {\n",
              "        vertical-align: middle;\n",
              "    }\n",
              "\n",
              "    .dataframe tbody tr th {\n",
              "        vertical-align: top;\n",
              "    }\n",
              "\n",
              "    .dataframe thead th {\n",
              "        text-align: right;\n",
              "    }\n",
              "</style>\n",
              "<table border=\"1\" class=\"dataframe\">\n",
              "  <thead>\n",
              "    <tr style=\"text-align: right;\">\n",
              "      <th></th>\n",
              "      <th>antecedents</th>\n",
              "      <th>consequents</th>\n",
              "      <th>antecedent support</th>\n",
              "      <th>consequent support</th>\n",
              "      <th>support</th>\n",
              "      <th>confidence</th>\n",
              "      <th>lift</th>\n",
              "      <th>leverage</th>\n",
              "      <th>conviction</th>\n",
              "    </tr>\n",
              "  </thead>\n",
              "  <tbody>\n",
              "    <tr>\n",
              "      <th>0</th>\n",
              "      <td>(Fan)</td>\n",
              "      <td>(Memory)</td>\n",
              "      <td>0.054800</td>\n",
              "      <td>0.133695</td>\n",
              "      <td>0.029169</td>\n",
              "      <td>0.532288</td>\n",
              "      <td>3.981357</td>\n",
              "      <td>0.021843</td>\n",
              "      <td>1.852220</td>\n",
              "    </tr>\n",
              "    <tr>\n",
              "      <th>1</th>\n",
              "      <td>(Memory)</td>\n",
              "      <td>(Fan)</td>\n",
              "      <td>0.133695</td>\n",
              "      <td>0.054800</td>\n",
              "      <td>0.029169</td>\n",
              "      <td>0.218177</td>\n",
              "      <td>3.981357</td>\n",
              "      <td>0.021843</td>\n",
              "      <td>1.208970</td>\n",
              "    </tr>\n",
              "    <tr>\n",
              "      <th>2</th>\n",
              "      <td>(Fan)</td>\n",
              "      <td>(Blender)</td>\n",
              "      <td>0.054800</td>\n",
              "      <td>0.145136</td>\n",
              "      <td>0.010834</td>\n",
              "      <td>0.197701</td>\n",
              "      <td>1.362177</td>\n",
              "      <td>0.002881</td>\n",
              "      <td>1.065518</td>\n",
              "    </tr>\n",
              "    <tr>\n",
              "      <th>3</th>\n",
              "      <td>(Blender)</td>\n",
              "      <td>(Fan)</td>\n",
              "      <td>0.145136</td>\n",
              "      <td>0.054800</td>\n",
              "      <td>0.010834</td>\n",
              "      <td>0.074647</td>\n",
              "      <td>1.362177</td>\n",
              "      <td>0.002881</td>\n",
              "      <td>1.021448</td>\n",
              "    </tr>\n",
              "    <tr>\n",
              "      <th>4</th>\n",
              "      <td>(Fan)</td>\n",
              "      <td>(Tennis)</td>\n",
              "      <td>0.054800</td>\n",
              "      <td>0.102213</td>\n",
              "      <td>0.015083</td>\n",
              "      <td>0.275235</td>\n",
              "      <td>2.692771</td>\n",
              "      <td>0.009482</td>\n",
              "      <td>1.238729</td>\n",
              "    </tr>\n",
              "    <tr>\n",
              "      <th>5</th>\n",
              "      <td>(Tennis)</td>\n",
              "      <td>(Fan)</td>\n",
              "      <td>0.102213</td>\n",
              "      <td>0.054800</td>\n",
              "      <td>0.015083</td>\n",
              "      <td>0.147563</td>\n",
              "      <td>2.692771</td>\n",
              "      <td>0.009482</td>\n",
              "      <td>1.108821</td>\n",
              "    </tr>\n",
              "    <tr>\n",
              "      <th>6</th>\n",
              "      <td>(Blender)</td>\n",
              "      <td>(Memory)</td>\n",
              "      <td>0.145136</td>\n",
              "      <td>0.133695</td>\n",
              "      <td>0.028230</td>\n",
              "      <td>0.194508</td>\n",
              "      <td>1.454861</td>\n",
              "      <td>0.008826</td>\n",
              "      <td>1.075498</td>\n",
              "    </tr>\n",
              "    <tr>\n",
              "      <th>7</th>\n",
              "      <td>(Memory)</td>\n",
              "      <td>(Blender)</td>\n",
              "      <td>0.133695</td>\n",
              "      <td>0.145136</td>\n",
              "      <td>0.028230</td>\n",
              "      <td>0.211153</td>\n",
              "      <td>1.454861</td>\n",
              "      <td>0.008826</td>\n",
              "      <td>1.083688</td>\n",
              "    </tr>\n",
              "    <tr>\n",
              "      <th>8</th>\n",
              "      <td>(Memory)</td>\n",
              "      <td>(Tennis)</td>\n",
              "      <td>0.133695</td>\n",
              "      <td>0.102213</td>\n",
              "      <td>0.017030</td>\n",
              "      <td>0.127377</td>\n",
              "      <td>1.246197</td>\n",
              "      <td>0.003364</td>\n",
              "      <td>1.028838</td>\n",
              "    </tr>\n",
              "    <tr>\n",
              "      <th>9</th>\n",
              "      <td>(Tennis)</td>\n",
              "      <td>(Memory)</td>\n",
              "      <td>0.102213</td>\n",
              "      <td>0.133695</td>\n",
              "      <td>0.017030</td>\n",
              "      <td>0.166611</td>\n",
              "      <td>1.246197</td>\n",
              "      <td>0.003364</td>\n",
              "      <td>1.039496</td>\n",
              "    </tr>\n",
              "    <tr>\n",
              "      <th>10</th>\n",
              "      <td>(Blender)</td>\n",
              "      <td>(Tennis)</td>\n",
              "      <td>0.145136</td>\n",
              "      <td>0.102213</td>\n",
              "      <td>0.011361</td>\n",
              "      <td>0.078277</td>\n",
              "      <td>0.765822</td>\n",
              "      <td>-0.003474</td>\n",
              "      <td>0.974031</td>\n",
              "    </tr>\n",
              "    <tr>\n",
              "      <th>11</th>\n",
              "      <td>(Tennis)</td>\n",
              "      <td>(Blender)</td>\n",
              "      <td>0.102213</td>\n",
              "      <td>0.145136</td>\n",
              "      <td>0.011361</td>\n",
              "      <td>0.111148</td>\n",
              "      <td>0.765822</td>\n",
              "      <td>-0.003474</td>\n",
              "      <td>0.961762</td>\n",
              "    </tr>\n",
              "  </tbody>\n",
              "</table>\n",
              "</div>"
            ],
            "text/plain": [
              "   antecedents consequents  antecedent support  ...      lift  leverage  conviction\n",
              "0        (Fan)    (Memory)            0.054800  ...  3.981357  0.021843    1.852220\n",
              "1     (Memory)       (Fan)            0.133695  ...  3.981357  0.021843    1.208970\n",
              "2        (Fan)   (Blender)            0.054800  ...  1.362177  0.002881    1.065518\n",
              "3    (Blender)       (Fan)            0.145136  ...  1.362177  0.002881    1.021448\n",
              "4        (Fan)    (Tennis)            0.054800  ...  2.692771  0.009482    1.238729\n",
              "5     (Tennis)       (Fan)            0.102213  ...  2.692771  0.009482    1.108821\n",
              "6    (Blender)    (Memory)            0.145136  ...  1.454861  0.008826    1.075498\n",
              "7     (Memory)   (Blender)            0.133695  ...  1.454861  0.008826    1.083688\n",
              "8     (Memory)    (Tennis)            0.133695  ...  1.246197  0.003364    1.028838\n",
              "9     (Tennis)    (Memory)            0.102213  ...  1.246197  0.003364    1.039496\n",
              "10   (Blender)    (Tennis)            0.145136  ...  0.765822 -0.003474    0.974031\n",
              "11    (Tennis)   (Blender)            0.102213  ...  0.765822 -0.003474    0.961762\n",
              "\n",
              "[12 rows x 9 columns]"
            ]
          },
          "metadata": {
            "tags": []
          },
          "execution_count": 16
        }
      ]
    },
    {
      "cell_type": "markdown",
      "metadata": {
        "id": "Xni6Rit9N0TS"
      },
      "source": [
        "### 1.3. Generate Association Rules from Frequent Itemsets"
      ]
    },
    {
      "cell_type": "markdown",
      "metadata": {
        "id": "tfdeOt6uN0TT"
      },
      "source": [
        "* Generate association rules with a choosed value (C) for minimum confidence. \n",
        "* Generate association rules with a choosed value (L) for minimum lift. \n",
        "* Generate association rules with both confidence >= C% and lift >= L.\n",
        "* Change C and L when it makes sense and discuss the results."
      ]
    },
    {
      "cell_type": "markdown",
      "metadata": {
        "id": "611Q1RXeN0TU"
      },
      "source": [
        "### 1.4. Take a Look at Maximal Patterns: Compute Maximal Frequent Itemsets"
      ]
    },
    {
      "cell_type": "code",
      "metadata": {
        "id": "vFKZRaiNN0TV"
      },
      "source": [
        ""
      ],
      "execution_count": null,
      "outputs": []
    },
    {
      "cell_type": "markdown",
      "metadata": {
        "id": "hCjPFDkhN0TW"
      },
      "source": [
        "### 1.5. Conclusions "
      ]
    },
    {
      "cell_type": "code",
      "metadata": {
        "id": "wckLxbQ5N0TW"
      },
      "source": [
        ""
      ],
      "execution_count": null,
      "outputs": []
    },
    {
      "cell_type": "markdown",
      "metadata": {
        "id": "K8AjOWwaN0TW"
      },
      "source": [
        "# 2. Week vs Weekend Purchases"
      ]
    },
    {
      "cell_type": "markdown",
      "metadata": {
        "id": "YNinPpoDN0TX"
      },
      "source": [
        "In this part of the project you should analyse the consumption patterns during the week vs during the weekeed.\n",
        "\n",
        "**In what follows keep the following question in mind and be creative!**\n",
        "\n",
        "1. The most interesting products are the same during the week and the weekend? \n",
        "2. What are the most bought products during the week? And during the weekend?\n",
        "3. There are differences between the sets of products bought during the week and the weekend?\n",
        "4. Can you find different associations highliting that when people click in a product/set of products also buy this product(s) during the week vs the weekend?\n",
        "5. Discuss the results obtained for the week sessions vs weekend sessions."
      ]
    },
    {
      "cell_type": "markdown",
      "metadata": {
        "id": "3rqmzoYiN0TX"
      },
      "source": [
        "### 2.1. Load and Preprocess Data\n",
        "\n",
        " **Product quantities should not be considered.**"
      ]
    },
    {
      "cell_type": "code",
      "metadata": {
        "id": "KUFNubG3N0TY"
      },
      "source": [
        ""
      ],
      "execution_count": null,
      "outputs": []
    },
    {
      "cell_type": "markdown",
      "metadata": {
        "id": "YQPHNWJiN0TY"
      },
      "source": [
        "### 2.2. Compute Frequent Itemsets"
      ]
    },
    {
      "cell_type": "markdown",
      "metadata": {
        "id": "36ZKu4VfN0TY"
      },
      "source": [
        "* Compute frequent itemsets considering a minimum support of X%. \n",
        "* Present frequent itemsets organized by length (number of items). \n",
        "* List frequent 1-itemsets, 2-itemsets, 3-itemsets, etc with support of at least Y%.\n",
        "* Change X and Y when it makes sense and discuss the results."
      ]
    },
    {
      "cell_type": "code",
      "metadata": {
        "id": "tmX6B6fNN0TY"
      },
      "source": [
        ""
      ],
      "execution_count": null,
      "outputs": []
    },
    {
      "cell_type": "markdown",
      "metadata": {
        "id": "fZrOgnotN0TY"
      },
      "source": [
        "### 2.3. Generate Association Rules from Frequent Itemsets"
      ]
    },
    {
      "cell_type": "markdown",
      "metadata": {
        "id": "JPxat6z9N0TY"
      },
      "source": [
        "* Generate association rules with a choosed value (C) for minimum confidence. \n",
        "* Generate association rules with a choosed value (L) for minimum lift. \n",
        "* Generate association rules with both confidence >= C% and lift >= L.\n",
        "* Change C and L when it makes sense and discuss the results."
      ]
    },
    {
      "cell_type": "code",
      "metadata": {
        "id": "wK5yk2o6N0TZ"
      },
      "source": [
        ""
      ],
      "execution_count": null,
      "outputs": []
    },
    {
      "cell_type": "markdown",
      "metadata": {
        "id": "5NpUVD7RN0Ta"
      },
      "source": [
        "### 2.4. Conclusions "
      ]
    },
    {
      "cell_type": "markdown",
      "metadata": {
        "id": "Dq4kYJZ2N0Ta"
      },
      "source": [
        "# 3. [Only Groups of 3] Spring vs Summer Purchases"
      ]
    },
    {
      "cell_type": "markdown",
      "metadata": {
        "id": "M9p1BNhLN0Ta"
      },
      "source": [
        "In this part of the project you should analyse the consumption patterns during the Spring months (April and May) vs Summer months (June and July).\n",
        "\n",
        "**In what follows keep the following question in mind and be creative!**\n",
        "\n",
        "1. The most interesting products are the same during the Spring and the Summer? \n",
        "2. What are the most bought products during the Spring? And during the Summer?\n",
        "3. There are differences between the sets of products bought during the Spring and the Summer?\n",
        "4. Can you find different associations highliting that when people click in a product/set of products also buy this product(s) during the Spring vs the Summer?\n",
        "5. Discuss the results obtained for the Spring sessions vs Summer sessions."
      ]
    },
    {
      "cell_type": "markdown",
      "metadata": {
        "id": "6_dXMFZEN0Ta"
      },
      "source": [
        "### 3.1. Load and Preprocess Data\n",
        "\n",
        " **Product quantities should not be considered.**"
      ]
    },
    {
      "cell_type": "code",
      "metadata": {
        "id": "n-Y06iJAN0Ta"
      },
      "source": [
        ""
      ],
      "execution_count": null,
      "outputs": []
    },
    {
      "cell_type": "markdown",
      "metadata": {
        "id": "bU3Pkq81N0Tb"
      },
      "source": [
        "### 3.2. Compute Frequent Itemsets"
      ]
    },
    {
      "cell_type": "markdown",
      "metadata": {
        "id": "YFfigBw4N0Tb"
      },
      "source": [
        "* Compute frequent itemsets considering a minimum support of X%. \n",
        "* Present frequent itemsets organized by length (number of items). \n",
        "* List frequent 1-itemsets, 2-itemsets, 3-itemsets, etc with support of at least Y%.\n",
        "* Change X and Y when it makes sense and discuss the results."
      ]
    },
    {
      "cell_type": "code",
      "metadata": {
        "id": "3EFKQA3uN0Tb"
      },
      "source": [
        ""
      ],
      "execution_count": null,
      "outputs": []
    },
    {
      "cell_type": "markdown",
      "metadata": {
        "id": "L7-5bAz4N0Tb"
      },
      "source": [
        "### 3.3. Generate Association Rules from Frequent Itemsets"
      ]
    },
    {
      "cell_type": "markdown",
      "metadata": {
        "id": "phBJzDRsN0Tc"
      },
      "source": [
        "* Generate association rules with a choosed value (C) for minimum confidence. \n",
        "* Generate association rules with a choosed value (L) for minimum lift. \n",
        "* Generate association rules with both confidence >= C% and lift >= L.\n",
        "* Change C and L when it makes sense and discuss the results."
      ]
    },
    {
      "cell_type": "code",
      "metadata": {
        "id": "emPKRX6UN0Tc"
      },
      "source": [
        ""
      ],
      "execution_count": null,
      "outputs": []
    },
    {
      "cell_type": "markdown",
      "metadata": {
        "id": "L1Ep7ZlbN0Tc"
      },
      "source": [
        "### 3.4. Conclusions "
      ]
    },
    {
      "cell_type": "markdown",
      "metadata": {
        "id": "huX6JwLPN0Tc"
      },
      "source": [
        "## 4. Conclusions\n",
        "Draw some conclusions about this project work."
      ]
    },
    {
      "cell_type": "code",
      "metadata": {
        "id": "mTELnhtnN0Td"
      },
      "source": [
        ""
      ],
      "execution_count": null,
      "outputs": []
    }
  ]
}